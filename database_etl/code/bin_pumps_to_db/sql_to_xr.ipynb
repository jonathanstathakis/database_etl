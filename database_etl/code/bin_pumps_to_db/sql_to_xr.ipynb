{
 "cells": [
  {
   "cell_type": "markdown",
   "metadata": {},
   "source": [
    "---\n",
    "title: 'SQL Database to XArray'\n",
    "description: \"Need to develop a pipeline to extract the dataset from the sql database to a NetCDF database to enable efficient downstream tensor-based operations.\"\n",
    "conclusion: \"Extraction of raw data successful. Needed to recreate the time labels across the samples due to systemic irregularities across samples. Have written the dataset netcdf to path stored in NC_DSET_PATH\"\n",
    "status: \"closed\"\n",
    "project: \"database_etl\"\n",
    "---"
   ]
  },
  {
   "cell_type": "code",
   "execution_count": null,
   "metadata": {},
   "outputs": [],
   "source": [
    "%reload_ext autoreload\n",
    "%autoreload 2\n",
    "import duckdb as db\n",
    "from database_etl.definitions import DB_PATH, NC_DSET_PATH\n",
    "from database_etl.code.sql_to_xr import load_xr_dset\n",
    "import xarray as xr\n",
    "\n",
    "# pd.Config.set_fmt_str_lengths(9999)\n",
    "# pd.Config.set_tbl_rows(9999)\n",
    "con = db.connect(DB_PATH)\n",
    "dset = load_xr_dset(con=con)\n",
    "dset"
   ]
  },
  {
   "cell_type": "code",
   "execution_count": null,
   "metadata": {},
   "outputs": [],
   "source": [
    "dset.to_netcdf(NC_DSET_PATH)"
   ]
  },
  {
   "cell_type": "code",
   "execution_count": null,
   "metadata": {},
   "outputs": [],
   "source": [
    "loaded_ds = xr.load_dataset(NC_DSET_PATH)\n",
    "loaded_ds"
   ]
  },
  {
   "cell_type": "markdown",
   "metadata": {},
   "source": [
    "Dataset looks correct, and is able to write and read to a .nc file. TH"
   ]
  }
 ],
 "metadata": {
  "kernelspec": {
   "display_name": "database-etl-SYkgHnDq-py3.12",
   "language": "python",
   "name": "python3"
  },
  "language_info": {
   "codemirror_mode": {
    "name": "ipython",
    "version": 3
   },
   "file_extension": ".py",
   "mimetype": "text/x-python",
   "name": "python",
   "nbconvert_exporter": "python",
   "pygments_lexer": "ipython3",
   "version": "3.12.2"
  }
 },
 "nbformat": 4,
 "nbformat_minor": 2
}
