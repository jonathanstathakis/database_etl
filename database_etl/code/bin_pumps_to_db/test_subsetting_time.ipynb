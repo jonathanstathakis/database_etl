{
 "cells": [
  {
   "cell_type": "code",
   "execution_count": null,
   "metadata": {},
   "outputs": [],
   "source": [
    "%reload_ext autoreload\n",
    "%autoreload 2\n",
    "\n",
    "import duckdb as db\n",
    "import polars as pl\n",
    "from database_etl.definitions import DB_PATH, RAW_DATA_LIB\n",
    "\n",
    "pl.Config.set_fmt_str_lengths(9999)\n",
    "pl.Config.set_tbl_rows(9999)\n",
    "con = db.connect(DB_PATH)\n",
    "\n",
    "image_files = list(RAW_DATA_LIB.glob(\"*.D/extract_*/data.parquet\"))\n",
    "len(image_files)"
   ]
  },
  {
   "cell_type": "code",
   "execution_count": null,
   "metadata": {},
   "outputs": [],
   "source": [
    "con.sql(\n",
    "    \"\"\"--sql\n",
    "show tables\n",
    "\"\"\"\n",
    ").pl()"
   ]
  },
  {
   "cell_type": "code",
   "execution_count": null,
   "metadata": {},
   "outputs": [],
   "source": [
    "con.sql(\n",
    "    \"\"\"--sql\n",
    "select * from image_stats limit 5\n",
    "\"\"\"\n",
    ").pl()"
   ]
  },
  {
   "cell_type": "code",
   "execution_count": null,
   "metadata": {},
   "outputs": [],
   "source": [
    "con.sql(\n",
    "    \"\"\"--sql\n",
    "select distinct mins_max from image_stats\n",
    "\"\"\"\n",
    ").pl()"
   ]
  },
  {
   "cell_type": "code",
   "execution_count": null,
   "metadata": {},
   "outputs": [],
   "source": [
    "con.sql(\n",
    "    \"\"\"--sql\n",
    "select\n",
    "    *\n",
    "from\n",
    "    image_stats\n",
    "join\n",
    "    chm\n",
    "on\n",
    "    image_stats.pk = chm.pk\n",
    "where\n",
    "    mins_max < 20\n",
    "\"\"\"\n",
    ").pl()"
   ]
  },
  {
   "cell_type": "markdown",
   "metadata": {},
   "source": [
    "# Creating Excluded Table and Adding Sample 20.\n"
   ]
  },
  {
   "cell_type": "code",
   "execution_count": null,
   "metadata": {},
   "outputs": [],
   "source": [
    "con.sql(\n",
    "    \"\"\"--sql\n",
    "create or replace table excluded (\n",
    "    pk integer primary key references chm(pk),\n",
    "    samplecode varchar unique not null,\n",
    "    reason varchar not null\n",
    ");\n",
    "insert into excluded\n",
    "    select\n",
    "        pk,\n",
    "        samplecode,\n",
    "        'aborted run' as reason\n",
    "    from\n",
    "        chm\n",
    "    where\n",
    "        pk = 61;\n",
    "create or replace view inc_chm as\n",
    "    select\n",
    "        *\n",
    "    from\n",
    "        chm\n",
    "    anti join\n",
    "        excluded\n",
    "    on\n",
    "        excluded.pk = chm.pk;\n",
    "select\n",
    "    *\n",
    "from\n",
    "    inc_chm\n",
    "where\n",
    "    pk = 61\n",
    "or\n",
    "    pk = 62\n",
    "\"\"\"\n",
    ").pl()"
   ]
  },
  {
   "cell_type": "code",
   "execution_count": null,
   "metadata": {},
   "outputs": [],
   "source": [
    "con.sql(\n",
    "    \"\"\"--sql\n",
    "describe excluded\n",
    "\"\"\"\n",
    ").pl()"
   ]
  },
  {
   "cell_type": "markdown",
   "metadata": {},
   "source": [
    "# Creating Included Image Stats (`inc_img_stats`)\n"
   ]
  },
  {
   "cell_type": "code",
   "execution_count": null,
   "metadata": {},
   "outputs": [],
   "source": [
    "# con.sql(\n",
    "#     \"\"\"--sql\n",
    "# create or replace view inc_img_stats as\n",
    "#     select\n",
    "#         *\n",
    "#     from\n",
    "#         image_stats ist\n",
    "#     anti join\n",
    "#         excluded exc\n",
    "#     on\n",
    "#         ist.pk = exc.pk;\n",
    "# select\n",
    "#     *\n",
    "# from\n",
    "#     inc_img_stats\n",
    "# limit\n",
    "#     5;\n",
    "# \"\"\"\n",
    "# ).pl()\n"
   ]
  },
  {
   "cell_type": "code",
   "execution_count": null,
   "metadata": {},
   "outputs": [],
   "source": [
    "# con.sql(\n",
    "#     \"\"\"--sql\n",
    "# select\n",
    "#     distinct mins_max\n",
    "# from\n",
    "#     inc_img_stats\n",
    "# \"\"\"\n",
    "# ).pl().pipe(display)\n"
   ]
  },
  {
   "cell_type": "code",
   "execution_count": null,
   "metadata": {},
   "outputs": [],
   "source": [
    "con.sql(\n",
    "    \"\"\"--sql\n",
    "describe inc_img_stats\n",
    "\"\"\"\n",
    ").pl()"
   ]
  },
  {
   "cell_type": "markdown",
   "metadata": {},
   "source": [
    "So when accounting for the aborted run pk = 61, all runs have the same end time - 52 mins, until the 3rd significant figure. Considering that it is one observation every 0.4 seconds, then only the first two significant figures are relevent, and thus they are the same. I presume that rounding to the second signifiant figure will make all time labels the same - this is easier than resampling."
   ]
  },
  {
   "cell_type": "code",
   "execution_count": null,
   "metadata": {},
   "outputs": [],
   "source": [
    "paths = con.sql(\n",
    "    \"\"\"--sql\n",
    "select\n",
    "    path\n",
    "from\n",
    "    inc_img_stats\n",
    "\"\"\"\n",
    ").fetchall()\n",
    "\n",
    "paths[0:5]"
   ]
  },
  {
   "cell_type": "code",
   "execution_count": null,
   "metadata": {},
   "outputs": [],
   "source": [
    "paths[0][0]"
   ]
  },
  {
   "cell_type": "code",
   "execution_count": null,
   "metadata": {},
   "outputs": [],
   "source": [
    "import pandas as pd\n",
    "\n",
    "df = pd.read_parquet(paths[0][0])\n",
    "df"
   ]
  },
  {
   "cell_type": "code",
   "execution_count": null,
   "metadata": {},
   "outputs": [],
   "source": [
    "pl.read_parquet(\n",
    "    \"/Users/jonathan/mres_thesis/database_etl/database_etl/data/raw_uv/114.D/extract_2024-09-18T212559/data.parquet\"\n",
    ")"
   ]
  },
  {
   "cell_type": "code",
   "execution_count": null,
   "metadata": {},
   "outputs": [],
   "source": [
    "df = pl.read_parquet(paths[0][0])\n",
    "df"
   ]
  }
 ],
 "metadata": {
  "kernelspec": {
   "display_name": "database-etl-SYkgHnDq-py3.12",
   "language": "python",
   "name": "python3"
  },
  "language_info": {
   "codemirror_mode": {
    "name": "ipython",
    "version": 3
   },
   "file_extension": ".py",
   "mimetype": "text/x-python",
   "name": "python",
   "nbconvert_exporter": "python",
   "pygments_lexer": "ipython3",
   "version": "3.12.2"
  }
 },
 "nbformat": 4,
 "nbformat_minor": 2
}
