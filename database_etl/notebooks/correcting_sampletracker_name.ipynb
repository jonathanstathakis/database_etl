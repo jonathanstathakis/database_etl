{
 "cells": [
  {
   "cell_type": "markdown",
   "metadata": {},
   "source": [
    "---\n",
    "project: cleaning_data_tables\n",
    "title: cleaning sampletracker wines\n",
    "cdt: 2024-09-17T12:55:31\n",
    "status: closed\n",
    "description: \"clean up of the entered sampletracker wine names with those in the ct to enable joins on those columns\n",
    "conclusion: have matched 175/190 wines with entered rows in ct. Those missing are either unidentifiable or not present in the ct database. Recommendation is to add them to an excluded list until such a time as it is worth manually adding their metadata.\"\n",
    "---\n"
   ]
  },
  {
   "cell_type": "markdown",
   "metadata": {},
   "source": [
    "unfortunately, when I was entering the samples into the tracker, I did not have a clear data structure in place. In order to acquire the metadata, I planned on joining the entered wine names with those present in the cellartracker database. Unfortunately, fuzzy joining is not a sound foundation and it was deemed necessary to replace the original names with their verified matches. This notebook produces that result. To do this, we need to get both tables, fuzzy join on the names after cleaning, inspect the results, and replace where appropriate."
   ]
  },
  {
   "cell_type": "markdown",
   "metadata": {},
   "source": [
    "# Get the Tables\n"
   ]
  },
  {
   "cell_type": "code",
   "execution_count": 2,
   "metadata": {},
   "outputs": [],
   "source": [
    "%load_ext autoreload\n",
    "%autoreload 2\n",
    "import pandas as pd\n",
    "import duckdb as db\n",
    "import polars as pl\n",
    "from database_etl.definitions import DATA_DIR\n",
    "from database_etl.etl.sql import ct\n",
    "\n",
    "pl.Config.set_fmt_str_lengths(999).set_tbl_rows(15)\n",
    "\n",
    "\n",
    "overwrite_sample_tracker = False\n",
    "overwrite_cellar_tracker = False\n",
    "raw_ct_path = DATA_DIR / \"dirty_cellar_tracker.csv\"\n",
    "dirty_st_path = str(\n",
    "    DATA_DIR / \"original_sample_tracker\" / \"original_dirty_sample_tracker.csv\"\n",
    ")\n",
    "download_new_file = False\n",
    "\n",
    "con = db.connect()\n"
   ]
  },
  {
   "cell_type": "markdown",
   "metadata": {},
   "source": [
    "move the wines with missing metadata to another table\n"
   ]
  },
  {
   "cell_type": "markdown",
   "metadata": {},
   "source": [
    "now create a sampletracker table without the missing data rows"
   ]
  },
  {
   "cell_type": "code",
   "execution_count": 3,
   "metadata": {},
   "outputs": [],
   "source": [
    "con.sql(\n",
    "    \"\"\"--sql\n",
    "create sequence pk_st_seq start 1;\n",
    "\"\"\"\n",
    ")\n"
   ]
  },
  {
   "cell_type": "markdown",
   "metadata": {},
   "source": [
    "# Create `st`"
   ]
  },
  {
   "cell_type": "code",
   "execution_count": 4,
   "metadata": {},
   "outputs": [
    {
     "data": {
      "text/html": [
       "<div><style>\n",
       ".dataframe > thead > tr,\n",
       ".dataframe > tbody > tr {\n",
       "  text-align: right;\n",
       "  white-space: pre-wrap;\n",
       "}\n",
       "</style>\n",
       "<small>shape: (5, 12)</small><table border=\"1\" class=\"dataframe\"><thead><tr><th>pk</th><th>detection</th><th>wine_key</th><th>wine</th><th>vintage</th><th>sampler</th><th>samplecode</th><th>open_date</th><th>sampled_date</th><th>added_to_cellartracker</th><th>notes</th><th>size</th></tr><tr><td>i32</td><td>str</td><td>str</td><td>str</td><td>i32</td><td>str</td><td>str</td><td>str</td><td>str</td><td>bool</td><td>str</td><td>f32</td></tr></thead><tbody><tr><td>1</td><td>&quot;raw&quot;</td><td>&quot;2016 zema estate family selection cabernet sauvignon&quot;</td><td>&quot;zema estate family selection cabernet sauvignon&quot;</td><td>2016</td><td>&quot;jonathan&quot;</td><td>&quot;00&quot;</td><td>null</td><td>null</td><td>true</td><td>&quot;freezer storage. sampled at 21:20 20230122, stored for 10h before transport to lab.&quot;</td><td>750.0</td></tr><tr><td>2</td><td>&quot;raw&quot;</td><td>&quot;2022 william downie cathedral pinot noir&quot;</td><td>&quot;william downie cathedral pinot noir&quot;</td><td>2022</td><td>&quot;jonathan&quot;</td><td>&quot;01&quot;</td><td>null</td><td>null</td><td>true</td><td>&quot;ambient 2 weeks. sampled 20230111.&quot;</td><td>750.0</td></tr><tr><td>3</td><td>&quot;raw&quot;</td><td>&quot;2021 babo chianti&quot;</td><td>&quot;babo chianti&quot;</td><td>2021</td><td>&quot;jonathan&quot;</td><td>&quot;02&quot;</td><td>null</td><td>null</td><td>true</td><td>&quot;ambient 2 weeks. sampled 20230111.&quot;</td><td>750.0</td></tr><tr><td>4</td><td>&quot;raw&quot;</td><td>&quot;2021 joshua cooper shays flat cabernet sauvignon&quot;</td><td>&quot;joshua cooper shays flat cabernet sauvignon&quot;</td><td>2021</td><td>&quot;jonathan&quot;</td><td>&quot;03&quot;</td><td>&quot;2023-02-04&quot;</td><td>null</td><td>true</td><td>null</td><td>750.0</td></tr><tr><td>5</td><td>&quot;raw&quot;</td><td>&quot;2022 william downie cathedral pinot noir&quot;</td><td>&quot;william downie cathedral pinot noir&quot;</td><td>2022</td><td>&quot;jonathan&quot;</td><td>&quot;05&quot;</td><td>&quot;2023-02-04&quot;</td><td>null</td><td>true</td><td>null</td><td>750.0</td></tr></tbody></table></div>"
      ],
      "text/plain": [
       "shape: (5, 12)\n",
       "┌─────┬───────────┬─────────────┬─────────────┬───┬─────────────┬─────────────┬────────────┬───────┐\n",
       "│ pk  ┆ detection ┆ wine_key    ┆ wine        ┆ … ┆ sampled_dat ┆ added_to_ce ┆ notes      ┆ size  │\n",
       "│ --- ┆ ---       ┆ ---         ┆ ---         ┆   ┆ e           ┆ llartracker ┆ ---        ┆ ---   │\n",
       "│ i32 ┆ str       ┆ str         ┆ str         ┆   ┆ ---         ┆ ---         ┆ str        ┆ f32   │\n",
       "│     ┆           ┆             ┆             ┆   ┆ str         ┆ bool        ┆            ┆       │\n",
       "╞═════╪═══════════╪═════════════╪═════════════╪═══╪═════════════╪═════════════╪════════════╪═══════╡\n",
       "│ 1   ┆ raw       ┆ 2016 zema   ┆ zema estate ┆ … ┆ null        ┆ true        ┆ freezer    ┆ 750.0 │\n",
       "│     ┆           ┆ estate      ┆ family      ┆   ┆             ┆             ┆ storage.   ┆       │\n",
       "│     ┆           ┆ family      ┆ selection   ┆   ┆             ┆             ┆ sampled at ┆       │\n",
       "│     ┆           ┆ selection   ┆ cabernet    ┆   ┆             ┆             ┆ 21:20      ┆       │\n",
       "│     ┆           ┆ cabernet    ┆ sauvignon   ┆   ┆             ┆             ┆ 20230122,  ┆       │\n",
       "│     ┆           ┆ sauvignon   ┆             ┆   ┆             ┆             ┆ stored for ┆       │\n",
       "│     ┆           ┆             ┆             ┆   ┆             ┆             ┆ 10h before ┆       │\n",
       "│     ┆           ┆             ┆             ┆   ┆             ┆             ┆ transport  ┆       │\n",
       "│     ┆           ┆             ┆             ┆   ┆             ┆             ┆ to lab.    ┆       │\n",
       "│ 2   ┆ raw       ┆ 2022        ┆ william     ┆ … ┆ null        ┆ true        ┆ ambient 2  ┆ 750.0 │\n",
       "│     ┆           ┆ william     ┆ downie      ┆   ┆             ┆             ┆ weeks.     ┆       │\n",
       "│     ┆           ┆ downie      ┆ cathedral   ┆   ┆             ┆             ┆ sampled    ┆       │\n",
       "│     ┆           ┆ cathedral   ┆ pinot noir  ┆   ┆             ┆             ┆ 20230111.  ┆       │\n",
       "│     ┆           ┆ pinot noir  ┆             ┆   ┆             ┆             ┆            ┆       │\n",
       "│ 3   ┆ raw       ┆ 2021 babo   ┆ babo        ┆ … ┆ null        ┆ true        ┆ ambient 2  ┆ 750.0 │\n",
       "│     ┆           ┆ chianti     ┆ chianti     ┆   ┆             ┆             ┆ weeks.     ┆       │\n",
       "│     ┆           ┆             ┆             ┆   ┆             ┆             ┆ sampled    ┆       │\n",
       "│     ┆           ┆             ┆             ┆   ┆             ┆             ┆ 20230111.  ┆       │\n",
       "│ 4   ┆ raw       ┆ 2021 joshua ┆ joshua      ┆ … ┆ null        ┆ true        ┆ null       ┆ 750.0 │\n",
       "│     ┆           ┆ cooper      ┆ cooper      ┆   ┆             ┆             ┆            ┆       │\n",
       "│     ┆           ┆ shays flat  ┆ shays flat  ┆   ┆             ┆             ┆            ┆       │\n",
       "│     ┆           ┆ cabernet    ┆ cabernet    ┆   ┆             ┆             ┆            ┆       │\n",
       "│     ┆           ┆ sauvignon   ┆ sauvignon   ┆   ┆             ┆             ┆            ┆       │\n",
       "│ 5   ┆ raw       ┆ 2022        ┆ william     ┆ … ┆ null        ┆ true        ┆ null       ┆ 750.0 │\n",
       "│     ┆           ┆ william     ┆ downie      ┆   ┆             ┆             ┆            ┆       │\n",
       "│     ┆           ┆ downie      ┆ cathedral   ┆   ┆             ┆             ┆            ┆       │\n",
       "│     ┆           ┆ cathedral   ┆ pinot noir  ┆   ┆             ┆             ┆            ┆       │\n",
       "│     ┆           ┆ pinot noir  ┆             ┆   ┆             ┆             ┆            ┆       │\n",
       "└─────┴───────────┴─────────────┴─────────────┴───┴─────────────┴─────────────┴────────────┴───────┘"
      ]
     },
     "execution_count": 4,
     "metadata": {},
     "output_type": "execute_result"
    }
   ],
   "source": [
    "con.sql(\n",
    "    f\"\"\"--sql\n",
    "drop table if exists excluded;\n",
    "drop table if exists matches cascade;\n",
    "drop table if exists st cascade;\n",
    "create or replace table st (\n",
    "    pk integer primary key,\n",
    "    detection varchar not null,\n",
    "    wine_key varchar,\n",
    "    wine varchar,\n",
    "    vintage integer,\n",
    "    sampler varchar,\n",
    "    samplecode varchar not null unique,\n",
    "    open_date varchar,\n",
    "    sampled_date varchar,\n",
    "    added_to_cellartracker bool,\n",
    "    notes varchar,\n",
    "    size float,\n",
    ");\n",
    "insert into st\n",
    "    with\n",
    "        st_loading as (\n",
    "            select\n",
    "                nextval('pk_st_seq') as pk,\n",
    "                detection,\n",
    "                cast(case when vintage is null or vintage = 'null' then '9999' else vintage end as integer) as vintage,\n",
    "                trim(lower(sampler)) as sampler,\n",
    "                trim(lower(samplecode)) as samplecode,\n",
    "                -- replace null vintages with 9999 so that string slicing operations downstream work\n",
    "                replace(\n",
    "                    replace(\n",
    "                        strip_accents(trim(lower(name))), '\"', ''\n",
    "                        ), '''', ''\n",
    "                    ) as wine,\n",
    "                open_date,\n",
    "                sampled_date,\n",
    "                case when added_to_cellartracker = 'y' then true else false end as added_to_cellartracker,\n",
    "                replace(\n",
    "                    replace(\n",
    "                        strip_accents(trim(lower(notes))), '\"', ''\n",
    "                        ), '''', ''\n",
    "                    ) as notes,\n",
    "                size,\n",
    "            from\n",
    "                read_csv('{dirty_st_path}')\n",
    "        ),\n",
    "        st_wine_key as (\n",
    "        select\n",
    "            pk,\n",
    "            detection,\n",
    "            concat(cast(vintage as integer), ' ', trim(lower(wine))) as wine_key,\n",
    "            wine,\n",
    "            vintage,\n",
    "            sampler,\n",
    "            samplecode,\n",
    "            open_date,\n",
    "            sampled_date,\n",
    "            added_to_cellartracker,\n",
    "            notes,\n",
    "            size\n",
    "        from st_loading\n",
    "        )\n",
    "select\n",
    "    pk,\n",
    "    detection,\n",
    "    wine_key,\n",
    "    wine,\n",
    "    vintage,\n",
    "    sampler,\n",
    "    samplecode,\n",
    "    open_date,\n",
    "    sampled_date,\n",
    "    added_to_cellartracker,\n",
    "    notes,\n",
    "    size\n",
    "from\n",
    "    st_wine_key;\n",
    "\"\"\"\n",
    ")\n",
    "\n",
    "con.sql(\n",
    "    \"\"\"--sql\n",
    "select\n",
    "    *\n",
    "from\n",
    "    st\n",
    "limit 5\n",
    "\"\"\"\n",
    ").pl()\n"
   ]
  },
  {
   "cell_type": "markdown",
   "metadata": {},
   "source": [
    "## Create CT"
   ]
  },
  {
   "cell_type": "code",
   "execution_count": 5,
   "metadata": {},
   "outputs": [
    {
     "data": {
      "text/html": [
       "<div><style>\n",
       ".dataframe > thead > tr,\n",
       ".dataframe > tbody > tr {\n",
       "  text-align: right;\n",
       "  white-space: pre-wrap;\n",
       "}\n",
       "</style>\n",
       "<small>shape: (3, 14)</small><table border=\"1\" class=\"dataframe\"><thead><tr><th>wine_key</th><th>size</th><th>vintage</th><th>wine</th><th>locale</th><th>country</th><th>region</th><th>subregion</th><th>appellation</th><th>producer</th><th>type</th><th>color</th><th>category</th><th>varietal</th></tr><tr><td>str</td><td>str</td><td>i32</td><td>str</td><td>str</td><td>str</td><td>str</td><td>str</td><td>str</td><td>str</td><td>str</td><td>str</td><td>str</td><td>str</td></tr></thead><tbody><tr><td>&quot;2020 agricola punica montessu isola dei nuraghi igt&quot;</td><td>&quot;750ml&quot;</td><td>2020</td><td>&quot;agricola punica montessu isola dei nuraghi igt&quot;</td><td>&quot;italy, sardinia, isola dei nuraghi igt&quot;</td><td>&quot;italy&quot;</td><td>&quot;sardinia&quot;</td><td>&quot;unknown&quot;</td><td>&quot;isola dei nuraghi igt&quot;</td><td>&quot;agricola punica&quot;</td><td>&quot;red&quot;</td><td>&quot;red&quot;</td><td>&quot;dry&quot;</td><td>&quot;carignan blend&quot;</td></tr><tr><td>&quot;2022 alkina grenache kin&quot;</td><td>&quot;750ml&quot;</td><td>2022</td><td>&quot;alkina grenache kin&quot;</td><td>&quot;australia, south australia, barossa&quot;</td><td>&quot;australia&quot;</td><td>&quot;south australia&quot;</td><td>&quot;barossa&quot;</td><td>&quot;barossa&quot;</td><td>&quot;alkina&quot;</td><td>&quot;red&quot;</td><td>&quot;red&quot;</td><td>&quot;dry&quot;</td><td>&quot;grenache&quot;</td></tr><tr><td>&quot;2017 anna maria abbona barolo&quot;</td><td>&quot;750ml&quot;</td><td>2017</td><td>&quot;anna maria abbona barolo&quot;</td><td>&quot;italy, piedmont, langhe, barolo&quot;</td><td>&quot;italy&quot;</td><td>&quot;piedmont&quot;</td><td>&quot;langhe&quot;</td><td>&quot;barolo&quot;</td><td>&quot;anna maria abbona&quot;</td><td>&quot;red&quot;</td><td>&quot;red&quot;</td><td>&quot;dry&quot;</td><td>&quot;nebbiolo&quot;</td></tr></tbody></table></div>"
      ],
      "text/plain": [
       "shape: (3, 14)\n",
       "┌────────────────┬───────┬─────────┬────────────────┬───┬──────┬───────┬──────────┬────────────────┐\n",
       "│ wine_key       ┆ size  ┆ vintage ┆ wine           ┆ … ┆ type ┆ color ┆ category ┆ varietal       │\n",
       "│ ---            ┆ ---   ┆ ---     ┆ ---            ┆   ┆ ---  ┆ ---   ┆ ---      ┆ ---            │\n",
       "│ str            ┆ str   ┆ i32     ┆ str            ┆   ┆ str  ┆ str   ┆ str      ┆ str            │\n",
       "╞════════════════╪═══════╪═════════╪════════════════╪═══╪══════╪═══════╪══════════╪════════════════╡\n",
       "│ 2020 agricola  ┆ 750ml ┆ 2020    ┆ agricola       ┆ … ┆ red  ┆ red   ┆ dry      ┆ carignan blend │\n",
       "│ punica         ┆       ┆         ┆ punica         ┆   ┆      ┆       ┆          ┆                │\n",
       "│ montessu isola ┆       ┆         ┆ montessu isola ┆   ┆      ┆       ┆          ┆                │\n",
       "│ dei nuraghi    ┆       ┆         ┆ dei nuraghi    ┆   ┆      ┆       ┆          ┆                │\n",
       "│ igt            ┆       ┆         ┆ igt            ┆   ┆      ┆       ┆          ┆                │\n",
       "│ 2022 alkina    ┆ 750ml ┆ 2022    ┆ alkina         ┆ … ┆ red  ┆ red   ┆ dry      ┆ grenache       │\n",
       "│ grenache kin   ┆       ┆         ┆ grenache kin   ┆   ┆      ┆       ┆          ┆                │\n",
       "│ 2017 anna      ┆ 750ml ┆ 2017    ┆ anna maria     ┆ … ┆ red  ┆ red   ┆ dry      ┆ nebbiolo       │\n",
       "│ maria abbona   ┆       ┆         ┆ abbona barolo  ┆   ┆      ┆       ┆          ┆                │\n",
       "│ barolo         ┆       ┆         ┆                ┆   ┆      ┆       ┆          ┆                │\n",
       "└────────────────┴───────┴─────────┴────────────────┴───┴──────┴───────┴──────────┴────────────────┘"
      ]
     },
     "execution_count": 5,
     "metadata": {},
     "output_type": "execute_result"
    }
   ],
   "source": [
    "ct.get_clean_ct(un=\"OctaneOolong\", pw=\"S74rg4z3r1\", con=con, output=\"db\")\n",
    "\n",
    "if (\n",
    "    not con.sql(\n",
    "        \"\"\"--sql\n",
    "select * from (show tables)\n",
    "\"\"\"\n",
    "    )\n",
    "    .df()[\"name\"]\n",
    "    .eq(\"ct\")\n",
    "    .any()\n",
    "):\n",
    "    raise ValueError(\"Execute load_ct.ipynb first\")\n",
    "con.sql(\n",
    "    \"\"\"--sql\n",
    "select\n",
    "    *\n",
    "from\n",
    "    ct\n",
    "limit 3\n",
    "\"\"\"\n",
    ").pl()\n"
   ]
  },
  {
   "cell_type": "code",
   "execution_count": 6,
   "metadata": {},
   "outputs": [
    {
     "data": {
      "text/html": [
       "<div>\n",
       "<style scoped>\n",
       "    .dataframe tbody tr th:only-of-type {\n",
       "        vertical-align: middle;\n",
       "    }\n",
       "\n",
       "    .dataframe tbody tr th {\n",
       "        vertical-align: top;\n",
       "    }\n",
       "\n",
       "    .dataframe thead th {\n",
       "        text-align: right;\n",
       "    }\n",
       "</style>\n",
       "<table border=\"1\" class=\"dataframe\">\n",
       "  <thead>\n",
       "    <tr style=\"text-align: right;\">\n",
       "      <th></th>\n",
       "      <th>pk</th>\n",
       "      <th>left_string</th>\n",
       "      <th>match</th>\n",
       "      <th>score</th>\n",
       "    </tr>\n",
       "  </thead>\n",
       "  <tbody>\n",
       "    <tr>\n",
       "      <th>0</th>\n",
       "      <td>1</td>\n",
       "      <td>2016 zema estate family selection cabernet sau...</td>\n",
       "      <td>2016 zema estate cabernet sauvignon family sel...</td>\n",
       "      <td>100</td>\n",
       "    </tr>\n",
       "    <tr>\n",
       "      <th>1</th>\n",
       "      <td>2</td>\n",
       "      <td>2022 william downie cathedral pinot noir</td>\n",
       "      <td>2022 william downie cathedral</td>\n",
       "      <td>100</td>\n",
       "    </tr>\n",
       "    <tr>\n",
       "      <th>2</th>\n",
       "      <td>3</td>\n",
       "      <td>2021 babo chianti</td>\n",
       "      <td>2021 babo chianti</td>\n",
       "      <td>100</td>\n",
       "    </tr>\n",
       "    <tr>\n",
       "      <th>3</th>\n",
       "      <td>4</td>\n",
       "      <td>2021 joshua cooper shays flat cabernet sauvignon</td>\n",
       "      <td>2021 joshua cooper cabernet sauvignon landsbor...</td>\n",
       "      <td>100</td>\n",
       "    </tr>\n",
       "    <tr>\n",
       "      <th>4</th>\n",
       "      <td>5</td>\n",
       "      <td>2022 william downie cathedral pinot noir</td>\n",
       "      <td>2022 william downie cathedral</td>\n",
       "      <td>100</td>\n",
       "    </tr>\n",
       "    <tr>\n",
       "      <th>...</th>\n",
       "      <td>...</td>\n",
       "      <td>...</td>\n",
       "      <td>...</td>\n",
       "      <td>...</td>\n",
       "    </tr>\n",
       "    <tr>\n",
       "      <th>185</th>\n",
       "      <td>186</td>\n",
       "      <td>2017 andrea oberto barolo</td>\n",
       "      <td>2017 andrea oberto barolo del comune di la morra</td>\n",
       "      <td>100</td>\n",
       "    </tr>\n",
       "    <tr>\n",
       "      <th>186</th>\n",
       "      <td>187</td>\n",
       "      <td>2021 john duval wines shiraz concilio</td>\n",
       "      <td>2021 john duval wines shiraz concilio</td>\n",
       "      <td>100</td>\n",
       "    </tr>\n",
       "    <tr>\n",
       "      <th>187</th>\n",
       "      <td>188</td>\n",
       "      <td>2021 torbreck shiraz the struie</td>\n",
       "      <td>2021 torbreck shiraz the struie</td>\n",
       "      <td>100</td>\n",
       "    </tr>\n",
       "    <tr>\n",
       "      <th>188</th>\n",
       "      <td>189</td>\n",
       "      <td>2020 orlando grenache cellar 13 grenache</td>\n",
       "      <td>2020 orlando grenache cellar 13</td>\n",
       "      <td>100</td>\n",
       "    </tr>\n",
       "    <tr>\n",
       "      <th>189</th>\n",
       "      <td>190</td>\n",
       "      <td>9999 mystery barret rady</td>\n",
       "      <td>2013 woodlands cabernet merlot</td>\n",
       "      <td>44</td>\n",
       "    </tr>\n",
       "  </tbody>\n",
       "</table>\n",
       "<p>190 rows × 4 columns</p>\n",
       "</div>"
      ],
      "text/plain": [
       "      pk                                        left_string  \\\n",
       "0      1  2016 zema estate family selection cabernet sau...   \n",
       "1      2           2022 william downie cathedral pinot noir   \n",
       "2      3                                  2021 babo chianti   \n",
       "3      4   2021 joshua cooper shays flat cabernet sauvignon   \n",
       "4      5           2022 william downie cathedral pinot noir   \n",
       "..   ...                                                ...   \n",
       "185  186                          2017 andrea oberto barolo   \n",
       "186  187              2021 john duval wines shiraz concilio   \n",
       "187  188                    2021 torbreck shiraz the struie   \n",
       "188  189           2020 orlando grenache cellar 13 grenache   \n",
       "189  190                           9999 mystery barret rady   \n",
       "\n",
       "                                                 match  score  \n",
       "0    2016 zema estate cabernet sauvignon family sel...    100  \n",
       "1                        2022 william downie cathedral    100  \n",
       "2                                    2021 babo chianti    100  \n",
       "3    2021 joshua cooper cabernet sauvignon landsbor...    100  \n",
       "4                        2022 william downie cathedral    100  \n",
       "..                                                 ...    ...  \n",
       "185   2017 andrea oberto barolo del comune di la morra    100  \n",
       "186              2021 john duval wines shiraz concilio    100  \n",
       "187                    2021 torbreck shiraz the struie    100  \n",
       "188                    2020 orlando grenache cellar 13    100  \n",
       "189                     2013 woodlands cabernet merlot     44  \n",
       "\n",
       "[190 rows x 4 columns]"
      ]
     },
     "execution_count": 6,
     "metadata": {},
     "output_type": "execute_result"
    }
   ],
   "source": [
    "from fuzzywuzzy import fuzz, process\n",
    "\n",
    "\n",
    "def build_string_lists(con: db.DuckDBPyConnection) -> tuple[list[str], list[str]]:\n",
    "    left_strings: list[str] = [\n",
    "        x[0] for x in con.sql(\"select lower(wine_key) as wine from st\").fetchall()\n",
    "    ]\n",
    "    right_strings: list[str] = [\n",
    "        x[0] for x in con.sql(\"select lower(wine_key) as wine from ct\").fetchall()\n",
    "    ]\n",
    "\n",
    "    if not all(isinstance(x, str) for x in left_strings):\n",
    "        raise TypeError(\"expected str\")\n",
    "    if not all(isinstance(x, str) for x in right_strings):\n",
    "        raise TypeError(\"expected str\")\n",
    "\n",
    "    return left_strings, right_strings\n",
    "\n",
    "\n",
    "left_strings, right_strings = build_string_lists(con=con)\n",
    "\n",
    "\n",
    "def match_strings(\n",
    "    left_strings: list[str], right_strings: list[str]\n",
    ") -> tuple[list[str], list[int]]:\n",
    "    matches = []\n",
    "    scores = []\n",
    "    for ls in left_strings:\n",
    "        result = process.extractOne(\n",
    "            query=ls, choices=right_strings, scorer=fuzz.token_set_ratio\n",
    "        )\n",
    "        if result:\n",
    "            if len(result) == 2:\n",
    "                match, score = result\n",
    "                matches.append(match)\n",
    "                scores.append(score)\n",
    "    return matches, scores\n",
    "\n",
    "\n",
    "def construct_match_df(matches: list[str], scores: list[int], pk) -> pd.DataFrame:\n",
    "    match_df = pd.DataFrame(\n",
    "        {\n",
    "            \"pk\": pk,\n",
    "            \"left_string\": left_strings,\n",
    "            \"match\": matches,\n",
    "            \"score\": scores,\n",
    "        }\n",
    "    )\n",
    "    return match_df\n",
    "\n",
    "\n",
    "def get_st_pk(con=con):\n",
    "    return con.sql(\"select pk from st\").df()[\"pk\"]\n",
    "\n",
    "\n",
    "def match_st_ct_wine_keys(con=con) -> pd.DataFrame:\n",
    "    pk = get_st_pk(con=con)\n",
    "    left_strings, right_strings = build_string_lists(con=con)\n",
    "    matches, scores = match_strings(\n",
    "        left_strings=left_strings, right_strings=right_strings\n",
    "    )\n",
    "\n",
    "    return construct_match_df(matches=matches, scores=scores, pk=pk)\n",
    "\n",
    "\n",
    "match_df = match_st_ct_wine_keys(con=con)\n",
    "match_df\n"
   ]
  },
  {
   "cell_type": "code",
   "execution_count": 7,
   "metadata": {},
   "outputs": [
    {
     "data": {
      "text/html": [
       "<div><style>\n",
       ".dataframe > thead > tr,\n",
       ".dataframe > tbody > tr {\n",
       "  text-align: right;\n",
       "  white-space: pre-wrap;\n",
       "}\n",
       "</style>\n",
       "<small>shape: (5, 5)</small><table border=\"1\" class=\"dataframe\"><thead><tr><th>pk</th><th>left_string</th><th>match</th><th>score</th><th>verified</th></tr><tr><td>i32</td><td>str</td><td>str</td><td>i32</td><td>bool</td></tr></thead><tbody><tr><td>1</td><td>&quot;2016 zema estate family selection cabernet sauvignon&quot;</td><td>&quot;2016 zema estate cabernet sauvignon family selection&quot;</td><td>100</td><td>false</td></tr><tr><td>2</td><td>&quot;2022 william downie cathedral pinot noir&quot;</td><td>&quot;2022 william downie cathedral&quot;</td><td>100</td><td>false</td></tr><tr><td>3</td><td>&quot;2021 babo chianti&quot;</td><td>&quot;2021 babo chianti&quot;</td><td>100</td><td>false</td></tr><tr><td>4</td><td>&quot;2021 joshua cooper shays flat cabernet sauvignon&quot;</td><td>&quot;2021 joshua cooper cabernet sauvignon landsborough shays flat&quot;</td><td>100</td><td>false</td></tr><tr><td>5</td><td>&quot;2022 william downie cathedral pinot noir&quot;</td><td>&quot;2022 william downie cathedral&quot;</td><td>100</td><td>false</td></tr></tbody></table></div>"
      ],
      "text/plain": [
       "shape: (5, 5)\n",
       "┌─────┬────────────────────────────────────┬────────────────────────────────────┬───────┬──────────┐\n",
       "│ pk  ┆ left_string                        ┆ match                              ┆ score ┆ verified │\n",
       "│ --- ┆ ---                                ┆ ---                                ┆ ---   ┆ ---      │\n",
       "│ i32 ┆ str                                ┆ str                                ┆ i32   ┆ bool     │\n",
       "╞═════╪════════════════════════════════════╪════════════════════════════════════╪═══════╪══════════╡\n",
       "│ 1   ┆ 2016 zema estate family selection  ┆ 2016 zema estate cabernet          ┆ 100   ┆ false    │\n",
       "│     ┆ cabernet sauvignon                 ┆ sauvignon family selection         ┆       ┆          │\n",
       "│ 2   ┆ 2022 william downie cathedral      ┆ 2022 william downie cathedral      ┆ 100   ┆ false    │\n",
       "│     ┆ pinot noir                         ┆                                    ┆       ┆          │\n",
       "│ 3   ┆ 2021 babo chianti                  ┆ 2021 babo chianti                  ┆ 100   ┆ false    │\n",
       "│ 4   ┆ 2021 joshua cooper shays flat      ┆ 2021 joshua cooper cabernet        ┆ 100   ┆ false    │\n",
       "│     ┆ cabernet sauvignon                 ┆ sauvignon landsborough shays flat  ┆       ┆          │\n",
       "│ 5   ┆ 2022 william downie cathedral      ┆ 2022 william downie cathedral      ┆ 100   ┆ false    │\n",
       "│     ┆ pinot noir                         ┆                                    ┆       ┆          │\n",
       "└─────┴────────────────────────────────────┴────────────────────────────────────┴───────┴──────────┘"
      ]
     },
     "execution_count": 7,
     "metadata": {},
     "output_type": "execute_result"
    }
   ],
   "source": [
    "con.sql(\n",
    "    \"\"\"--sql\n",
    "create or replace table matches (\n",
    "    pk integer primary key references st(pk),\n",
    "    left_string varchar not null,\n",
    "    match varchar not null,\n",
    "    score integer not null,\n",
    "    verified bool default false,\n",
    "    );\n",
    "\"\"\"\n",
    ")\n",
    "\n",
    "con.sql(\n",
    "    \"\"\"--sql\n",
    "insert into matches\n",
    "    select\n",
    "        pk,\n",
    "        left_string,\n",
    "        match,\n",
    "        score,\n",
    "        false as verified\n",
    "    from\n",
    "        match_df\n",
    "    order by\n",
    "        score desc\n",
    "    on conflict do nothing\n",
    "        ;\n",
    "\"\"\"\n",
    ")\n",
    "\n",
    "con.sql(\n",
    "    \"\"\"--sql\n",
    "select\n",
    "    *\n",
    "from\n",
    "    matches\n",
    "order by\n",
    "    pk\n",
    "limit 5\n",
    "\"\"\"\n",
    ").pl()\n"
   ]
  },
  {
   "cell_type": "code",
   "execution_count": 8,
   "metadata": {},
   "outputs": [
    {
     "data": {
      "text/html": [
       "<div><style>\n",
       ".dataframe > thead > tr,\n",
       ".dataframe > tbody > tr {\n",
       "  text-align: right;\n",
       "  white-space: pre-wrap;\n",
       "}\n",
       "</style>\n",
       "<small>shape: (1, 1)</small><table border=\"1\" class=\"dataframe\"><thead><tr><th>total_count</th></tr><tr><td>i64</td></tr></thead><tbody><tr><td>190</td></tr></tbody></table></div>"
      ],
      "text/plain": [
       "shape: (1, 1)\n",
       "┌─────────────┐\n",
       "│ total_count │\n",
       "│ ---         │\n",
       "│ i64         │\n",
       "╞═════════════╡\n",
       "│ 190         │\n",
       "└─────────────┘"
      ]
     },
     "execution_count": 8,
     "metadata": {},
     "output_type": "execute_result"
    }
   ],
   "source": [
    "con.sql(\n",
    "    \"\"\"--sql\n",
    "select\n",
    "    (select count(*) from matches) as total_count,\n",
    "\"\"\"\n",
    ").pl()\n"
   ]
  },
  {
   "cell_type": "code",
   "execution_count": 9,
   "metadata": {},
   "outputs": [
    {
     "data": {
      "text/html": [
       "<style type=\"text/css\">\n",
       "#T_8f0ca_row0_col0, #T_8f0ca_row0_col1, #T_8f0ca_row0_col2, #T_8f0ca_row1_col0, #T_8f0ca_row1_col1, #T_8f0ca_row1_col2, #T_8f0ca_row2_col0, #T_8f0ca_row2_col1, #T_8f0ca_row2_col2, #T_8f0ca_row3_col0, #T_8f0ca_row3_col1, #T_8f0ca_row3_col2, #T_8f0ca_row4_col0, #T_8f0ca_row4_col1, #T_8f0ca_row4_col2, #T_8f0ca_row5_col0, #T_8f0ca_row5_col1, #T_8f0ca_row5_col2, #T_8f0ca_row6_col0, #T_8f0ca_row6_col1, #T_8f0ca_row6_col2, #T_8f0ca_row7_col0, #T_8f0ca_row7_col1, #T_8f0ca_row7_col2, #T_8f0ca_row8_col0, #T_8f0ca_row8_col1, #T_8f0ca_row8_col2, #T_8f0ca_row9_col0, #T_8f0ca_row9_col1, #T_8f0ca_row9_col2 {\n",
       "  text_align: right;\n",
       "}\n",
       "</style>\n",
       "<table id=\"T_8f0ca\">\n",
       "  <thead>\n",
       "    <tr>\n",
       "      <th class=\"blank level0\" >&nbsp;</th>\n",
       "      <th id=\"T_8f0ca_level0_col0\" class=\"col_heading level0 col0\" >bin</th>\n",
       "      <th id=\"T_8f0ca_level0_col1\" class=\"col_heading level0 col1\" >count</th>\n",
       "      <th id=\"T_8f0ca_level0_col2\" class=\"col_heading level0 col2\" >bar</th>\n",
       "    </tr>\n",
       "  </thead>\n",
       "  <tbody>\n",
       "    <tr>\n",
       "      <th id=\"T_8f0ca_level0_row0\" class=\"row_heading level0 row0\" >0</th>\n",
       "      <td id=\"T_8f0ca_row0_col0\" class=\"data row0 col0\" >x <= 10</td>\n",
       "      <td id=\"T_8f0ca_row0_col1\" class=\"data row0 col1\" >3</td>\n",
       "      <td id=\"T_8f0ca_row0_col2\" class=\"data row0 col2\" >█▍                                                                          </td>\n",
       "    </tr>\n",
       "    <tr>\n",
       "      <th id=\"T_8f0ca_level0_row1\" class=\"row_heading level0 row1\" >1</th>\n",
       "      <td id=\"T_8f0ca_row1_col0\" class=\"data row1 col0\" >10 < x <= 20</td>\n",
       "      <td id=\"T_8f0ca_row1_col1\" class=\"data row1 col1\" >0</td>\n",
       "      <td id=\"T_8f0ca_row1_col2\" class=\"data row1 col2\" >                                                                                </td>\n",
       "    </tr>\n",
       "    <tr>\n",
       "      <th id=\"T_8f0ca_level0_row2\" class=\"row_heading level0 row2\" >2</th>\n",
       "      <td id=\"T_8f0ca_row2_col0\" class=\"data row2 col0\" >20 < x <= 30</td>\n",
       "      <td id=\"T_8f0ca_row2_col1\" class=\"data row2 col1\" >0</td>\n",
       "      <td id=\"T_8f0ca_row2_col2\" class=\"data row2 col2\" >                                                                                </td>\n",
       "    </tr>\n",
       "    <tr>\n",
       "      <th id=\"T_8f0ca_level0_row3\" class=\"row_heading level0 row3\" >3</th>\n",
       "      <td id=\"T_8f0ca_row3_col0\" class=\"data row3 col0\" >30 < x <= 40</td>\n",
       "      <td id=\"T_8f0ca_row3_col1\" class=\"data row3 col1\" >2</td>\n",
       "      <td id=\"T_8f0ca_row3_col2\" class=\"data row3 col2\" >▉                                                                             </td>\n",
       "    </tr>\n",
       "    <tr>\n",
       "      <th id=\"T_8f0ca_level0_row4\" class=\"row_heading level0 row4\" >4</th>\n",
       "      <td id=\"T_8f0ca_row4_col0\" class=\"data row4 col0\" >40 < x <= 50</td>\n",
       "      <td id=\"T_8f0ca_row4_col1\" class=\"data row4 col1\" >3</td>\n",
       "      <td id=\"T_8f0ca_row4_col2\" class=\"data row4 col2\" >█▍                                                                          </td>\n",
       "    </tr>\n",
       "    <tr>\n",
       "      <th id=\"T_8f0ca_level0_row5\" class=\"row_heading level0 row5\" >5</th>\n",
       "      <td id=\"T_8f0ca_row5_col0\" class=\"data row5 col0\" >50 < x <= 60</td>\n",
       "      <td id=\"T_8f0ca_row5_col1\" class=\"data row5 col1\" >2</td>\n",
       "      <td id=\"T_8f0ca_row5_col2\" class=\"data row5 col2\" >▉                                                                             </td>\n",
       "    </tr>\n",
       "    <tr>\n",
       "      <th id=\"T_8f0ca_level0_row6\" class=\"row_heading level0 row6\" >6</th>\n",
       "      <td id=\"T_8f0ca_row6_col0\" class=\"data row6 col0\" >60 < x <= 70</td>\n",
       "      <td id=\"T_8f0ca_row6_col1\" class=\"data row6 col1\" >4</td>\n",
       "      <td id=\"T_8f0ca_row6_col2\" class=\"data row6 col2\" >█▉                                                                          </td>\n",
       "    </tr>\n",
       "    <tr>\n",
       "      <th id=\"T_8f0ca_level0_row7\" class=\"row_heading level0 row7\" >7</th>\n",
       "      <td id=\"T_8f0ca_row7_col0\" class=\"data row7 col0\" >70 < x <= 80</td>\n",
       "      <td id=\"T_8f0ca_row7_col1\" class=\"data row7 col1\" >3</td>\n",
       "      <td id=\"T_8f0ca_row7_col2\" class=\"data row7 col2\" >█▍                                                                          </td>\n",
       "    </tr>\n",
       "    <tr>\n",
       "      <th id=\"T_8f0ca_level0_row8\" class=\"row_heading level0 row8\" >8</th>\n",
       "      <td id=\"T_8f0ca_row8_col0\" class=\"data row8 col0\" >80 < x <= 90</td>\n",
       "      <td id=\"T_8f0ca_row8_col1\" class=\"data row8 col1\" >6</td>\n",
       "      <td id=\"T_8f0ca_row8_col2\" class=\"data row8 col2\" >██▊                                                                       </td>\n",
       "    </tr>\n",
       "    <tr>\n",
       "      <th id=\"T_8f0ca_level0_row9\" class=\"row_heading level0 row9\" >9</th>\n",
       "      <td id=\"T_8f0ca_row9_col0\" class=\"data row9 col0\" >90 < x <= 100</td>\n",
       "      <td id=\"T_8f0ca_row9_col1\" class=\"data row9 col1\" >167</td>\n",
       "      <td id=\"T_8f0ca_row9_col2\" class=\"data row9 col2\" >████████████████████████████████████████████████████████████████████████████████</td>\n",
       "    </tr>\n",
       "  </tbody>\n",
       "</table>\n"
      ],
      "text/plain": [
       "<pandas.io.formats.style.Styler at 0x147b54290>"
      ]
     },
     "execution_count": 9,
     "metadata": {},
     "output_type": "execute_result"
    }
   ],
   "source": [
    "con.sql(\n",
    "    \"\"\"--sql\n",
    "from histogram(matches, score)\n",
    "\"\"\"\n",
    ").df().style.set_properties(text_align=\"right\")\n"
   ]
  },
  {
   "cell_type": "markdown",
   "metadata": {},
   "source": [
    "As we can see the majority are above 90."
   ]
  },
  {
   "cell_type": "code",
   "execution_count": 10,
   "metadata": {},
   "outputs": [
    {
     "data": {
      "text/html": [
       "<div><style>\n",
       ".dataframe > thead > tr,\n",
       ".dataframe > tbody > tr {\n",
       "  text-align: right;\n",
       "  white-space: pre-wrap;\n",
       "}\n",
       "</style>\n",
       "<small>shape: (6, 2)</small><table border=\"1\" class=\"dataframe\"><thead><tr><th>score</th><th>count_perc</th></tr><tr><td>i32</td><td>f64</td></tr></thead><tbody><tr><td>91</td><td>0.526316</td></tr><tr><td>93</td><td>1.052632</td></tr><tr><td>95</td><td>1.052632</td></tr><tr><td>96</td><td>0.526316</td></tr><tr><td>97</td><td>0.526316</td></tr><tr><td>100</td><td>84.210526</td></tr></tbody></table></div>"
      ],
      "text/plain": [
       "shape: (6, 2)\n",
       "┌───────┬────────────┐\n",
       "│ score ┆ count_perc │\n",
       "│ ---   ┆ ---        │\n",
       "│ i32   ┆ f64        │\n",
       "╞═══════╪════════════╡\n",
       "│ 91    ┆ 0.526316   │\n",
       "│ 93    ┆ 1.052632   │\n",
       "│ 95    ┆ 1.052632   │\n",
       "│ 96    ┆ 0.526316   │\n",
       "│ 97    ┆ 0.526316   │\n",
       "│ 100   ┆ 84.210526  │\n",
       "└───────┴────────────┘"
      ]
     },
     "execution_count": 10,
     "metadata": {},
     "output_type": "execute_result"
    }
   ],
   "source": [
    "con.execute(\n",
    "    \"\"\"--sql\n",
    "select\n",
    "    score,\n",
    "    count(score)*100/(select count(*) from matches) as count_perc\n",
    "from\n",
    "    matches\n",
    "where\n",
    "    score > 90\n",
    "group by\n",
    "    score\n",
    "\"\"\"\n",
    ").pl()\n"
   ]
  },
  {
   "cell_type": "markdown",
   "metadata": {},
   "source": [
    "Now lets get rid of the 100 scores.\n"
   ]
  },
  {
   "cell_type": "markdown",
   "metadata": {},
   "source": [
    "Now there's nothing for it but to go through each match, bracket by bracket."
   ]
  },
  {
   "cell_type": "markdown",
   "metadata": {},
   "source": [
    "the 90's:"
   ]
  },
  {
   "cell_type": "code",
   "execution_count": 11,
   "metadata": {},
   "outputs": [
    {
     "data": {
      "text/html": [
       "<div><style>\n",
       ".dataframe > thead > tr,\n",
       ".dataframe > tbody > tr {\n",
       "  text-align: right;\n",
       "  white-space: pre-wrap;\n",
       "}\n",
       "</style>\n",
       "<small>shape: (167, 5)</small><table border=\"1\" class=\"dataframe\"><thead><tr><th>pk</th><th>left_string</th><th>match</th><th>score</th><th>verified</th></tr><tr><td>i32</td><td>str</td><td>str</td><td>i32</td><td>bool</td></tr></thead><tbody><tr><td>1</td><td>&quot;2016 zema estate family selection cabernet sauvignon&quot;</td><td>&quot;2016 zema estate cabernet sauvignon family selection&quot;</td><td>100</td><td>false</td></tr><tr><td>2</td><td>&quot;2022 william downie cathedral pinot noir&quot;</td><td>&quot;2022 william downie cathedral&quot;</td><td>100</td><td>false</td></tr><tr><td>3</td><td>&quot;2021 babo chianti&quot;</td><td>&quot;2021 babo chianti&quot;</td><td>100</td><td>false</td></tr><tr><td>4</td><td>&quot;2021 joshua cooper shays flat cabernet sauvignon&quot;</td><td>&quot;2021 joshua cooper cabernet sauvignon landsborough shays flat&quot;</td><td>100</td><td>false</td></tr><tr><td>5</td><td>&quot;2022 william downie cathedral pinot noir&quot;</td><td>&quot;2022 william downie cathedral&quot;</td><td>100</td><td>false</td></tr><tr><td>6</td><td>&quot;2021 babo chianti&quot;</td><td>&quot;2021 babo chianti&quot;</td><td>100</td><td>false</td></tr><tr><td>8</td><td>&quot;2021 hey malbec&quot;</td><td>&quot;2021 matias riccitelli malbec hey malbec!&quot;</td><td>100</td><td>false</td></tr><tr><td>9</td><td>&quot;2018 crawford river cabernets&quot;</td><td>&quot;2018 crawford river cabernets&quot;</td><td>100</td><td>false</td></tr><tr><td>&hellip;</td><td>&hellip;</td><td>&hellip;</td><td>&hellip;</td><td>&hellip;</td></tr><tr><td>71</td><td>&quot;2020 cascina delle rose dolcetto d’alba ‘a elizabeth’&quot;</td><td>&quot;2020 cascina delle rose dolcetto dalba a elizabeth&quot;</td><td>97</td><td>false</td></tr><tr><td>50</td><td>&quot;2022 mt horrocks cordon cut riesling&quot;</td><td>&quot;2022 mount horrocks riesling cordon cut&quot;</td><td>96</td><td>false</td></tr><tr><td>37</td><td>&quot;2022 dom. simha paysan fleur sauvage&quot;</td><td>&quot;2022 domaine simha paysan fleur sauvage&quot;</td><td>95</td><td>false</td></tr><tr><td>54</td><td>&quot;2021 domaine fevre ac chablis&quot;</td><td>&quot;2021 domaine nathalie et gilles fevre chablis&quot;</td><td>95</td><td>false</td></tr><tr><td>17</td><td>&quot;2021 koerner wine nielluccio sangiovese&quot;</td><td>&quot;2021 koerner nielluccio sangiovese vivian vineyard&quot;</td><td>93</td><td>false</td></tr><tr><td>76</td><td>&quot;2021 koerner wine nielluccio sangiovese&quot;</td><td>&quot;2021 koerner nielluccio sangiovese vivian vineyard&quot;</td><td>93</td><td>false</td></tr><tr><td>40</td><td>&quot;2020 joseph faiveley bourgogne rouge&quot;</td><td>&quot;2020 faiveley pinot noir bourgogne joseph faiveley&quot;</td><td>91</td><td>false</td></tr></tbody></table></div>"
      ],
      "text/plain": [
       "shape: (167, 5)\n",
       "┌─────┬────────────────────────────────────┬────────────────────────────────────┬───────┬──────────┐\n",
       "│ pk  ┆ left_string                        ┆ match                              ┆ score ┆ verified │\n",
       "│ --- ┆ ---                                ┆ ---                                ┆ ---   ┆ ---      │\n",
       "│ i32 ┆ str                                ┆ str                                ┆ i32   ┆ bool     │\n",
       "╞═════╪════════════════════════════════════╪════════════════════════════════════╪═══════╪══════════╡\n",
       "│ 1   ┆ 2016 zema estate family selection  ┆ 2016 zema estate cabernet          ┆ 100   ┆ false    │\n",
       "│     ┆ cabernet sauvignon                 ┆ sauvignon family selection         ┆       ┆          │\n",
       "│ 2   ┆ 2022 william downie cathedral      ┆ 2022 william downie cathedral      ┆ 100   ┆ false    │\n",
       "│     ┆ pinot noir                         ┆                                    ┆       ┆          │\n",
       "│ 3   ┆ 2021 babo chianti                  ┆ 2021 babo chianti                  ┆ 100   ┆ false    │\n",
       "│ 4   ┆ 2021 joshua cooper shays flat      ┆ 2021 joshua cooper cabernet        ┆ 100   ┆ false    │\n",
       "│     ┆ cabernet sauvignon                 ┆ sauvignon landsborough shays flat  ┆       ┆          │\n",
       "│ 5   ┆ 2022 william downie cathedral      ┆ 2022 william downie cathedral      ┆ 100   ┆ false    │\n",
       "│     ┆ pinot noir                         ┆                                    ┆       ┆          │\n",
       "│ 6   ┆ 2021 babo chianti                  ┆ 2021 babo chianti                  ┆ 100   ┆ false    │\n",
       "│ 8   ┆ 2021 hey malbec                    ┆ 2021 matias riccitelli malbec hey  ┆ 100   ┆ false    │\n",
       "│     ┆                                    ┆ malbec!                            ┆       ┆          │\n",
       "│ 9   ┆ 2018 crawford river cabernets      ┆ 2018 crawford river cabernets      ┆ 100   ┆ false    │\n",
       "│ …   ┆ …                                  ┆ …                                  ┆ …     ┆ …        │\n",
       "│ 71  ┆ 2020 cascina delle rose dolcetto   ┆ 2020 cascina delle rose dolcetto   ┆ 97    ┆ false    │\n",
       "│     ┆ d’alba ‘a elizabeth’               ┆ dalba a elizabeth                  ┆       ┆          │\n",
       "│ 50  ┆ 2022 mt horrocks cordon cut        ┆ 2022 mount horrocks riesling       ┆ 96    ┆ false    │\n",
       "│     ┆ riesling                           ┆ cordon cut                         ┆       ┆          │\n",
       "│ 37  ┆ 2022 dom. simha paysan fleur       ┆ 2022 domaine simha paysan fleur    ┆ 95    ┆ false    │\n",
       "│     ┆ sauvage                            ┆ sauvage                            ┆       ┆          │\n",
       "│ 54  ┆ 2021 domaine fevre ac chablis      ┆ 2021 domaine nathalie et gilles    ┆ 95    ┆ false    │\n",
       "│     ┆                                    ┆ fevre chablis                      ┆       ┆          │\n",
       "│ 17  ┆ 2021 koerner wine nielluccio       ┆ 2021 koerner nielluccio sangiovese ┆ 93    ┆ false    │\n",
       "│     ┆ sangiovese                         ┆ vivian vineyard                    ┆       ┆          │\n",
       "│ 76  ┆ 2021 koerner wine nielluccio       ┆ 2021 koerner nielluccio sangiovese ┆ 93    ┆ false    │\n",
       "│     ┆ sangiovese                         ┆ vivian vineyard                    ┆       ┆          │\n",
       "│ 40  ┆ 2020 joseph faiveley bourgogne     ┆ 2020 faiveley pinot noir bourgogne ┆ 91    ┆ false    │\n",
       "│     ┆ rouge                              ┆ joseph faiveley                    ┆       ┆          │\n",
       "└─────┴────────────────────────────────────┴────────────────────────────────────┴───────┴──────────┘"
      ]
     },
     "execution_count": 11,
     "metadata": {},
     "output_type": "execute_result"
    }
   ],
   "source": [
    "con.sql(\n",
    "    \"\"\"--sql\n",
    "select\n",
    "    *\n",
    "from\n",
    "    matches\n",
    "where\n",
    "    score > 90\n",
    "\"\"\"\n",
    ").pl()\n"
   ]
  },
  {
   "cell_type": "markdown",
   "metadata": {},
   "source": [
    "90's look good."
   ]
  },
  {
   "cell_type": "code",
   "execution_count": 12,
   "metadata": {},
   "outputs": [
    {
     "data": {
      "text/html": [
       "<div><style>\n",
       ".dataframe > thead > tr,\n",
       ".dataframe > tbody > tr {\n",
       "  text-align: right;\n",
       "  white-space: pre-wrap;\n",
       "}\n",
       "</style>\n",
       "<small>shape: (15, 5)</small><table border=\"1\" class=\"dataframe\"><thead><tr><th>pk</th><th>left_string</th><th>match</th><th>score</th><th>verified</th></tr><tr><td>i32</td><td>str</td><td>str</td><td>i32</td><td>bool</td></tr></thead><tbody><tr><td>108</td><td>&quot;2019 rr (?)&quot;</td><td>&quot;2019 domaine des ardoisieres argile rouge&quot;</td><td>73</td><td>false</td></tr><tr><td>157</td><td>&quot;1001 merivale white semillon sauvignon blanc&quot;</td><td>&quot;2022 greywacke sauvignon blanc&quot;</td><td>67</td><td>false</td></tr><tr><td>162</td><td>&quot;1001 allegra pinot grigio&quot;</td><td>&quot;2021 farina pinot grigio delle venezie&quot;</td><td>67</td><td>false</td></tr><tr><td>138</td><td>&quot;2021 cantina orsogana&quot;</td><td>&quot;2021 domenica chardonnay&quot;</td><td>62</td><td>false</td></tr><tr><td>168</td><td>&quot;2021 piagre gampania bianco&quot;</td><td>&quot;2021 girolamo russo etna bianco nerina&quot;</td><td>62</td><td>false</td></tr><tr><td>166</td><td>&quot;1001 tottis vino bianco&quot;</td><td>&quot;2021 nino barraco fior di bianco&quot;</td><td>58</td><td>false</td></tr><tr><td>154</td><td>&quot;1001 tottis vino rosso&quot;</td><td>&quot;2019 giovanni rosso etna bianco&quot;</td><td>53</td><td>false</td></tr><tr><td>112</td><td>&quot;9999 leflaive macon-verze blanc le monte&quot;</td><td>&quot;2022 vinden estate the vinden headcase pokolbin blanc&quot;</td><td>49</td><td>false</td></tr><tr><td>18</td><td>&quot;9999 empty id, missing wine&quot;</td><td>&quot;2021 lethbridge wines pinot noir&quot;</td><td>48</td><td>false</td></tr><tr><td>190</td><td>&quot;9999 mystery barret rady&quot;</td><td>&quot;2013 woodlands cabernet merlot&quot;</td><td>44</td><td>false</td></tr><tr><td>111</td><td>&quot;9999 clembush&quot;</td><td>&quot;2015 clos du marquis&quot;</td><td>36</td><td>false</td></tr><tr><td>27</td><td>&quot;9999 mystery&quot;</td><td>&quot;2022 yangarra estate rose&quot;</td><td>32</td><td>false</td></tr><tr><td>14</td><td>&quot;9999 &quot;</td><td>&quot;2019 deviation road loftia&quot;</td><td>7</td><td>false</td></tr><tr><td>77</td><td>&quot;9999 &quot;</td><td>&quot;2019 deviation road loftia&quot;</td><td>7</td><td>false</td></tr><tr><td>78</td><td>&quot;9999 &quot;</td><td>&quot;2019 deviation road loftia&quot;</td><td>7</td><td>false</td></tr></tbody></table></div>"
      ],
      "text/plain": [
       "shape: (15, 5)\n",
       "┌─────┬────────────────────────────────────┬────────────────────────────────────┬───────┬──────────┐\n",
       "│ pk  ┆ left_string                        ┆ match                              ┆ score ┆ verified │\n",
       "│ --- ┆ ---                                ┆ ---                                ┆ ---   ┆ ---      │\n",
       "│ i32 ┆ str                                ┆ str                                ┆ i32   ┆ bool     │\n",
       "╞═════╪════════════════════════════════════╪════════════════════════════════════╪═══════╪══════════╡\n",
       "│ 108 ┆ 2019 rr (?)                        ┆ 2019 domaine des ardoisieres       ┆ 73    ┆ false    │\n",
       "│     ┆                                    ┆ argile rouge                       ┆       ┆          │\n",
       "│ 157 ┆ 1001 merivale white semillon       ┆ 2022 greywacke sauvignon blanc     ┆ 67    ┆ false    │\n",
       "│     ┆ sauvignon blanc                    ┆                                    ┆       ┆          │\n",
       "│ 162 ┆ 1001 allegra pinot grigio          ┆ 2021 farina pinot grigio delle     ┆ 67    ┆ false    │\n",
       "│     ┆                                    ┆ venezie                            ┆       ┆          │\n",
       "│ 138 ┆ 2021 cantina orsogana              ┆ 2021 domenica chardonnay           ┆ 62    ┆ false    │\n",
       "│ 168 ┆ 2021 piagre gampania bianco        ┆ 2021 girolamo russo etna bianco    ┆ 62    ┆ false    │\n",
       "│     ┆                                    ┆ nerina                             ┆       ┆          │\n",
       "│ 166 ┆ 1001 tottis vino bianco            ┆ 2021 nino barraco fior di bianco   ┆ 58    ┆ false    │\n",
       "│ 154 ┆ 1001 tottis vino rosso             ┆ 2019 giovanni rosso etna bianco    ┆ 53    ┆ false    │\n",
       "│ 112 ┆ 9999 leflaive macon-verze blanc le ┆ 2022 vinden estate the vinden      ┆ 49    ┆ false    │\n",
       "│     ┆ monte                              ┆ headcase pokolbin blanc            ┆       ┆          │\n",
       "│ 18  ┆ 9999 empty id, missing wine        ┆ 2021 lethbridge wines pinot noir   ┆ 48    ┆ false    │\n",
       "│ 190 ┆ 9999 mystery barret rady           ┆ 2013 woodlands cabernet merlot     ┆ 44    ┆ false    │\n",
       "│ 111 ┆ 9999 clembush                      ┆ 2015 clos du marquis               ┆ 36    ┆ false    │\n",
       "│ 27  ┆ 9999 mystery                       ┆ 2022 yangarra estate rose          ┆ 32    ┆ false    │\n",
       "│ 14  ┆ 9999                               ┆ 2019 deviation road loftia         ┆ 7     ┆ false    │\n",
       "│ 77  ┆ 9999                               ┆ 2019 deviation road loftia         ┆ 7     ┆ false    │\n",
       "│ 78  ┆ 9999                               ┆ 2019 deviation road loftia         ┆ 7     ┆ false    │\n",
       "└─────┴────────────────────────────────────┴────────────────────────────────────┴───────┴──────────┘"
      ]
     },
     "execution_count": 12,
     "metadata": {},
     "output_type": "execute_result"
    }
   ],
   "source": [
    "con.sql(\n",
    "    \"\"\"--sql\n",
    "update matches\n",
    "    set\n",
    "        verified = true\n",
    "    where\n",
    "        score > 75;\n",
    "select * from matches where verified = false;\n",
    "\"\"\"\n",
    ").pl()\n"
   ]
  },
  {
   "cell_type": "markdown",
   "metadata": {},
   "source": [
    "It appears that anything below a score of 75 is an incorrect match. These will be added to the 'incorrected_matches' table, and as they are low interest samples, will be exluded from downtrack analyses."
   ]
  },
  {
   "cell_type": "markdown",
   "metadata": {},
   "source": [
    "Alright, so in the end we have:"
   ]
  },
  {
   "cell_type": "code",
   "execution_count": 13,
   "metadata": {},
   "outputs": [
    {
     "data": {
      "text/html": [
       "<div><style>\n",
       ".dataframe > thead > tr,\n",
       ".dataframe > tbody > tr {\n",
       "  text-align: right;\n",
       "  white-space: pre-wrap;\n",
       "}\n",
       "</style>\n",
       "<small>shape: (175, 5)</small><table border=\"1\" class=\"dataframe\"><thead><tr><th>pk</th><th>left_string</th><th>match</th><th>score</th><th>verified</th></tr><tr><td>i32</td><td>str</td><td>str</td><td>i32</td><td>bool</td></tr></thead><tbody><tr><td>1</td><td>&quot;2016 zema estate family selection cabernet sauvignon&quot;</td><td>&quot;2016 zema estate cabernet sauvignon family selection&quot;</td><td>100</td><td>true</td></tr><tr><td>2</td><td>&quot;2022 william downie cathedral pinot noir&quot;</td><td>&quot;2022 william downie cathedral&quot;</td><td>100</td><td>true</td></tr><tr><td>3</td><td>&quot;2021 babo chianti&quot;</td><td>&quot;2021 babo chianti&quot;</td><td>100</td><td>true</td></tr><tr><td>4</td><td>&quot;2021 joshua cooper shays flat cabernet sauvignon&quot;</td><td>&quot;2021 joshua cooper cabernet sauvignon landsborough shays flat&quot;</td><td>100</td><td>true</td></tr><tr><td>5</td><td>&quot;2022 william downie cathedral pinot noir&quot;</td><td>&quot;2022 william downie cathedral&quot;</td><td>100</td><td>true</td></tr><tr><td>6</td><td>&quot;2021 babo chianti&quot;</td><td>&quot;2021 babo chianti&quot;</td><td>100</td><td>true</td></tr><tr><td>8</td><td>&quot;2021 hey malbec&quot;</td><td>&quot;2021 matias riccitelli malbec hey malbec!&quot;</td><td>100</td><td>true</td></tr><tr><td>9</td><td>&quot;2018 crawford river cabernets&quot;</td><td>&quot;2018 crawford river cabernets&quot;</td><td>100</td><td>true</td></tr><tr><td>&hellip;</td><td>&hellip;</td><td>&hellip;</td><td>&hellip;</td><td>&hellip;</td></tr><tr><td>59</td><td>&quot;2021 billaud dor bourgogne blanc&quot;</td><td>&quot;2021 samuel billaud bourgogne dor&quot;</td><td>90</td><td>true</td></tr><tr><td>7</td><td>&quot;2020 uva non grata gamay&quot;</td><td>&quot;2020 boutinot uva non grata&quot;</td><td>86</td><td>true</td></tr><tr><td>34</td><td>&quot;2020 uva non grata gamay&quot;</td><td>&quot;2020 boutinot uva non grata&quot;</td><td>86</td><td>true</td></tr><tr><td>93</td><td>&quot;2021 st hugo gsm&quot;</td><td>&quot;2021 st hugo grenache shiraz mataro&quot;</td><td>86</td><td>true</td></tr><tr><td>180</td><td>&quot;2021 st hugo gsm&quot;</td><td>&quot;2021 st hugo grenache shiraz mataro&quot;</td><td>86</td><td>true</td></tr><tr><td>57</td><td>&quot;2021 le pezze pinot grigio&quot;</td><td>&quot;2021 farina pinot grigio delle venezie&quot;</td><td>79</td><td>true</td></tr><tr><td>132</td><td>&quot;2021 jumping juice pinot noir&quot;</td><td>&quot;2021 patrick sullivan jumping juice half full&quot;</td><td>77</td><td>true</td></tr></tbody></table></div>"
      ],
      "text/plain": [
       "shape: (175, 5)\n",
       "┌─────┬────────────────────────────────────┬────────────────────────────────────┬───────┬──────────┐\n",
       "│ pk  ┆ left_string                        ┆ match                              ┆ score ┆ verified │\n",
       "│ --- ┆ ---                                ┆ ---                                ┆ ---   ┆ ---      │\n",
       "│ i32 ┆ str                                ┆ str                                ┆ i32   ┆ bool     │\n",
       "╞═════╪════════════════════════════════════╪════════════════════════════════════╪═══════╪══════════╡\n",
       "│ 1   ┆ 2016 zema estate family selection  ┆ 2016 zema estate cabernet          ┆ 100   ┆ true     │\n",
       "│     ┆ cabernet sauvignon                 ┆ sauvignon family selection         ┆       ┆          │\n",
       "│ 2   ┆ 2022 william downie cathedral      ┆ 2022 william downie cathedral      ┆ 100   ┆ true     │\n",
       "│     ┆ pinot noir                         ┆                                    ┆       ┆          │\n",
       "│ 3   ┆ 2021 babo chianti                  ┆ 2021 babo chianti                  ┆ 100   ┆ true     │\n",
       "│ 4   ┆ 2021 joshua cooper shays flat      ┆ 2021 joshua cooper cabernet        ┆ 100   ┆ true     │\n",
       "│     ┆ cabernet sauvignon                 ┆ sauvignon landsborough shays flat  ┆       ┆          │\n",
       "│ 5   ┆ 2022 william downie cathedral      ┆ 2022 william downie cathedral      ┆ 100   ┆ true     │\n",
       "│     ┆ pinot noir                         ┆                                    ┆       ┆          │\n",
       "│ 6   ┆ 2021 babo chianti                  ┆ 2021 babo chianti                  ┆ 100   ┆ true     │\n",
       "│ 8   ┆ 2021 hey malbec                    ┆ 2021 matias riccitelli malbec hey  ┆ 100   ┆ true     │\n",
       "│     ┆                                    ┆ malbec!                            ┆       ┆          │\n",
       "│ 9   ┆ 2018 crawford river cabernets      ┆ 2018 crawford river cabernets      ┆ 100   ┆ true     │\n",
       "│ …   ┆ …                                  ┆ …                                  ┆ …     ┆ …        │\n",
       "│ 59  ┆ 2021 billaud dor bourgogne blanc   ┆ 2021 samuel billaud bourgogne dor  ┆ 90    ┆ true     │\n",
       "│ 7   ┆ 2020 uva non grata gamay           ┆ 2020 boutinot uva non grata        ┆ 86    ┆ true     │\n",
       "│ 34  ┆ 2020 uva non grata gamay           ┆ 2020 boutinot uva non grata        ┆ 86    ┆ true     │\n",
       "│ 93  ┆ 2021 st hugo gsm                   ┆ 2021 st hugo grenache shiraz       ┆ 86    ┆ true     │\n",
       "│     ┆                                    ┆ mataro                             ┆       ┆          │\n",
       "│ 180 ┆ 2021 st hugo gsm                   ┆ 2021 st hugo grenache shiraz       ┆ 86    ┆ true     │\n",
       "│     ┆                                    ┆ mataro                             ┆       ┆          │\n",
       "│ 57  ┆ 2021 le pezze pinot grigio         ┆ 2021 farina pinot grigio delle     ┆ 79    ┆ true     │\n",
       "│     ┆                                    ┆ venezie                            ┆       ┆          │\n",
       "│ 132 ┆ 2021 jumping juice pinot noir      ┆ 2021 patrick sullivan jumping      ┆ 77    ┆ true     │\n",
       "│     ┆                                    ┆ juice half full                    ┆       ┆          │\n",
       "└─────┴────────────────────────────────────┴────────────────────────────────────┴───────┴──────────┘"
      ]
     },
     "execution_count": 13,
     "metadata": {},
     "output_type": "execute_result"
    }
   ],
   "source": [
    "con.sql(\n",
    "    \"\"\"--sql\n",
    "select\n",
    "    *\n",
    "from\n",
    "    matches\n",
    "where\n",
    "    verified = true\n",
    "\"\"\"\n",
    ").pl()\n"
   ]
  },
  {
   "cell_type": "code",
   "execution_count": 14,
   "metadata": {},
   "outputs": [
    {
     "data": {
      "text/html": [
       "<div><style>\n",
       ".dataframe > thead > tr,\n",
       ".dataframe > tbody > tr {\n",
       "  text-align: right;\n",
       "  white-space: pre-wrap;\n",
       "}\n",
       "</style>\n",
       "<small>shape: (15, 5)</small><table border=\"1\" class=\"dataframe\"><thead><tr><th>pk</th><th>left_string</th><th>match</th><th>score</th><th>verified</th></tr><tr><td>i32</td><td>str</td><td>str</td><td>i32</td><td>bool</td></tr></thead><tbody><tr><td>108</td><td>&quot;2019 rr (?)&quot;</td><td>&quot;2019 domaine des ardoisieres argile rouge&quot;</td><td>73</td><td>false</td></tr><tr><td>157</td><td>&quot;1001 merivale white semillon sauvignon blanc&quot;</td><td>&quot;2022 greywacke sauvignon blanc&quot;</td><td>67</td><td>false</td></tr><tr><td>162</td><td>&quot;1001 allegra pinot grigio&quot;</td><td>&quot;2021 farina pinot grigio delle venezie&quot;</td><td>67</td><td>false</td></tr><tr><td>138</td><td>&quot;2021 cantina orsogana&quot;</td><td>&quot;2021 domenica chardonnay&quot;</td><td>62</td><td>false</td></tr><tr><td>168</td><td>&quot;2021 piagre gampania bianco&quot;</td><td>&quot;2021 girolamo russo etna bianco nerina&quot;</td><td>62</td><td>false</td></tr><tr><td>166</td><td>&quot;1001 tottis vino bianco&quot;</td><td>&quot;2021 nino barraco fior di bianco&quot;</td><td>58</td><td>false</td></tr><tr><td>154</td><td>&quot;1001 tottis vino rosso&quot;</td><td>&quot;2019 giovanni rosso etna bianco&quot;</td><td>53</td><td>false</td></tr><tr><td>112</td><td>&quot;9999 leflaive macon-verze blanc le monte&quot;</td><td>&quot;2022 vinden estate the vinden headcase pokolbin blanc&quot;</td><td>49</td><td>false</td></tr><tr><td>18</td><td>&quot;9999 empty id, missing wine&quot;</td><td>&quot;2021 lethbridge wines pinot noir&quot;</td><td>48</td><td>false</td></tr><tr><td>190</td><td>&quot;9999 mystery barret rady&quot;</td><td>&quot;2013 woodlands cabernet merlot&quot;</td><td>44</td><td>false</td></tr><tr><td>111</td><td>&quot;9999 clembush&quot;</td><td>&quot;2015 clos du marquis&quot;</td><td>36</td><td>false</td></tr><tr><td>27</td><td>&quot;9999 mystery&quot;</td><td>&quot;2022 yangarra estate rose&quot;</td><td>32</td><td>false</td></tr><tr><td>14</td><td>&quot;9999 &quot;</td><td>&quot;2019 deviation road loftia&quot;</td><td>7</td><td>false</td></tr><tr><td>77</td><td>&quot;9999 &quot;</td><td>&quot;2019 deviation road loftia&quot;</td><td>7</td><td>false</td></tr><tr><td>78</td><td>&quot;9999 &quot;</td><td>&quot;2019 deviation road loftia&quot;</td><td>7</td><td>false</td></tr></tbody></table></div>"
      ],
      "text/plain": [
       "shape: (15, 5)\n",
       "┌─────┬────────────────────────────────────┬────────────────────────────────────┬───────┬──────────┐\n",
       "│ pk  ┆ left_string                        ┆ match                              ┆ score ┆ verified │\n",
       "│ --- ┆ ---                                ┆ ---                                ┆ ---   ┆ ---      │\n",
       "│ i32 ┆ str                                ┆ str                                ┆ i32   ┆ bool     │\n",
       "╞═════╪════════════════════════════════════╪════════════════════════════════════╪═══════╪══════════╡\n",
       "│ 108 ┆ 2019 rr (?)                        ┆ 2019 domaine des ardoisieres       ┆ 73    ┆ false    │\n",
       "│     ┆                                    ┆ argile rouge                       ┆       ┆          │\n",
       "│ 157 ┆ 1001 merivale white semillon       ┆ 2022 greywacke sauvignon blanc     ┆ 67    ┆ false    │\n",
       "│     ┆ sauvignon blanc                    ┆                                    ┆       ┆          │\n",
       "│ 162 ┆ 1001 allegra pinot grigio          ┆ 2021 farina pinot grigio delle     ┆ 67    ┆ false    │\n",
       "│     ┆                                    ┆ venezie                            ┆       ┆          │\n",
       "│ 138 ┆ 2021 cantina orsogana              ┆ 2021 domenica chardonnay           ┆ 62    ┆ false    │\n",
       "│ 168 ┆ 2021 piagre gampania bianco        ┆ 2021 girolamo russo etna bianco    ┆ 62    ┆ false    │\n",
       "│     ┆                                    ┆ nerina                             ┆       ┆          │\n",
       "│ 166 ┆ 1001 tottis vino bianco            ┆ 2021 nino barraco fior di bianco   ┆ 58    ┆ false    │\n",
       "│ 154 ┆ 1001 tottis vino rosso             ┆ 2019 giovanni rosso etna bianco    ┆ 53    ┆ false    │\n",
       "│ 112 ┆ 9999 leflaive macon-verze blanc le ┆ 2022 vinden estate the vinden      ┆ 49    ┆ false    │\n",
       "│     ┆ monte                              ┆ headcase pokolbin blanc            ┆       ┆          │\n",
       "│ 18  ┆ 9999 empty id, missing wine        ┆ 2021 lethbridge wines pinot noir   ┆ 48    ┆ false    │\n",
       "│ 190 ┆ 9999 mystery barret rady           ┆ 2013 woodlands cabernet merlot     ┆ 44    ┆ false    │\n",
       "│ 111 ┆ 9999 clembush                      ┆ 2015 clos du marquis               ┆ 36    ┆ false    │\n",
       "│ 27  ┆ 9999 mystery                       ┆ 2022 yangarra estate rose          ┆ 32    ┆ false    │\n",
       "│ 14  ┆ 9999                               ┆ 2019 deviation road loftia         ┆ 7     ┆ false    │\n",
       "│ 77  ┆ 9999                               ┆ 2019 deviation road loftia         ┆ 7     ┆ false    │\n",
       "│ 78  ┆ 9999                               ┆ 2019 deviation road loftia         ┆ 7     ┆ false    │\n",
       "└─────┴────────────────────────────────────┴────────────────────────────────────┴───────┴──────────┘"
      ]
     },
     "execution_count": 14,
     "metadata": {},
     "output_type": "execute_result"
    }
   ],
   "source": [
    "con.sql(\n",
    "    \"\"\"--sql\n",
    "select\n",
    "    *\n",
    "from\n",
    "    matches\n",
    "where\n",
    "    verified = false\n",
    "\"\"\"\n",
    ").pl()\n"
   ]
  },
  {
   "cell_type": "markdown",
   "metadata": {},
   "source": [
    "as we can see, out of 146 samples, 139 have verified wine name matches, and 7 have not, and have been excluded."
   ]
  },
  {
   "cell_type": "code",
   "execution_count": 15,
   "metadata": {},
   "outputs": [
    {
     "data": {
      "text/html": [
       "<div><style>\n",
       ".dataframe > thead > tr,\n",
       ".dataframe > tbody > tr {\n",
       "  text-align: right;\n",
       "  white-space: pre-wrap;\n",
       "}\n",
       "</style>\n",
       "<small>shape: (15, 5)</small><table border=\"1\" class=\"dataframe\"><thead><tr><th>pk</th><th>left_string</th><th>match</th><th>score</th><th>reason</th></tr><tr><td>i32</td><td>str</td><td>str</td><td>str</td><td>str</td></tr></thead><tbody><tr><td>108</td><td>&quot;2019 rr (?)&quot;</td><td>&quot;2019 domaine des ardoisieres argile rouge&quot;</td><td>&quot;73&quot;</td><td>&quot;missing cellatracker entry&quot;</td></tr><tr><td>157</td><td>&quot;1001 merivale white semillon sauvignon blanc&quot;</td><td>&quot;2022 greywacke sauvignon blanc&quot;</td><td>&quot;67&quot;</td><td>&quot;missing cellatracker entry&quot;</td></tr><tr><td>162</td><td>&quot;1001 allegra pinot grigio&quot;</td><td>&quot;2021 farina pinot grigio delle venezie&quot;</td><td>&quot;67&quot;</td><td>&quot;missing cellatracker entry&quot;</td></tr><tr><td>138</td><td>&quot;2021 cantina orsogana&quot;</td><td>&quot;2021 domenica chardonnay&quot;</td><td>&quot;62&quot;</td><td>&quot;missing cellatracker entry&quot;</td></tr><tr><td>168</td><td>&quot;2021 piagre gampania bianco&quot;</td><td>&quot;2021 girolamo russo etna bianco nerina&quot;</td><td>&quot;62&quot;</td><td>&quot;missing cellatracker entry&quot;</td></tr><tr><td>166</td><td>&quot;1001 tottis vino bianco&quot;</td><td>&quot;2021 nino barraco fior di bianco&quot;</td><td>&quot;58&quot;</td><td>&quot;missing cellatracker entry&quot;</td></tr><tr><td>154</td><td>&quot;1001 tottis vino rosso&quot;</td><td>&quot;2019 giovanni rosso etna bianco&quot;</td><td>&quot;53&quot;</td><td>&quot;missing cellatracker entry&quot;</td></tr><tr><td>112</td><td>&quot;9999 leflaive macon-verze blanc le monte&quot;</td><td>&quot;2022 vinden estate the vinden headcase pokolbin blanc&quot;</td><td>&quot;49&quot;</td><td>&quot;missing cellatracker entry&quot;</td></tr><tr><td>18</td><td>&quot;9999 empty id, missing wine&quot;</td><td>&quot;2021 lethbridge wines pinot noir&quot;</td><td>&quot;48&quot;</td><td>&quot;missing cellatracker entry&quot;</td></tr><tr><td>190</td><td>&quot;9999 mystery barret rady&quot;</td><td>&quot;2013 woodlands cabernet merlot&quot;</td><td>&quot;44&quot;</td><td>&quot;missing cellatracker entry&quot;</td></tr><tr><td>111</td><td>&quot;9999 clembush&quot;</td><td>&quot;2015 clos du marquis&quot;</td><td>&quot;36&quot;</td><td>&quot;missing cellatracker entry&quot;</td></tr><tr><td>27</td><td>&quot;9999 mystery&quot;</td><td>&quot;2022 yangarra estate rose&quot;</td><td>&quot;32&quot;</td><td>&quot;missing cellatracker entry&quot;</td></tr><tr><td>14</td><td>&quot;9999 &quot;</td><td>&quot;2019 deviation road loftia&quot;</td><td>&quot;7&quot;</td><td>&quot;missing cellatracker entry&quot;</td></tr><tr><td>77</td><td>&quot;9999 &quot;</td><td>&quot;2019 deviation road loftia&quot;</td><td>&quot;7&quot;</td><td>&quot;missing cellatracker entry&quot;</td></tr><tr><td>78</td><td>&quot;9999 &quot;</td><td>&quot;2019 deviation road loftia&quot;</td><td>&quot;7&quot;</td><td>&quot;missing cellatracker entry&quot;</td></tr></tbody></table></div>"
      ],
      "text/plain": [
       "shape: (15, 5)\n",
       "┌─────┬──────────────────────────────┬──────────────────────────────┬───────┬──────────────────────┐\n",
       "│ pk  ┆ left_string                  ┆ match                        ┆ score ┆ reason               │\n",
       "│ --- ┆ ---                          ┆ ---                          ┆ ---   ┆ ---                  │\n",
       "│ i32 ┆ str                          ┆ str                          ┆ str   ┆ str                  │\n",
       "╞═════╪══════════════════════════════╪══════════════════════════════╪═══════╪══════════════════════╡\n",
       "│ 108 ┆ 2019 rr (?)                  ┆ 2019 domaine des ardoisieres ┆ 73    ┆ missing cellatracker │\n",
       "│     ┆                              ┆ argile rouge                 ┆       ┆ entry                │\n",
       "│ 157 ┆ 1001 merivale white semillon ┆ 2022 greywacke sauvignon     ┆ 67    ┆ missing cellatracker │\n",
       "│     ┆ sauvignon blanc              ┆ blanc                        ┆       ┆ entry                │\n",
       "│ 162 ┆ 1001 allegra pinot grigio    ┆ 2021 farina pinot grigio     ┆ 67    ┆ missing cellatracker │\n",
       "│     ┆                              ┆ delle venezie                ┆       ┆ entry                │\n",
       "│ 138 ┆ 2021 cantina orsogana        ┆ 2021 domenica chardonnay     ┆ 62    ┆ missing cellatracker │\n",
       "│     ┆                              ┆                              ┆       ┆ entry                │\n",
       "│ 168 ┆ 2021 piagre gampania bianco  ┆ 2021 girolamo russo etna     ┆ 62    ┆ missing cellatracker │\n",
       "│     ┆                              ┆ bianco nerina                ┆       ┆ entry                │\n",
       "│ 166 ┆ 1001 tottis vino bianco      ┆ 2021 nino barraco fior di    ┆ 58    ┆ missing cellatracker │\n",
       "│     ┆                              ┆ bianco                       ┆       ┆ entry                │\n",
       "│ 154 ┆ 1001 tottis vino rosso       ┆ 2019 giovanni rosso etna     ┆ 53    ┆ missing cellatracker │\n",
       "│     ┆                              ┆ bianco                       ┆       ┆ entry                │\n",
       "│ 112 ┆ 9999 leflaive macon-verze    ┆ 2022 vinden estate the       ┆ 49    ┆ missing cellatracker │\n",
       "│     ┆ blanc le monte               ┆ vinden headcase pokolbin     ┆       ┆ entry                │\n",
       "│     ┆                              ┆ blanc                        ┆       ┆                      │\n",
       "│ 18  ┆ 9999 empty id, missing wine  ┆ 2021 lethbridge wines pinot  ┆ 48    ┆ missing cellatracker │\n",
       "│     ┆                              ┆ noir                         ┆       ┆ entry                │\n",
       "│ 190 ┆ 9999 mystery barret rady     ┆ 2013 woodlands cabernet      ┆ 44    ┆ missing cellatracker │\n",
       "│     ┆                              ┆ merlot                       ┆       ┆ entry                │\n",
       "│ 111 ┆ 9999 clembush                ┆ 2015 clos du marquis         ┆ 36    ┆ missing cellatracker │\n",
       "│     ┆                              ┆                              ┆       ┆ entry                │\n",
       "│ 27  ┆ 9999 mystery                 ┆ 2022 yangarra estate rose    ┆ 32    ┆ missing cellatracker │\n",
       "│     ┆                              ┆                              ┆       ┆ entry                │\n",
       "│ 14  ┆ 9999                         ┆ 2019 deviation road loftia   ┆ 7     ┆ missing cellatracker │\n",
       "│     ┆                              ┆                              ┆       ┆ entry                │\n",
       "│ 77  ┆ 9999                         ┆ 2019 deviation road loftia   ┆ 7     ┆ missing cellatracker │\n",
       "│     ┆                              ┆                              ┆       ┆ entry                │\n",
       "│ 78  ┆ 9999                         ┆ 2019 deviation road loftia   ┆ 7     ┆ missing cellatracker │\n",
       "│     ┆                              ┆                              ┆       ┆ entry                │\n",
       "└─────┴──────────────────────────────┴──────────────────────────────┴───────┴──────────────────────┘"
      ]
     },
     "execution_count": 15,
     "metadata": {},
     "output_type": "execute_result"
    }
   ],
   "source": [
    "con.sql(\n",
    "    \"\"\"--sql\n",
    "create or replace table excluded (\n",
    "    pk integer primary key references st(pk),\n",
    "    left_string varchar not null,\n",
    "    match varchar not null,\n",
    "    score varchar not null,\n",
    "    reason varchar not null,\n",
    "    );\n",
    "insert into excluded\n",
    "    select\n",
    "        pk,\n",
    "        left_string,\n",
    "        match,\n",
    "        score,\n",
    "        'missing cellatracker entry' as reason,\n",
    "    from\n",
    "        matches\n",
    "    where\n",
    "        verified = false\n",
    "        ;\n",
    "select\n",
    "    *\n",
    "from\n",
    "    excluded\n",
    "\"\"\"\n",
    ").pl()\n"
   ]
  },
  {
   "cell_type": "markdown",
   "metadata": {},
   "source": [
    "Looks good. Now to replace the sample tracker wine key with the cellar tracker wine key for the verified samples."
   ]
  },
  {
   "cell_type": "code",
   "execution_count": 16,
   "metadata": {},
   "outputs": [
    {
     "data": {
      "text/html": [
       "<div><style>\n",
       ".dataframe > thead > tr,\n",
       ".dataframe > tbody > tr {\n",
       "  text-align: right;\n",
       "  white-space: pre-wrap;\n",
       "}\n",
       "</style>\n",
       "<small>shape: (5, 4)</small><table border=\"1\" class=\"dataframe\"><thead><tr><th>wine_key</th><th>new_wine_key</th><th>wine</th><th>new_wine</th></tr><tr><td>str</td><td>str</td><td>str</td><td>str</td></tr></thead><tbody><tr><td>&quot;2016 zema estate family selection cabernet sauvignon&quot;</td><td>&quot;2016 zema estate cabernet sauvignon family selection&quot;</td><td>&quot;zema estate family selection cabernet sauvignon&quot;</td><td>&quot;zema estate cabernet sauvignon family selection&quot;</td></tr><tr><td>&quot;2022 william downie cathedral pinot noir&quot;</td><td>&quot;2022 william downie cathedral&quot;</td><td>&quot;william downie cathedral pinot noir&quot;</td><td>&quot;william downie cathedral&quot;</td></tr><tr><td>&quot;2021 babo chianti&quot;</td><td>&quot;2021 babo chianti&quot;</td><td>&quot;babo chianti&quot;</td><td>&quot;babo chianti&quot;</td></tr><tr><td>&quot;2021 joshua cooper shays flat cabernet sauvignon&quot;</td><td>&quot;2021 joshua cooper cabernet sauvignon landsborough shays flat&quot;</td><td>&quot;joshua cooper shays flat cabernet sauvignon&quot;</td><td>&quot;joshua cooper cabernet sauvignon landsborough shays flat&quot;</td></tr><tr><td>&quot;2022 william downie cathedral pinot noir&quot;</td><td>&quot;2022 william downie cathedral&quot;</td><td>&quot;william downie cathedral pinot noir&quot;</td><td>&quot;william downie cathedral&quot;</td></tr></tbody></table></div>"
      ],
      "text/plain": [
       "shape: (5, 4)\n",
       "┌────────────────────────┬────────────────────────┬────────────────────────┬───────────────────────┐\n",
       "│ wine_key               ┆ new_wine_key           ┆ wine                   ┆ new_wine              │\n",
       "│ ---                    ┆ ---                    ┆ ---                    ┆ ---                   │\n",
       "│ str                    ┆ str                    ┆ str                    ┆ str                   │\n",
       "╞════════════════════════╪════════════════════════╪════════════════════════╪═══════════════════════╡\n",
       "│ 2016 zema estate       ┆ 2016 zema estate       ┆ zema estate family     ┆ zema estate cabernet  │\n",
       "│ family selection       ┆ cabernet sauvignon     ┆ selection cabernet     ┆ sauvignon family      │\n",
       "│ cabernet sauvignon     ┆ family selection       ┆ sauvignon              ┆ selection             │\n",
       "│ 2022 william downie    ┆ 2022 william downie    ┆ william downie         ┆ william downie        │\n",
       "│ cathedral pinot noir   ┆ cathedral              ┆ cathedral pinot noir   ┆ cathedral             │\n",
       "│ 2021 babo chianti      ┆ 2021 babo chianti      ┆ babo chianti           ┆ babo chianti          │\n",
       "│ 2021 joshua cooper     ┆ 2021 joshua cooper     ┆ joshua cooper shays    ┆ joshua cooper         │\n",
       "│ shays flat cabernet    ┆ cabernet sauvignon     ┆ flat cabernet          ┆ cabernet sauvignon    │\n",
       "│ sauvignon              ┆ landsborough shays     ┆ sauvignon              ┆ landsborough shays    │\n",
       "│                        ┆ flat                   ┆                        ┆ flat                  │\n",
       "│ 2022 william downie    ┆ 2022 william downie    ┆ william downie         ┆ william downie        │\n",
       "│ cathedral pinot noir   ┆ cathedral              ┆ cathedral pinot noir   ┆ cathedral             │\n",
       "└────────────────────────┴────────────────────────┴────────────────────────┴───────────────────────┘"
      ]
     },
     "execution_count": 16,
     "metadata": {},
     "output_type": "execute_result"
    }
   ],
   "source": [
    "con.sql(\n",
    "    \"\"\"--sql\n",
    "alter table st add column if not exists new_wine_key varchar;\n",
    "update st\n",
    "    set new_wine_key = match\n",
    "    from\n",
    "        matches\n",
    "    where\n",
    "        wine_key = left_string\n",
    "    and\n",
    "        verified = true\n",
    "    and\n",
    "        matches.pk = st.pk;\n",
    "alter table st add column if not exists new_wine varchar;\n",
    "update st orig\n",
    "    set new_wine = new.new_wine_key[6:]\n",
    "    from\n",
    "        st new\n",
    "    where\n",
    "        new.pk = orig.pk\n",
    "    ;\n",
    "select\n",
    "    wine_key,\n",
    "    new_wine_key,\n",
    "    wine,\n",
    "    new_wine,\n",
    "from\n",
    "    st\n",
    "limit 5\n",
    "\"\"\"\n",
    ").pl()\n"
   ]
  },
  {
   "cell_type": "markdown",
   "metadata": {},
   "source": [
    "Finally, a we've matched on `vintage` + `wine`, we should verify if the matched vintage strings equal the `st.vintage` field:"
   ]
  },
  {
   "cell_type": "code",
   "execution_count": 17,
   "metadata": {},
   "outputs": [
    {
     "data": {
      "text/html": [
       "<div><style>\n",
       ".dataframe > thead > tr,\n",
       ".dataframe > tbody > tr {\n",
       "  text-align: right;\n",
       "  white-space: pre-wrap;\n",
       "}\n",
       "</style>\n",
       "<small>shape: (1, 1)</small><table border=\"1\" class=\"dataframe\"><thead><tr><th>all_vintages_equal</th></tr><tr><td>bool</td></tr></thead><tbody><tr><td>true</td></tr></tbody></table></div>"
      ],
      "text/plain": [
       "shape: (1, 1)\n",
       "┌────────────────────┐\n",
       "│ all_vintages_equal │\n",
       "│ ---                │\n",
       "│ bool               │\n",
       "╞════════════════════╡\n",
       "│ true               │\n",
       "└────────────────────┘"
      ]
     },
     "execution_count": 17,
     "metadata": {},
     "output_type": "execute_result"
    }
   ],
   "source": [
    "con.sql(\n",
    "    \"\"\"--sql\n",
    "select\n",
    "    bool_and(cast(new_wine_key[0:4] as integer) = vintage) all_vintages_equal,\n",
    "from\n",
    "    st\n",
    "\"\"\"\n",
    ").pl()\n"
   ]
  },
  {
   "cell_type": "markdown",
   "metadata": {},
   "source": [
    "Ok, looks good to me. Can fully replace the fields now."
   ]
  },
  {
   "cell_type": "code",
   "execution_count": 18,
   "metadata": {},
   "outputs": [
    {
     "data": {
      "text/html": [
       "<div><style>\n",
       ".dataframe > thead > tr,\n",
       ".dataframe > tbody > tr {\n",
       "  text-align: right;\n",
       "  white-space: pre-wrap;\n",
       "}\n",
       "</style>\n",
       "<small>shape: (190, 2)</small><table border=\"1\" class=\"dataframe\"><thead><tr><th>wine_key</th><th>new_wine_key</th></tr><tr><td>str</td><td>str</td></tr></thead><tbody><tr><td>&quot;2016 zema estate family selection cabernet sauvignon&quot;</td><td>&quot;2016 zema estate cabernet sauvignon family selection&quot;</td></tr><tr><td>&quot;2022 william downie cathedral pinot noir&quot;</td><td>&quot;2022 william downie cathedral&quot;</td></tr><tr><td>&quot;2021 babo chianti&quot;</td><td>&quot;2021 babo chianti&quot;</td></tr><tr><td>&quot;2021 joshua cooper shays flat cabernet sauvignon&quot;</td><td>&quot;2021 joshua cooper cabernet sauvignon landsborough shays flat&quot;</td></tr><tr><td>&quot;2022 william downie cathedral pinot noir&quot;</td><td>&quot;2022 william downie cathedral&quot;</td></tr><tr><td>&quot;2021 babo chianti&quot;</td><td>&quot;2021 babo chianti&quot;</td></tr><tr><td>&quot;2020 uva non grata gamay&quot;</td><td>&quot;2020 boutinot uva non grata&quot;</td></tr><tr><td>&quot;2021 hey malbec&quot;</td><td>&quot;2021 matias riccitelli malbec hey malbec!&quot;</td></tr><tr><td>&hellip;</td><td>&hellip;</td></tr><tr><td>&quot;2022 das juice pet nat&quot;</td><td>&quot;2022 das juice pet nat rose&quot;</td></tr><tr><td>&quot;2021 babo chianti&quot;</td><td>&quot;2021 babo chianti&quot;</td></tr><tr><td>&quot;2017 andrea oberto barolo&quot;</td><td>&quot;2017 andrea oberto barolo del comune di la morra&quot;</td></tr><tr><td>&quot;2021 john duval wines shiraz concilio&quot;</td><td>&quot;2021 john duval wines shiraz concilio&quot;</td></tr><tr><td>&quot;2021 torbreck shiraz the struie&quot;</td><td>&quot;2021 torbreck shiraz the struie&quot;</td></tr><tr><td>&quot;2020 orlando grenache cellar 13 grenache&quot;</td><td>&quot;2020 orlando grenache cellar 13&quot;</td></tr><tr><td>&quot;9999 mystery barret rady&quot;</td><td>null</td></tr></tbody></table></div>"
      ],
      "text/plain": [
       "shape: (190, 2)\n",
       "┌────────────────────────────────────────────┬─────────────────────────────────────────────────────┐\n",
       "│ wine_key                                   ┆ new_wine_key                                        │\n",
       "│ ---                                        ┆ ---                                                 │\n",
       "│ str                                        ┆ str                                                 │\n",
       "╞════════════════════════════════════════════╪═════════════════════════════════════════════════════╡\n",
       "│ 2016 zema estate family selection cabernet ┆ 2016 zema estate cabernet sauvignon family          │\n",
       "│ sauvignon                                  ┆ selection                                           │\n",
       "│ 2022 william downie cathedral pinot noir   ┆ 2022 william downie cathedral                       │\n",
       "│ 2021 babo chianti                          ┆ 2021 babo chianti                                   │\n",
       "│ 2021 joshua cooper shays flat cabernet     ┆ 2021 joshua cooper cabernet sauvignon landsborough  │\n",
       "│ sauvignon                                  ┆ shays flat                                          │\n",
       "│ 2022 william downie cathedral pinot noir   ┆ 2022 william downie cathedral                       │\n",
       "│ 2021 babo chianti                          ┆ 2021 babo chianti                                   │\n",
       "│ 2020 uva non grata gamay                   ┆ 2020 boutinot uva non grata                         │\n",
       "│ 2021 hey malbec                            ┆ 2021 matias riccitelli malbec hey malbec!           │\n",
       "│ …                                          ┆ …                                                   │\n",
       "│ 2022 das juice pet nat                     ┆ 2022 das juice pet nat rose                         │\n",
       "│ 2021 babo chianti                          ┆ 2021 babo chianti                                   │\n",
       "│ 2017 andrea oberto barolo                  ┆ 2017 andrea oberto barolo del comune di la morra    │\n",
       "│ 2021 john duval wines shiraz concilio      ┆ 2021 john duval wines shiraz concilio               │\n",
       "│ 2021 torbreck shiraz the struie            ┆ 2021 torbreck shiraz the struie                     │\n",
       "│ 2020 orlando grenache cellar 13 grenache   ┆ 2020 orlando grenache cellar 13                     │\n",
       "│ 9999 mystery barret rady                   ┆ null                                                │\n",
       "└────────────────────────────────────────────┴─────────────────────────────────────────────────────┘"
      ]
     },
     "execution_count": 18,
     "metadata": {},
     "output_type": "execute_result"
    }
   ],
   "source": [
    "con.sql(\n",
    "    \"\"\"--sql\n",
    "select\n",
    "    wine_key,\n",
    "    new_wine_key\n",
    "from\n",
    "    st\n",
    "\"\"\"\n",
    ").pl()\n"
   ]
  },
  {
   "cell_type": "code",
   "execution_count": 19,
   "metadata": {},
   "outputs": [
    {
     "data": {
      "text/html": [
       "<div><style>\n",
       ".dataframe > thead > tr,\n",
       ".dataframe > tbody > tr {\n",
       "  text-align: right;\n",
       "  white-space: pre-wrap;\n",
       "}\n",
       "</style>\n",
       "<small>shape: (15, 14)</small><table border=\"1\" class=\"dataframe\"><thead><tr><th>pk</th><th>detection</th><th>wine_key</th><th>wine</th><th>vintage</th><th>sampler</th><th>samplecode</th><th>open_date</th><th>sampled_date</th><th>added_to_cellartracker</th><th>notes</th><th>size</th><th>new_wine_key</th><th>new_wine</th></tr><tr><td>i32</td><td>str</td><td>str</td><td>str</td><td>i32</td><td>str</td><td>str</td><td>str</td><td>str</td><td>bool</td><td>str</td><td>f32</td><td>str</td><td>str</td></tr></thead><tbody><tr><td>14</td><td>&quot;raw&quot;</td><td>&quot;9999 &quot;</td><td>null</td><td>9999</td><td>&quot;jonathan&quot;</td><td>&quot;14&quot;</td><td>null</td><td>null</td><td>true</td><td>null</td><td>750.0</td><td>null</td><td>null</td></tr><tr><td>18</td><td>&quot;raw&quot;</td><td>&quot;9999 empty id, missing wine&quot;</td><td>&quot;empty id, missing wine&quot;</td><td>9999</td><td>&quot;jonathan&quot;</td><td>&quot;18&quot;</td><td>null</td><td>null</td><td>true</td><td>null</td><td>750.0</td><td>null</td><td>null</td></tr><tr><td>27</td><td>&quot;raw&quot;</td><td>&quot;9999 mystery&quot;</td><td>&quot;mystery&quot;</td><td>9999</td><td>&quot;jonathan&quot;</td><td>&quot;27&quot;</td><td>&quot;2023-02-10&quot;</td><td>null</td><td>true</td><td>null</td><td>750.0</td><td>null</td><td>null</td></tr><tr><td>77</td><td>&quot;raw&quot;</td><td>&quot;9999 &quot;</td><td>null</td><td>9999</td><td>&quot;jonathan&quot;</td><td>&quot;77&quot;</td><td>null</td><td>null</td><td>false</td><td>null</td><td>750.0</td><td>null</td><td>null</td></tr><tr><td>78</td><td>&quot;raw&quot;</td><td>&quot;9999 &quot;</td><td>null</td><td>9999</td><td>&quot;jonathan&quot;</td><td>&quot;78&quot;</td><td>null</td><td>null</td><td>false</td><td>null</td><td>750.0</td><td>null</td><td>null</td></tr><tr><td>108</td><td>&quot;raw&quot;</td><td>&quot;2019 rr (?)&quot;</td><td>&quot;rr (?)&quot;</td><td>2019</td><td>&quot;jonathan&quot;</td><td>&quot;109&quot;</td><td>&quot;2023-04-21&quot;</td><td>&quot;2023-05-08&quot;</td><td>false</td><td>null</td><td>750.0</td><td>null</td><td>null</td></tr><tr><td>111</td><td>&quot;raw&quot;</td><td>&quot;9999 clembush&quot;</td><td>&quot;clembush&quot;</td><td>9999</td><td>&quot;jonathan&quot;</td><td>&quot;112&quot;</td><td>&quot;2023-05-05&quot;</td><td>&quot;2023-05-08&quot;</td><td>false</td><td>null</td><td>750.0</td><td>null</td><td>null</td></tr><tr><td>112</td><td>&quot;raw&quot;</td><td>&quot;9999 leflaive macon-verze blanc le monte&quot;</td><td>&quot;leflaive macon-verze blanc le monte&quot;</td><td>9999</td><td>&quot;jonathan&quot;</td><td>&quot;113&quot;</td><td>&quot;2023-04-20&quot;</td><td>&quot;2023-05-08&quot;</td><td>false</td><td>null</td><td>750.0</td><td>null</td><td>null</td></tr><tr><td>138</td><td>&quot;cuprac&quot;</td><td>&quot;2021 cantina orsogana&quot;</td><td>&quot;cantina orsogana&quot;</td><td>2021</td><td>&quot;colin&quot;</td><td>&quot;127&quot;</td><td>&quot;2023-05-13&quot;</td><td>&quot;2023-05-19&quot;</td><td>false</td><td>&quot;2023-06-04 11:05:26 - will have to check signal to id what wine this is&quot;</td><td>null</td><td>null</td><td>null</td></tr><tr><td>154</td><td>&quot;cuprac&quot;</td><td>&quot;1001 tottis vino rosso&quot;</td><td>&quot;tottis vino rosso&quot;</td><td>1001</td><td>&quot;davy&quot;</td><td>&quot;143&quot;</td><td>null</td><td>null</td><td>false</td><td>&quot;sangiovese blend italy&quot;</td><td>null</td><td>null</td><td>null</td></tr><tr><td>157</td><td>&quot;cuprac&quot;</td><td>&quot;1001 merivale white semillon sauvignon blanc&quot;</td><td>&quot;merivale white semillon sauvignon blanc&quot;</td><td>1001</td><td>&quot;davy&quot;</td><td>&quot;146&quot;</td><td>null</td><td>null</td><td>false</td><td>&quot;house blend&quot;</td><td>null</td><td>null</td><td>null</td></tr><tr><td>162</td><td>&quot;cuprac&quot;</td><td>&quot;1001 allegra pinot grigio&quot;</td><td>&quot;allegra pinot grigio&quot;</td><td>1001</td><td>&quot;davy&quot;</td><td>&quot;151&quot;</td><td>null</td><td>null</td><td>false</td><td>null</td><td>null</td><td>null</td><td>null</td></tr><tr><td>166</td><td>&quot;cuprac&quot;</td><td>&quot;1001 tottis vino bianco&quot;</td><td>&quot;tottis vino bianco&quot;</td><td>1001</td><td>&quot;davy&quot;</td><td>&quot;155&quot;</td><td>null</td><td>null</td><td>true</td><td>&quot;tottis vino bianco pinot grigio friuli, it&quot;</td><td>null</td><td>null</td><td>null</td></tr><tr><td>168</td><td>&quot;cuprac&quot;</td><td>&quot;2021 piagre gampania bianco&quot;</td><td>&quot;piagre gampania bianco&quot;</td><td>2021</td><td>&quot;colin&quot;</td><td>&quot;157&quot;</td><td>null</td><td>null</td><td>false</td><td>&quot;cant identify this wine. check with colin&quot;</td><td>null</td><td>null</td><td>null</td></tr><tr><td>190</td><td>&quot;cuprac&quot;</td><td>&quot;9999 mystery barret rady&quot;</td><td>&quot;mystery barret rady&quot;</td><td>9999</td><td>&quot;jonathan&quot;</td><td>&quot;179&quot;</td><td>&quot;2023-05-26&quot;</td><td>&quot;2023-05-30&quot;</td><td>false</td><td>null</td><td>null</td><td>null</td><td>null</td></tr></tbody></table></div>"
      ],
      "text/plain": [
       "shape: (15, 14)\n",
       "┌─────┬───────────┬──────────────┬──────────────┬───┬─────────────┬───────┬─────────────┬──────────┐\n",
       "│ pk  ┆ detection ┆ wine_key     ┆ wine         ┆ … ┆ notes       ┆ size  ┆ new_wine_ke ┆ new_wine │\n",
       "│ --- ┆ ---       ┆ ---          ┆ ---          ┆   ┆ ---         ┆ ---   ┆ y           ┆ ---      │\n",
       "│ i32 ┆ str       ┆ str          ┆ str          ┆   ┆ str         ┆ f32   ┆ ---         ┆ str      │\n",
       "│     ┆           ┆              ┆              ┆   ┆             ┆       ┆ str         ┆          │\n",
       "╞═════╪═══════════╪══════════════╪══════════════╪═══╪═════════════╪═══════╪═════════════╪══════════╡\n",
       "│ 14  ┆ raw       ┆ 9999         ┆ null         ┆ … ┆ null        ┆ 750.0 ┆ null        ┆ null     │\n",
       "│ 18  ┆ raw       ┆ 9999 empty   ┆ empty id,    ┆ … ┆ null        ┆ 750.0 ┆ null        ┆ null     │\n",
       "│     ┆           ┆ id, missing  ┆ missing wine ┆   ┆             ┆       ┆             ┆          │\n",
       "│     ┆           ┆ wine         ┆              ┆   ┆             ┆       ┆             ┆          │\n",
       "│ 27  ┆ raw       ┆ 9999 mystery ┆ mystery      ┆ … ┆ null        ┆ 750.0 ┆ null        ┆ null     │\n",
       "│ 77  ┆ raw       ┆ 9999         ┆ null         ┆ … ┆ null        ┆ 750.0 ┆ null        ┆ null     │\n",
       "│ 78  ┆ raw       ┆ 9999         ┆ null         ┆ … ┆ null        ┆ 750.0 ┆ null        ┆ null     │\n",
       "│ 108 ┆ raw       ┆ 2019 rr (?)  ┆ rr (?)       ┆ … ┆ null        ┆ 750.0 ┆ null        ┆ null     │\n",
       "│ 111 ┆ raw       ┆ 9999         ┆ clembush     ┆ … ┆ null        ┆ 750.0 ┆ null        ┆ null     │\n",
       "│     ┆           ┆ clembush     ┆              ┆   ┆             ┆       ┆             ┆          │\n",
       "│ 112 ┆ raw       ┆ 9999         ┆ leflaive     ┆ … ┆ null        ┆ 750.0 ┆ null        ┆ null     │\n",
       "│     ┆           ┆ leflaive     ┆ macon-verze  ┆   ┆             ┆       ┆             ┆          │\n",
       "│     ┆           ┆ macon-verze  ┆ blanc le     ┆   ┆             ┆       ┆             ┆          │\n",
       "│     ┆           ┆ blanc le     ┆ monte        ┆   ┆             ┆       ┆             ┆          │\n",
       "│     ┆           ┆ monte        ┆              ┆   ┆             ┆       ┆             ┆          │\n",
       "│ 138 ┆ cuprac    ┆ 2021 cantina ┆ cantina      ┆ … ┆ 2023-06-04  ┆ null  ┆ null        ┆ null     │\n",
       "│     ┆           ┆ orsogana     ┆ orsogana     ┆   ┆ 11:05:26 -  ┆       ┆             ┆          │\n",
       "│     ┆           ┆              ┆              ┆   ┆ will have   ┆       ┆             ┆          │\n",
       "│     ┆           ┆              ┆              ┆   ┆ to check    ┆       ┆             ┆          │\n",
       "│     ┆           ┆              ┆              ┆   ┆ signal to   ┆       ┆             ┆          │\n",
       "│     ┆           ┆              ┆              ┆   ┆ id what     ┆       ┆             ┆          │\n",
       "│     ┆           ┆              ┆              ┆   ┆ wine this   ┆       ┆             ┆          │\n",
       "│     ┆           ┆              ┆              ┆   ┆ is          ┆       ┆             ┆          │\n",
       "│ 154 ┆ cuprac    ┆ 1001 tottis  ┆ tottis vino  ┆ … ┆ sangiovese  ┆ null  ┆ null        ┆ null     │\n",
       "│     ┆           ┆ vino rosso   ┆ rosso        ┆   ┆ blend italy ┆       ┆             ┆          │\n",
       "│ 157 ┆ cuprac    ┆ 1001         ┆ merivale     ┆ … ┆ house blend ┆ null  ┆ null        ┆ null     │\n",
       "│     ┆           ┆ merivale     ┆ white        ┆   ┆             ┆       ┆             ┆          │\n",
       "│     ┆           ┆ white        ┆ semillon     ┆   ┆             ┆       ┆             ┆          │\n",
       "│     ┆           ┆ semillon     ┆ sauvignon    ┆   ┆             ┆       ┆             ┆          │\n",
       "│     ┆           ┆ sauvignon    ┆ blanc        ┆   ┆             ┆       ┆             ┆          │\n",
       "│     ┆           ┆ blanc        ┆              ┆   ┆             ┆       ┆             ┆          │\n",
       "│ 162 ┆ cuprac    ┆ 1001 allegra ┆ allegra      ┆ … ┆ null        ┆ null  ┆ null        ┆ null     │\n",
       "│     ┆           ┆ pinot grigio ┆ pinot grigio ┆   ┆             ┆       ┆             ┆          │\n",
       "│ 166 ┆ cuprac    ┆ 1001 tottis  ┆ tottis vino  ┆ … ┆ tottis vino ┆ null  ┆ null        ┆ null     │\n",
       "│     ┆           ┆ vino bianco  ┆ bianco       ┆   ┆ bianco      ┆       ┆             ┆          │\n",
       "│     ┆           ┆              ┆              ┆   ┆ pinot       ┆       ┆             ┆          │\n",
       "│     ┆           ┆              ┆              ┆   ┆ grigio      ┆       ┆             ┆          │\n",
       "│     ┆           ┆              ┆              ┆   ┆ friuli, it  ┆       ┆             ┆          │\n",
       "│ 168 ┆ cuprac    ┆ 2021 piagre  ┆ piagre       ┆ … ┆ cant        ┆ null  ┆ null        ┆ null     │\n",
       "│     ┆           ┆ gampania     ┆ gampania     ┆   ┆ identify    ┆       ┆             ┆          │\n",
       "│     ┆           ┆ bianco       ┆ bianco       ┆   ┆ this wine.  ┆       ┆             ┆          │\n",
       "│     ┆           ┆              ┆              ┆   ┆ check with  ┆       ┆             ┆          │\n",
       "│     ┆           ┆              ┆              ┆   ┆ colin       ┆       ┆             ┆          │\n",
       "│ 190 ┆ cuprac    ┆ 9999 mystery ┆ mystery      ┆ … ┆ null        ┆ null  ┆ null        ┆ null     │\n",
       "│     ┆           ┆ barret rady  ┆ barret rady  ┆   ┆             ┆       ┆             ┆          │\n",
       "└─────┴───────────┴──────────────┴──────────────┴───┴─────────────┴───────┴─────────────┴──────────┘"
      ]
     },
     "execution_count": 19,
     "metadata": {},
     "output_type": "execute_result"
    }
   ],
   "source": [
    "con.sql(\n",
    "    \"\"\"--sql\n",
    "select\n",
    "    *\n",
    "from\n",
    "    st\n",
    "where\n",
    "    new_wine_key is null\n",
    "\"\"\"\n",
    ").pl()\n"
   ]
  },
  {
   "cell_type": "code",
   "execution_count": 20,
   "metadata": {},
   "outputs": [
    {
     "data": {
      "text/html": [
       "<div><style>\n",
       ".dataframe > thead > tr,\n",
       ".dataframe > tbody > tr {\n",
       "  text-align: right;\n",
       "  white-space: pre-wrap;\n",
       "}\n",
       "</style>\n",
       "<small>shape: (1, 3)</small><table border=\"1\" class=\"dataframe\"><thead><tr><th>total_count</th><th>null_count</th><th>not_null_count</th></tr><tr><td>i64</td><td>i64</td><td>i64</td></tr></thead><tbody><tr><td>190</td><td>15</td><td>175</td></tr></tbody></table></div>"
      ],
      "text/plain": [
       "shape: (1, 3)\n",
       "┌─────────────┬────────────┬────────────────┐\n",
       "│ total_count ┆ null_count ┆ not_null_count │\n",
       "│ ---         ┆ ---        ┆ ---            │\n",
       "│ i64         ┆ i64        ┆ i64            │\n",
       "╞═════════════╪════════════╪════════════════╡\n",
       "│ 190         ┆ 15         ┆ 175            │\n",
       "└─────────────┴────────────┴────────────────┘"
      ]
     },
     "execution_count": 20,
     "metadata": {},
     "output_type": "execute_result"
    }
   ],
   "source": [
    "con.sql(\n",
    "    \"\"\"--sql\n",
    "select\n",
    "    (select count(*) from st) as total_count,\n",
    "    (select count(*) from st where new_wine_key is null) as null_count,\n",
    "    (select count(*) from st where new_wine_key is not null) as not_null_count;\n",
    "\"\"\"\n",
    ").pl()\n"
   ]
  },
  {
   "cell_type": "code",
   "execution_count": 21,
   "metadata": {},
   "outputs": [
    {
     "data": {
      "text/html": [
       "<div><style>\n",
       ".dataframe > thead > tr,\n",
       ".dataframe > tbody > tr {\n",
       "  text-align: right;\n",
       "  white-space: pre-wrap;\n",
       "}\n",
       "</style>\n",
       "<small>shape: (190, 3)</small><table border=\"1\" class=\"dataframe\"><thead><tr><th>wine_key</th><th>wine</th><th>vintage</th></tr><tr><td>str</td><td>str</td><td>i32</td></tr></thead><tbody><tr><td>&quot;2016 zema estate cabernet sauvignon family selection&quot;</td><td>&quot;zema estate cabernet sauvignon family selection&quot;</td><td>2016</td></tr><tr><td>&quot;2022 william downie cathedral&quot;</td><td>&quot;william downie cathedral&quot;</td><td>2022</td></tr><tr><td>&quot;2021 babo chianti&quot;</td><td>&quot;babo chianti&quot;</td><td>2021</td></tr><tr><td>&quot;2021 joshua cooper cabernet sauvignon landsborough shays flat&quot;</td><td>&quot;joshua cooper cabernet sauvignon landsborough shays flat&quot;</td><td>2021</td></tr><tr><td>&quot;2022 william downie cathedral&quot;</td><td>&quot;william downie cathedral&quot;</td><td>2022</td></tr><tr><td>&quot;2021 babo chianti&quot;</td><td>&quot;babo chianti&quot;</td><td>2021</td></tr><tr><td>&quot;2020 boutinot uva non grata&quot;</td><td>&quot;boutinot uva non grata&quot;</td><td>2020</td></tr><tr><td>&quot;2021 matias riccitelli malbec hey malbec!&quot;</td><td>&quot;matias riccitelli malbec hey malbec!&quot;</td><td>2021</td></tr><tr><td>&hellip;</td><td>&hellip;</td><td>&hellip;</td></tr><tr><td>&quot;2022 das juice pet nat rose&quot;</td><td>&quot;das juice pet nat rose&quot;</td><td>2022</td></tr><tr><td>&quot;2021 babo chianti&quot;</td><td>&quot;babo chianti&quot;</td><td>2021</td></tr><tr><td>&quot;2017 andrea oberto barolo del comune di la morra&quot;</td><td>&quot;andrea oberto barolo del comune di la morra&quot;</td><td>2017</td></tr><tr><td>&quot;2021 john duval wines shiraz concilio&quot;</td><td>&quot;john duval wines shiraz concilio&quot;</td><td>2021</td></tr><tr><td>&quot;2021 torbreck shiraz the struie&quot;</td><td>&quot;torbreck shiraz the struie&quot;</td><td>2021</td></tr><tr><td>&quot;2020 orlando grenache cellar 13&quot;</td><td>&quot;orlando grenache cellar 13&quot;</td><td>2020</td></tr><tr><td>&quot;9999 mystery barret rady&quot;</td><td>&quot;mystery barret rady&quot;</td><td>9999</td></tr></tbody></table></div>"
      ],
      "text/plain": [
       "shape: (190, 3)\n",
       "┌────────────────────────────────────────────┬───────────────────────────────────────┬─────────┐\n",
       "│ wine_key                                   ┆ wine                                  ┆ vintage │\n",
       "│ ---                                        ┆ ---                                   ┆ ---     │\n",
       "│ str                                        ┆ str                                   ┆ i32     │\n",
       "╞════════════════════════════════════════════╪═══════════════════════════════════════╪═════════╡\n",
       "│ 2016 zema estate cabernet sauvignon family ┆ zema estate cabernet sauvignon family ┆ 2016    │\n",
       "│ selection                                  ┆ selection                             ┆         │\n",
       "│ 2022 william downie cathedral              ┆ william downie cathedral              ┆ 2022    │\n",
       "│ 2021 babo chianti                          ┆ babo chianti                          ┆ 2021    │\n",
       "│ 2021 joshua cooper cabernet sauvignon      ┆ joshua cooper cabernet sauvignon      ┆ 2021    │\n",
       "│ landsborough shays flat                    ┆ landsborough shays flat               ┆         │\n",
       "│ 2022 william downie cathedral              ┆ william downie cathedral              ┆ 2022    │\n",
       "│ 2021 babo chianti                          ┆ babo chianti                          ┆ 2021    │\n",
       "│ 2020 boutinot uva non grata                ┆ boutinot uva non grata                ┆ 2020    │\n",
       "│ 2021 matias riccitelli malbec hey malbec!  ┆ matias riccitelli malbec hey malbec!  ┆ 2021    │\n",
       "│ …                                          ┆ …                                     ┆ …       │\n",
       "│ 2022 das juice pet nat rose                ┆ das juice pet nat rose                ┆ 2022    │\n",
       "│ 2021 babo chianti                          ┆ babo chianti                          ┆ 2021    │\n",
       "│ 2017 andrea oberto barolo del comune di la ┆ andrea oberto barolo del comune di la ┆ 2017    │\n",
       "│ morra                                      ┆ morra                                 ┆         │\n",
       "│ 2021 john duval wines shiraz concilio      ┆ john duval wines shiraz concilio      ┆ 2021    │\n",
       "│ 2021 torbreck shiraz the struie            ┆ torbreck shiraz the struie            ┆ 2021    │\n",
       "│ 2020 orlando grenache cellar 13            ┆ orlando grenache cellar 13            ┆ 2020    │\n",
       "│ 9999 mystery barret rady                   ┆ mystery barret rady                   ┆ 9999    │\n",
       "└────────────────────────────────────────────┴───────────────────────────────────────┴─────────┘"
      ]
     },
     "execution_count": 21,
     "metadata": {},
     "output_type": "execute_result"
    }
   ],
   "source": [
    "con.sql(\n",
    "    \"\"\"--sql\n",
    "update st as orig\n",
    "    set wine_key = (\n",
    "    select\n",
    "        coalesce(new_wine_key, wine_key)\n",
    "    from\n",
    "        st as new\n",
    "    where\n",
    "        orig.pk = new.pk\n",
    "        );\n",
    "update st as orig\n",
    "    set wine = (\n",
    "    select\n",
    "        wine_key[6:]\n",
    "    from\n",
    "        st as new\n",
    "    where\n",
    "        orig.pk = new.pk\n",
    "    );\n",
    "select\n",
    "    wine_key,\n",
    "    wine,\n",
    "    vintage,\n",
    "from\n",
    "    st\n",
    "\"\"\"\n",
    ").pl()\n"
   ]
  },
  {
   "cell_type": "code",
   "execution_count": 22,
   "metadata": {},
   "outputs": [
    {
     "data": {
      "text/html": [
       "<div><style>\n",
       ".dataframe > thead > tr,\n",
       ".dataframe > tbody > tr {\n",
       "  text-align: right;\n",
       "  white-space: pre-wrap;\n",
       "}\n",
       "</style>\n",
       "<small>shape: (3, 14)</small><table border=\"1\" class=\"dataframe\"><thead><tr><th>pk</th><th>detection</th><th>wine_key</th><th>wine</th><th>vintage</th><th>sampler</th><th>samplecode</th><th>open_date</th><th>sampled_date</th><th>added_to_cellartracker</th><th>notes</th><th>size</th><th>new_wine_key</th><th>new_wine</th></tr><tr><td>i32</td><td>str</td><td>str</td><td>str</td><td>i32</td><td>str</td><td>str</td><td>str</td><td>str</td><td>bool</td><td>str</td><td>f32</td><td>str</td><td>str</td></tr></thead><tbody><tr><td>1</td><td>&quot;raw&quot;</td><td>&quot;2016 zema estate cabernet sauvignon family selection&quot;</td><td>&quot;zema estate cabernet sauvignon family selection&quot;</td><td>2016</td><td>&quot;jonathan&quot;</td><td>&quot;00&quot;</td><td>null</td><td>null</td><td>true</td><td>&quot;freezer storage. sampled at 21:20 20230122, stored for 10h before transport to lab.&quot;</td><td>750.0</td><td>&quot;2016 zema estate cabernet sauvignon family selection&quot;</td><td>&quot;zema estate cabernet sauvignon family selection&quot;</td></tr><tr><td>2</td><td>&quot;raw&quot;</td><td>&quot;2022 william downie cathedral&quot;</td><td>&quot;william downie cathedral&quot;</td><td>2022</td><td>&quot;jonathan&quot;</td><td>&quot;01&quot;</td><td>null</td><td>null</td><td>true</td><td>&quot;ambient 2 weeks. sampled 20230111.&quot;</td><td>750.0</td><td>&quot;2022 william downie cathedral&quot;</td><td>&quot;william downie cathedral&quot;</td></tr><tr><td>3</td><td>&quot;raw&quot;</td><td>&quot;2021 babo chianti&quot;</td><td>&quot;babo chianti&quot;</td><td>2021</td><td>&quot;jonathan&quot;</td><td>&quot;02&quot;</td><td>null</td><td>null</td><td>true</td><td>&quot;ambient 2 weeks. sampled 20230111.&quot;</td><td>750.0</td><td>&quot;2021 babo chianti&quot;</td><td>&quot;babo chianti&quot;</td></tr></tbody></table></div>"
      ],
      "text/plain": [
       "shape: (3, 14)\n",
       "┌─────┬───────────┬─────────────┬─────────────┬───┬─────────────┬───────┬─────────────┬────────────┐\n",
       "│ pk  ┆ detection ┆ wine_key    ┆ wine        ┆ … ┆ notes       ┆ size  ┆ new_wine_ke ┆ new_wine   │\n",
       "│ --- ┆ ---       ┆ ---         ┆ ---         ┆   ┆ ---         ┆ ---   ┆ y           ┆ ---        │\n",
       "│ i32 ┆ str       ┆ str         ┆ str         ┆   ┆ str         ┆ f32   ┆ ---         ┆ str        │\n",
       "│     ┆           ┆             ┆             ┆   ┆             ┆       ┆ str         ┆            │\n",
       "╞═════╪═══════════╪═════════════╪═════════════╪═══╪═════════════╪═══════╪═════════════╪════════════╡\n",
       "│ 1   ┆ raw       ┆ 2016 zema   ┆ zema estate ┆ … ┆ freezer     ┆ 750.0 ┆ 2016 zema   ┆ zema       │\n",
       "│     ┆           ┆ estate      ┆ cabernet    ┆   ┆ storage.    ┆       ┆ estate      ┆ estate     │\n",
       "│     ┆           ┆ cabernet    ┆ sauvignon   ┆   ┆ sampled at  ┆       ┆ cabernet    ┆ cabernet   │\n",
       "│     ┆           ┆ sauvignon   ┆ family      ┆   ┆ 21:20       ┆       ┆ sauvignon   ┆ sauvignon  │\n",
       "│     ┆           ┆ family      ┆ selection   ┆   ┆ 20230122,   ┆       ┆ family      ┆ family     │\n",
       "│     ┆           ┆ selection   ┆             ┆   ┆ stored for  ┆       ┆ selection   ┆ selection  │\n",
       "│     ┆           ┆             ┆             ┆   ┆ 10h before  ┆       ┆             ┆            │\n",
       "│     ┆           ┆             ┆             ┆   ┆ transport   ┆       ┆             ┆            │\n",
       "│     ┆           ┆             ┆             ┆   ┆ to lab.     ┆       ┆             ┆            │\n",
       "│ 2   ┆ raw       ┆ 2022        ┆ william     ┆ … ┆ ambient 2   ┆ 750.0 ┆ 2022        ┆ william    │\n",
       "│     ┆           ┆ william     ┆ downie      ┆   ┆ weeks.      ┆       ┆ william     ┆ downie     │\n",
       "│     ┆           ┆ downie      ┆ cathedral   ┆   ┆ sampled     ┆       ┆ downie      ┆ cathedral  │\n",
       "│     ┆           ┆ cathedral   ┆             ┆   ┆ 20230111.   ┆       ┆ cathedral   ┆            │\n",
       "│ 3   ┆ raw       ┆ 2021 babo   ┆ babo        ┆ … ┆ ambient 2   ┆ 750.0 ┆ 2021 babo   ┆ babo       │\n",
       "│     ┆           ┆ chianti     ┆ chianti     ┆   ┆ weeks.      ┆       ┆ chianti     ┆ chianti    │\n",
       "│     ┆           ┆             ┆             ┆   ┆ sampled     ┆       ┆             ┆            │\n",
       "│     ┆           ┆             ┆             ┆   ┆ 20230111.   ┆       ┆             ┆            │\n",
       "└─────┴───────────┴─────────────┴─────────────┴───┴─────────────┴───────┴─────────────┴────────────┘"
      ]
     },
     "execution_count": 22,
     "metadata": {},
     "output_type": "execute_result"
    }
   ],
   "source": [
    "con.sql(\n",
    "    \"\"\"--sql\n",
    "select * from st limit 3\n",
    "\"\"\"\n",
    ").pl()\n"
   ]
  },
  {
   "cell_type": "code",
   "execution_count": 23,
   "metadata": {},
   "outputs": [
    {
     "data": {
      "text/html": [
       "<div><style>\n",
       ".dataframe > thead > tr,\n",
       ".dataframe > tbody > tr {\n",
       "  text-align: right;\n",
       "  white-space: pre-wrap;\n",
       "}\n",
       "</style>\n",
       "<small>shape: (11, 3)</small><table border=\"1\" class=\"dataframe\"><thead><tr><th>pk</th><th>wine_key</th><th>added_to_cellartracker</th></tr><tr><td>i32</td><td>str</td><td>bool</td></tr></thead><tbody><tr><td>77</td><td>&quot;9999 &quot;</td><td>false</td></tr><tr><td>78</td><td>&quot;9999 &quot;</td><td>false</td></tr><tr><td>108</td><td>&quot;2019 rr (?)&quot;</td><td>false</td></tr><tr><td>111</td><td>&quot;9999 clembush&quot;</td><td>false</td></tr><tr><td>112</td><td>&quot;9999 leflaive macon-verze blanc le monte&quot;</td><td>false</td></tr><tr><td>138</td><td>&quot;2021 cantina orsogana&quot;</td><td>false</td></tr><tr><td>154</td><td>&quot;1001 tottis vino rosso&quot;</td><td>false</td></tr><tr><td>157</td><td>&quot;1001 merivale white semillon sauvignon blanc&quot;</td><td>false</td></tr><tr><td>162</td><td>&quot;1001 allegra pinot grigio&quot;</td><td>false</td></tr><tr><td>168</td><td>&quot;2021 piagre gampania bianco&quot;</td><td>false</td></tr><tr><td>190</td><td>&quot;9999 mystery barret rady&quot;</td><td>false</td></tr></tbody></table></div>"
      ],
      "text/plain": [
       "shape: (11, 3)\n",
       "┌─────┬──────────────────────────────────────────────┬────────────────────────┐\n",
       "│ pk  ┆ wine_key                                     ┆ added_to_cellartracker │\n",
       "│ --- ┆ ---                                          ┆ ---                    │\n",
       "│ i32 ┆ str                                          ┆ bool                   │\n",
       "╞═════╪══════════════════════════════════════════════╪════════════════════════╡\n",
       "│ 77  ┆ 9999                                         ┆ false                  │\n",
       "│ 78  ┆ 9999                                         ┆ false                  │\n",
       "│ 108 ┆ 2019 rr (?)                                  ┆ false                  │\n",
       "│ 111 ┆ 9999 clembush                                ┆ false                  │\n",
       "│ 112 ┆ 9999 leflaive macon-verze blanc le monte     ┆ false                  │\n",
       "│ 138 ┆ 2021 cantina orsogana                        ┆ false                  │\n",
       "│ 154 ┆ 1001 tottis vino rosso                       ┆ false                  │\n",
       "│ 157 ┆ 1001 merivale white semillon sauvignon blanc ┆ false                  │\n",
       "│ 162 ┆ 1001 allegra pinot grigio                    ┆ false                  │\n",
       "│ 168 ┆ 2021 piagre gampania bianco                  ┆ false                  │\n",
       "│ 190 ┆ 9999 mystery barret rady                     ┆ false                  │\n",
       "└─────┴──────────────────────────────────────────────┴────────────────────────┘"
      ]
     },
     "execution_count": 23,
     "metadata": {},
     "output_type": "execute_result"
    }
   ],
   "source": [
    "con.sql(\n",
    "    \"\"\"--sql\n",
    "select\n",
    "    pk, wine_key, added_to_cellartracker\n",
    "from\n",
    "    st\n",
    "where\n",
    "    added_to_cellartracker != 'y'\n",
    "\"\"\"\n",
    ").pl()\n"
   ]
  },
  {
   "cell_type": "code",
   "execution_count": 24,
   "metadata": {},
   "outputs": [
    {
     "data": {
      "text/html": [
       "<div><style>\n",
       ".dataframe > thead > tr,\n",
       ".dataframe > tbody > tr {\n",
       "  text-align: right;\n",
       "  white-space: pre-wrap;\n",
       "}\n",
       "</style>\n",
       "<small>shape: (15, 5)</small><table border=\"1\" class=\"dataframe\"><thead><tr><th>pk</th><th>left_string</th><th>match</th><th>score</th><th>reason</th></tr><tr><td>i32</td><td>str</td><td>str</td><td>str</td><td>str</td></tr></thead><tbody><tr><td>108</td><td>&quot;2019 rr (?)&quot;</td><td>&quot;2019 domaine des ardoisieres argile rouge&quot;</td><td>&quot;73&quot;</td><td>&quot;missing cellatracker entry&quot;</td></tr><tr><td>157</td><td>&quot;1001 merivale white semillon sauvignon blanc&quot;</td><td>&quot;2022 greywacke sauvignon blanc&quot;</td><td>&quot;67&quot;</td><td>&quot;missing cellatracker entry&quot;</td></tr><tr><td>162</td><td>&quot;1001 allegra pinot grigio&quot;</td><td>&quot;2021 farina pinot grigio delle venezie&quot;</td><td>&quot;67&quot;</td><td>&quot;missing cellatracker entry&quot;</td></tr><tr><td>138</td><td>&quot;2021 cantina orsogana&quot;</td><td>&quot;2021 domenica chardonnay&quot;</td><td>&quot;62&quot;</td><td>&quot;missing cellatracker entry&quot;</td></tr><tr><td>168</td><td>&quot;2021 piagre gampania bianco&quot;</td><td>&quot;2021 girolamo russo etna bianco nerina&quot;</td><td>&quot;62&quot;</td><td>&quot;missing cellatracker entry&quot;</td></tr><tr><td>166</td><td>&quot;1001 tottis vino bianco&quot;</td><td>&quot;2021 nino barraco fior di bianco&quot;</td><td>&quot;58&quot;</td><td>&quot;missing cellatracker entry&quot;</td></tr><tr><td>154</td><td>&quot;1001 tottis vino rosso&quot;</td><td>&quot;2019 giovanni rosso etna bianco&quot;</td><td>&quot;53&quot;</td><td>&quot;missing cellatracker entry&quot;</td></tr><tr><td>112</td><td>&quot;9999 leflaive macon-verze blanc le monte&quot;</td><td>&quot;2022 vinden estate the vinden headcase pokolbin blanc&quot;</td><td>&quot;49&quot;</td><td>&quot;missing cellatracker entry&quot;</td></tr><tr><td>18</td><td>&quot;9999 empty id, missing wine&quot;</td><td>&quot;2021 lethbridge wines pinot noir&quot;</td><td>&quot;48&quot;</td><td>&quot;missing cellatracker entry&quot;</td></tr><tr><td>190</td><td>&quot;9999 mystery barret rady&quot;</td><td>&quot;2013 woodlands cabernet merlot&quot;</td><td>&quot;44&quot;</td><td>&quot;missing cellatracker entry&quot;</td></tr><tr><td>111</td><td>&quot;9999 clembush&quot;</td><td>&quot;2015 clos du marquis&quot;</td><td>&quot;36&quot;</td><td>&quot;missing cellatracker entry&quot;</td></tr><tr><td>27</td><td>&quot;9999 mystery&quot;</td><td>&quot;2022 yangarra estate rose&quot;</td><td>&quot;32&quot;</td><td>&quot;missing cellatracker entry&quot;</td></tr><tr><td>14</td><td>&quot;9999 &quot;</td><td>&quot;2019 deviation road loftia&quot;</td><td>&quot;7&quot;</td><td>&quot;missing cellatracker entry&quot;</td></tr><tr><td>77</td><td>&quot;9999 &quot;</td><td>&quot;2019 deviation road loftia&quot;</td><td>&quot;7&quot;</td><td>&quot;missing cellatracker entry&quot;</td></tr><tr><td>78</td><td>&quot;9999 &quot;</td><td>&quot;2019 deviation road loftia&quot;</td><td>&quot;7&quot;</td><td>&quot;missing cellatracker entry&quot;</td></tr></tbody></table></div>"
      ],
      "text/plain": [
       "shape: (15, 5)\n",
       "┌─────┬──────────────────────────────┬──────────────────────────────┬───────┬──────────────────────┐\n",
       "│ pk  ┆ left_string                  ┆ match                        ┆ score ┆ reason               │\n",
       "│ --- ┆ ---                          ┆ ---                          ┆ ---   ┆ ---                  │\n",
       "│ i32 ┆ str                          ┆ str                          ┆ str   ┆ str                  │\n",
       "╞═════╪══════════════════════════════╪══════════════════════════════╪═══════╪══════════════════════╡\n",
       "│ 108 ┆ 2019 rr (?)                  ┆ 2019 domaine des ardoisieres ┆ 73    ┆ missing cellatracker │\n",
       "│     ┆                              ┆ argile rouge                 ┆       ┆ entry                │\n",
       "│ 157 ┆ 1001 merivale white semillon ┆ 2022 greywacke sauvignon     ┆ 67    ┆ missing cellatracker │\n",
       "│     ┆ sauvignon blanc              ┆ blanc                        ┆       ┆ entry                │\n",
       "│ 162 ┆ 1001 allegra pinot grigio    ┆ 2021 farina pinot grigio     ┆ 67    ┆ missing cellatracker │\n",
       "│     ┆                              ┆ delle venezie                ┆       ┆ entry                │\n",
       "│ 138 ┆ 2021 cantina orsogana        ┆ 2021 domenica chardonnay     ┆ 62    ┆ missing cellatracker │\n",
       "│     ┆                              ┆                              ┆       ┆ entry                │\n",
       "│ 168 ┆ 2021 piagre gampania bianco  ┆ 2021 girolamo russo etna     ┆ 62    ┆ missing cellatracker │\n",
       "│     ┆                              ┆ bianco nerina                ┆       ┆ entry                │\n",
       "│ 166 ┆ 1001 tottis vino bianco      ┆ 2021 nino barraco fior di    ┆ 58    ┆ missing cellatracker │\n",
       "│     ┆                              ┆ bianco                       ┆       ┆ entry                │\n",
       "│ 154 ┆ 1001 tottis vino rosso       ┆ 2019 giovanni rosso etna     ┆ 53    ┆ missing cellatracker │\n",
       "│     ┆                              ┆ bianco                       ┆       ┆ entry                │\n",
       "│ 112 ┆ 9999 leflaive macon-verze    ┆ 2022 vinden estate the       ┆ 49    ┆ missing cellatracker │\n",
       "│     ┆ blanc le monte               ┆ vinden headcase pokolbin     ┆       ┆ entry                │\n",
       "│     ┆                              ┆ blanc                        ┆       ┆                      │\n",
       "│ 18  ┆ 9999 empty id, missing wine  ┆ 2021 lethbridge wines pinot  ┆ 48    ┆ missing cellatracker │\n",
       "│     ┆                              ┆ noir                         ┆       ┆ entry                │\n",
       "│ 190 ┆ 9999 mystery barret rady     ┆ 2013 woodlands cabernet      ┆ 44    ┆ missing cellatracker │\n",
       "│     ┆                              ┆ merlot                       ┆       ┆ entry                │\n",
       "│ 111 ┆ 9999 clembush                ┆ 2015 clos du marquis         ┆ 36    ┆ missing cellatracker │\n",
       "│     ┆                              ┆                              ┆       ┆ entry                │\n",
       "│ 27  ┆ 9999 mystery                 ┆ 2022 yangarra estate rose    ┆ 32    ┆ missing cellatracker │\n",
       "│     ┆                              ┆                              ┆       ┆ entry                │\n",
       "│ 14  ┆ 9999                         ┆ 2019 deviation road loftia   ┆ 7     ┆ missing cellatracker │\n",
       "│     ┆                              ┆                              ┆       ┆ entry                │\n",
       "│ 77  ┆ 9999                         ┆ 2019 deviation road loftia   ┆ 7     ┆ missing cellatracker │\n",
       "│     ┆                              ┆                              ┆       ┆ entry                │\n",
       "│ 78  ┆ 9999                         ┆ 2019 deviation road loftia   ┆ 7     ┆ missing cellatracker │\n",
       "│     ┆                              ┆                              ┆       ┆ entry                │\n",
       "└─────┴──────────────────────────────┴──────────────────────────────┴───────┴──────────────────────┘"
      ]
     },
     "execution_count": 24,
     "metadata": {},
     "output_type": "execute_result"
    }
   ],
   "source": [
    "con.sql(\n",
    "    \"\"\"--sql\n",
    "select\n",
    "    *\n",
    "from\n",
    "    excluded\n",
    "\"\"\"\n",
    ").pl()\n"
   ]
  },
  {
   "cell_type": "markdown",
   "metadata": {},
   "source": [
    "only 6 samples are not \"added to cellartracker\", due to them not being present there, however 7 samples were excluded. Indicates that 1 sample was added to cellartracker, but the match wasnt able to be made. So which sample is present in the subset added to cellartracker, but also excluded?"
   ]
  },
  {
   "cell_type": "markdown",
   "metadata": {},
   "source": [
    "## Correct 158 'added_to_cellartracker'\n"
   ]
  },
  {
   "cell_type": "code",
   "execution_count": 25,
   "metadata": {},
   "outputs": [
    {
     "data": {
      "text/html": [
       "<div><style>\n",
       ".dataframe > thead > tr,\n",
       ".dataframe > tbody > tr {\n",
       "  text-align: right;\n",
       "  white-space: pre-wrap;\n",
       "}\n",
       "</style>\n",
       "<small>shape: (4, 4)</small><table border=\"1\" class=\"dataframe\"><thead><tr><th>pk</th><th>wine_key</th><th>match</th><th>score</th></tr><tr><td>i32</td><td>str</td><td>str</td><td>str</td></tr></thead><tbody><tr><td>14</td><td>&quot;9999 &quot;</td><td>&quot;2019 deviation road loftia&quot;</td><td>&quot;7&quot;</td></tr><tr><td>18</td><td>&quot;9999 empty id, missing wine&quot;</td><td>&quot;2021 lethbridge wines pinot noir&quot;</td><td>&quot;48&quot;</td></tr><tr><td>27</td><td>&quot;9999 mystery&quot;</td><td>&quot;2022 yangarra estate rose&quot;</td><td>&quot;32&quot;</td></tr><tr><td>166</td><td>&quot;1001 tottis vino bianco&quot;</td><td>&quot;2021 nino barraco fior di bianco&quot;</td><td>&quot;58&quot;</td></tr></tbody></table></div>"
      ],
      "text/plain": [
       "shape: (4, 4)\n",
       "┌─────┬─────────────────────────────┬──────────────────────────────────┬───────┐\n",
       "│ pk  ┆ wine_key                    ┆ match                            ┆ score │\n",
       "│ --- ┆ ---                         ┆ ---                              ┆ ---   │\n",
       "│ i32 ┆ str                         ┆ str                              ┆ str   │\n",
       "╞═════╪═════════════════════════════╪══════════════════════════════════╪═══════╡\n",
       "│ 14  ┆ 9999                        ┆ 2019 deviation road loftia       ┆ 7     │\n",
       "│ 18  ┆ 9999 empty id, missing wine ┆ 2021 lethbridge wines pinot noir ┆ 48    │\n",
       "│ 27  ┆ 9999 mystery                ┆ 2022 yangarra estate rose        ┆ 32    │\n",
       "│ 166 ┆ 1001 tottis vino bianco     ┆ 2021 nino barraco fior di bianco ┆ 58    │\n",
       "└─────┴─────────────────────────────┴──────────────────────────────────┴───────┘"
      ]
     },
     "execution_count": 25,
     "metadata": {},
     "output_type": "execute_result"
    }
   ],
   "source": [
    "con.sql(\n",
    "    \"\"\"--sql\n",
    "select\n",
    "    pk, wine_key, match, score\n",
    "from\n",
    "    excluded\n",
    "join\n",
    "    st\n",
    "using\n",
    "    (pk)\n",
    "where\n",
    "    st.added_to_cellartracker = 'y'\n",
    "\"\"\"\n",
    ").pl()\n"
   ]
  },
  {
   "cell_type": "markdown",
   "metadata": {},
   "source": [
    "1001 totti's vino bianco.."
   ]
  },
  {
   "cell_type": "code",
   "execution_count": 26,
   "metadata": {},
   "outputs": [
    {
     "data": {
      "text/html": [
       "<div><style>\n",
       ".dataframe > thead > tr,\n",
       ".dataframe > tbody > tr {\n",
       "  text-align: right;\n",
       "  white-space: pre-wrap;\n",
       "}\n",
       "</style>\n",
       "<small>shape: (0, 14)</small><table border=\"1\" class=\"dataframe\"><thead><tr><th>wine_key</th><th>size</th><th>vintage</th><th>wine</th><th>locale</th><th>country</th><th>region</th><th>subregion</th><th>appellation</th><th>producer</th><th>type</th><th>color</th><th>category</th><th>varietal</th></tr><tr><td>str</td><td>str</td><td>i32</td><td>str</td><td>str</td><td>str</td><td>str</td><td>str</td><td>str</td><td>str</td><td>str</td><td>str</td><td>str</td><td>str</td></tr></thead><tbody></tbody></table></div>"
      ],
      "text/plain": [
       "shape: (0, 14)\n",
       "┌──────────┬──────┬─────────┬──────┬───┬──────┬───────┬──────────┬──────────┐\n",
       "│ wine_key ┆ size ┆ vintage ┆ wine ┆ … ┆ type ┆ color ┆ category ┆ varietal │\n",
       "│ ---      ┆ ---  ┆ ---     ┆ ---  ┆   ┆ ---  ┆ ---   ┆ ---      ┆ ---      │\n",
       "│ str      ┆ str  ┆ i32     ┆ str  ┆   ┆ str  ┆ str   ┆ str      ┆ str      │\n",
       "╞══════════╪══════╪═════════╪══════╪═══╪══════╪═══════╪══════════╪══════════╡\n",
       "└──────────┴──────┴─────────┴──────┴───┴──────┴───────┴──────────┴──────────┘"
      ]
     },
     "execution_count": 26,
     "metadata": {},
     "output_type": "execute_result"
    }
   ],
   "source": [
    "con.sql(\n",
    "    \"\"\"--sql\n",
    "select\n",
    "    *\n",
    "from\n",
    "    ct\n",
    "where\n",
    "    wine like '%tott%'\n",
    "\"\"\"\n",
    ").pl()\n"
   ]
  },
  {
   "cell_type": "markdown",
   "metadata": {},
   "source": [
    "so that's incorrect. Time to correct it."
   ]
  },
  {
   "cell_type": "code",
   "execution_count": 27,
   "metadata": {},
   "outputs": [
    {
     "data": {
      "text/html": [
       "<div><style>\n",
       ".dataframe > thead > tr,\n",
       ".dataframe > tbody > tr {\n",
       "  text-align: right;\n",
       "  white-space: pre-wrap;\n",
       "}\n",
       "</style>\n",
       "<small>shape: (15, 5)</small><table border=\"1\" class=\"dataframe\"><thead><tr><th>pk</th><th>left_string</th><th>match</th><th>score</th><th>reason</th></tr><tr><td>i32</td><td>str</td><td>str</td><td>str</td><td>str</td></tr></thead><tbody><tr><td>108</td><td>&quot;2019 rr (?)&quot;</td><td>&quot;2019 domaine des ardoisieres argile rouge&quot;</td><td>&quot;73&quot;</td><td>&quot;missing cellatracker entry&quot;</td></tr><tr><td>157</td><td>&quot;1001 merivale white semillon sauvignon blanc&quot;</td><td>&quot;2022 greywacke sauvignon blanc&quot;</td><td>&quot;67&quot;</td><td>&quot;missing cellatracker entry&quot;</td></tr><tr><td>162</td><td>&quot;1001 allegra pinot grigio&quot;</td><td>&quot;2021 farina pinot grigio delle venezie&quot;</td><td>&quot;67&quot;</td><td>&quot;missing cellatracker entry&quot;</td></tr><tr><td>138</td><td>&quot;2021 cantina orsogana&quot;</td><td>&quot;2021 domenica chardonnay&quot;</td><td>&quot;62&quot;</td><td>&quot;missing cellatracker entry&quot;</td></tr><tr><td>168</td><td>&quot;2021 piagre gampania bianco&quot;</td><td>&quot;2021 girolamo russo etna bianco nerina&quot;</td><td>&quot;62&quot;</td><td>&quot;missing cellatracker entry&quot;</td></tr><tr><td>166</td><td>&quot;1001 tottis vino bianco&quot;</td><td>&quot;2021 nino barraco fior di bianco&quot;</td><td>&quot;58&quot;</td><td>&quot;missing cellatracker entry&quot;</td></tr><tr><td>154</td><td>&quot;1001 tottis vino rosso&quot;</td><td>&quot;2019 giovanni rosso etna bianco&quot;</td><td>&quot;53&quot;</td><td>&quot;missing cellatracker entry&quot;</td></tr><tr><td>112</td><td>&quot;9999 leflaive macon-verze blanc le monte&quot;</td><td>&quot;2022 vinden estate the vinden headcase pokolbin blanc&quot;</td><td>&quot;49&quot;</td><td>&quot;missing cellatracker entry&quot;</td></tr><tr><td>18</td><td>&quot;9999 empty id, missing wine&quot;</td><td>&quot;2021 lethbridge wines pinot noir&quot;</td><td>&quot;48&quot;</td><td>&quot;missing cellatracker entry&quot;</td></tr><tr><td>190</td><td>&quot;9999 mystery barret rady&quot;</td><td>&quot;2013 woodlands cabernet merlot&quot;</td><td>&quot;44&quot;</td><td>&quot;missing cellatracker entry&quot;</td></tr><tr><td>111</td><td>&quot;9999 clembush&quot;</td><td>&quot;2015 clos du marquis&quot;</td><td>&quot;36&quot;</td><td>&quot;missing cellatracker entry&quot;</td></tr><tr><td>27</td><td>&quot;9999 mystery&quot;</td><td>&quot;2022 yangarra estate rose&quot;</td><td>&quot;32&quot;</td><td>&quot;missing cellatracker entry&quot;</td></tr><tr><td>14</td><td>&quot;9999 &quot;</td><td>&quot;2019 deviation road loftia&quot;</td><td>&quot;7&quot;</td><td>&quot;missing cellatracker entry&quot;</td></tr><tr><td>77</td><td>&quot;9999 &quot;</td><td>&quot;2019 deviation road loftia&quot;</td><td>&quot;7&quot;</td><td>&quot;missing cellatracker entry&quot;</td></tr><tr><td>78</td><td>&quot;9999 &quot;</td><td>&quot;2019 deviation road loftia&quot;</td><td>&quot;7&quot;</td><td>&quot;missing cellatracker entry&quot;</td></tr></tbody></table></div>"
      ],
      "text/plain": [
       "shape: (15, 5)\n",
       "┌─────┬──────────────────────────────┬──────────────────────────────┬───────┬──────────────────────┐\n",
       "│ pk  ┆ left_string                  ┆ match                        ┆ score ┆ reason               │\n",
       "│ --- ┆ ---                          ┆ ---                          ┆ ---   ┆ ---                  │\n",
       "│ i32 ┆ str                          ┆ str                          ┆ str   ┆ str                  │\n",
       "╞═════╪══════════════════════════════╪══════════════════════════════╪═══════╪══════════════════════╡\n",
       "│ 108 ┆ 2019 rr (?)                  ┆ 2019 domaine des ardoisieres ┆ 73    ┆ missing cellatracker │\n",
       "│     ┆                              ┆ argile rouge                 ┆       ┆ entry                │\n",
       "│ 157 ┆ 1001 merivale white semillon ┆ 2022 greywacke sauvignon     ┆ 67    ┆ missing cellatracker │\n",
       "│     ┆ sauvignon blanc              ┆ blanc                        ┆       ┆ entry                │\n",
       "│ 162 ┆ 1001 allegra pinot grigio    ┆ 2021 farina pinot grigio     ┆ 67    ┆ missing cellatracker │\n",
       "│     ┆                              ┆ delle venezie                ┆       ┆ entry                │\n",
       "│ 138 ┆ 2021 cantina orsogana        ┆ 2021 domenica chardonnay     ┆ 62    ┆ missing cellatracker │\n",
       "│     ┆                              ┆                              ┆       ┆ entry                │\n",
       "│ 168 ┆ 2021 piagre gampania bianco  ┆ 2021 girolamo russo etna     ┆ 62    ┆ missing cellatracker │\n",
       "│     ┆                              ┆ bianco nerina                ┆       ┆ entry                │\n",
       "│ 166 ┆ 1001 tottis vino bianco      ┆ 2021 nino barraco fior di    ┆ 58    ┆ missing cellatracker │\n",
       "│     ┆                              ┆ bianco                       ┆       ┆ entry                │\n",
       "│ 154 ┆ 1001 tottis vino rosso       ┆ 2019 giovanni rosso etna     ┆ 53    ┆ missing cellatracker │\n",
       "│     ┆                              ┆ bianco                       ┆       ┆ entry                │\n",
       "│ 112 ┆ 9999 leflaive macon-verze    ┆ 2022 vinden estate the       ┆ 49    ┆ missing cellatracker │\n",
       "│     ┆ blanc le monte               ┆ vinden headcase pokolbin     ┆       ┆ entry                │\n",
       "│     ┆                              ┆ blanc                        ┆       ┆                      │\n",
       "│ 18  ┆ 9999 empty id, missing wine  ┆ 2021 lethbridge wines pinot  ┆ 48    ┆ missing cellatracker │\n",
       "│     ┆                              ┆ noir                         ┆       ┆ entry                │\n",
       "│ 190 ┆ 9999 mystery barret rady     ┆ 2013 woodlands cabernet      ┆ 44    ┆ missing cellatracker │\n",
       "│     ┆                              ┆ merlot                       ┆       ┆ entry                │\n",
       "│ 111 ┆ 9999 clembush                ┆ 2015 clos du marquis         ┆ 36    ┆ missing cellatracker │\n",
       "│     ┆                              ┆                              ┆       ┆ entry                │\n",
       "│ 27  ┆ 9999 mystery                 ┆ 2022 yangarra estate rose    ┆ 32    ┆ missing cellatracker │\n",
       "│     ┆                              ┆                              ┆       ┆ entry                │\n",
       "│ 14  ┆ 9999                         ┆ 2019 deviation road loftia   ┆ 7     ┆ missing cellatracker │\n",
       "│     ┆                              ┆                              ┆       ┆ entry                │\n",
       "│ 77  ┆ 9999                         ┆ 2019 deviation road loftia   ┆ 7     ┆ missing cellatracker │\n",
       "│     ┆                              ┆                              ┆       ┆ entry                │\n",
       "│ 78  ┆ 9999                         ┆ 2019 deviation road loftia   ┆ 7     ┆ missing cellatracker │\n",
       "│     ┆                              ┆                              ┆       ┆ entry                │\n",
       "└─────┴──────────────────────────────┴──────────────────────────────┴───────┴──────────────────────┘"
      ]
     },
     "execution_count": 27,
     "metadata": {},
     "output_type": "execute_result"
    }
   ],
   "source": [
    "con.sql(\n",
    "    \"\"\"--sql\n",
    "select * from excluded\n",
    "\"\"\"\n",
    ").pl()\n"
   ]
  },
  {
   "cell_type": "code",
   "execution_count": 28,
   "metadata": {},
   "outputs": [
    {
     "data": {
      "text/html": [
       "<div><style>\n",
       ".dataframe > thead > tr,\n",
       ".dataframe > tbody > tr {\n",
       "  text-align: right;\n",
       "  white-space: pre-wrap;\n",
       "}\n",
       "</style>\n",
       "<small>shape: (12, 3)</small><table border=\"1\" class=\"dataframe\"><thead><tr><th>pk</th><th>wine_key</th><th>added_to_cellartracker</th></tr><tr><td>i32</td><td>str</td><td>bool</td></tr></thead><tbody><tr><td>77</td><td>&quot;9999 &quot;</td><td>false</td></tr><tr><td>78</td><td>&quot;9999 &quot;</td><td>false</td></tr><tr><td>108</td><td>&quot;2019 rr (?)&quot;</td><td>false</td></tr><tr><td>111</td><td>&quot;9999 clembush&quot;</td><td>false</td></tr><tr><td>112</td><td>&quot;9999 leflaive macon-verze blanc le monte&quot;</td><td>false</td></tr><tr><td>138</td><td>&quot;2021 cantina orsogana&quot;</td><td>false</td></tr><tr><td>154</td><td>&quot;1001 tottis vino rosso&quot;</td><td>false</td></tr><tr><td>157</td><td>&quot;1001 merivale white semillon sauvignon blanc&quot;</td><td>false</td></tr><tr><td>158</td><td>&quot;2020 leeuwin estate cabernet sauvignon prelude&quot;</td><td>false</td></tr><tr><td>162</td><td>&quot;1001 allegra pinot grigio&quot;</td><td>false</td></tr><tr><td>168</td><td>&quot;2021 piagre gampania bianco&quot;</td><td>false</td></tr><tr><td>190</td><td>&quot;9999 mystery barret rady&quot;</td><td>false</td></tr></tbody></table></div>"
      ],
      "text/plain": [
       "shape: (12, 3)\n",
       "┌─────┬────────────────────────────────────────────────┬────────────────────────┐\n",
       "│ pk  ┆ wine_key                                       ┆ added_to_cellartracker │\n",
       "│ --- ┆ ---                                            ┆ ---                    │\n",
       "│ i32 ┆ str                                            ┆ bool                   │\n",
       "╞═════╪════════════════════════════════════════════════╪════════════════════════╡\n",
       "│ 77  ┆ 9999                                           ┆ false                  │\n",
       "│ 78  ┆ 9999                                           ┆ false                  │\n",
       "│ 108 ┆ 2019 rr (?)                                    ┆ false                  │\n",
       "│ 111 ┆ 9999 clembush                                  ┆ false                  │\n",
       "│ 112 ┆ 9999 leflaive macon-verze blanc le monte       ┆ false                  │\n",
       "│ 138 ┆ 2021 cantina orsogana                          ┆ false                  │\n",
       "│ 154 ┆ 1001 tottis vino rosso                         ┆ false                  │\n",
       "│ 157 ┆ 1001 merivale white semillon sauvignon blanc   ┆ false                  │\n",
       "│ 158 ┆ 2020 leeuwin estate cabernet sauvignon prelude ┆ false                  │\n",
       "│ 162 ┆ 1001 allegra pinot grigio                      ┆ false                  │\n",
       "│ 168 ┆ 2021 piagre gampania bianco                    ┆ false                  │\n",
       "│ 190 ┆ 9999 mystery barret rady                       ┆ false                  │\n",
       "└─────┴────────────────────────────────────────────────┴────────────────────────┘"
      ]
     },
     "execution_count": 28,
     "metadata": {},
     "output_type": "execute_result"
    }
   ],
   "source": [
    "con.sql(\n",
    "    \"\"\"--sql\n",
    "update st\n",
    "    set added_to_cellartracker = 'n'\n",
    "    where\n",
    "        pk = 158;\n",
    "select\n",
    "    pk, wine_key, added_to_cellartracker\n",
    "from\n",
    "    st\n",
    "where\n",
    "    added_to_cellartracker = 'n'\n",
    "\"\"\"\n",
    ").pl()\n"
   ]
  },
  {
   "cell_type": "markdown",
   "metadata": {},
   "source": [
    "## Correct 14, 18, 27, 155 'added_to_cellartracker'\n"
   ]
  },
  {
   "cell_type": "markdown",
   "metadata": {},
   "source": [
    "The named samples are incorrectly stated to be added to the cellartracker, but they arnt. Correct that field.\n"
   ]
  },
  {
   "cell_type": "code",
   "execution_count": 30,
   "metadata": {},
   "outputs": [
    {
     "data": {
      "text/html": [
       "<div><style>\n",
       ".dataframe > thead > tr,\n",
       ".dataframe > tbody > tr {\n",
       "  text-align: right;\n",
       "  white-space: pre-wrap;\n",
       "}\n",
       "</style>\n",
       "<small>shape: (4, 14)</small><table border=\"1\" class=\"dataframe\"><thead><tr><th>pk</th><th>detection</th><th>wine_key</th><th>wine</th><th>vintage</th><th>sampler</th><th>samplecode</th><th>open_date</th><th>sampled_date</th><th>added_to_cellartracker</th><th>notes</th><th>size</th><th>new_wine_key</th><th>new_wine</th></tr><tr><td>i32</td><td>str</td><td>str</td><td>str</td><td>i32</td><td>str</td><td>str</td><td>str</td><td>str</td><td>bool</td><td>str</td><td>f32</td><td>str</td><td>str</td></tr></thead><tbody><tr><td>14</td><td>&quot;raw&quot;</td><td>&quot;9999 &quot;</td><td>&quot;&quot;</td><td>9999</td><td>&quot;jonathan&quot;</td><td>&quot;14&quot;</td><td>null</td><td>null</td><td>true</td><td>null</td><td>750.0</td><td>null</td><td>null</td></tr><tr><td>18</td><td>&quot;raw&quot;</td><td>&quot;9999 empty id, missing wine&quot;</td><td>&quot;empty id, missing wine&quot;</td><td>9999</td><td>&quot;jonathan&quot;</td><td>&quot;18&quot;</td><td>null</td><td>null</td><td>true</td><td>null</td><td>750.0</td><td>null</td><td>null</td></tr><tr><td>27</td><td>&quot;raw&quot;</td><td>&quot;9999 mystery&quot;</td><td>&quot;mystery&quot;</td><td>9999</td><td>&quot;jonathan&quot;</td><td>&quot;27&quot;</td><td>&quot;2023-02-10&quot;</td><td>null</td><td>true</td><td>null</td><td>750.0</td><td>null</td><td>null</td></tr><tr><td>166</td><td>&quot;cuprac&quot;</td><td>&quot;1001 tottis vino bianco&quot;</td><td>&quot;tottis vino bianco&quot;</td><td>1001</td><td>&quot;davy&quot;</td><td>&quot;155&quot;</td><td>null</td><td>null</td><td>true</td><td>&quot;tottis vino bianco pinot grigio friuli, it&quot;</td><td>null</td><td>null</td><td>null</td></tr></tbody></table></div>"
      ],
      "text/plain": [
       "shape: (4, 14)\n",
       "┌─────┬───────────┬──────────────┬──────────────┬───┬─────────────┬───────┬─────────────┬──────────┐\n",
       "│ pk  ┆ detection ┆ wine_key     ┆ wine         ┆ … ┆ notes       ┆ size  ┆ new_wine_ke ┆ new_wine │\n",
       "│ --- ┆ ---       ┆ ---          ┆ ---          ┆   ┆ ---         ┆ ---   ┆ y           ┆ ---      │\n",
       "│ i32 ┆ str       ┆ str          ┆ str          ┆   ┆ str         ┆ f32   ┆ ---         ┆ str      │\n",
       "│     ┆           ┆              ┆              ┆   ┆             ┆       ┆ str         ┆          │\n",
       "╞═════╪═══════════╪══════════════╪══════════════╪═══╪═════════════╪═══════╪═════════════╪══════════╡\n",
       "│ 14  ┆ raw       ┆ 9999         ┆              ┆ … ┆ null        ┆ 750.0 ┆ null        ┆ null     │\n",
       "│ 18  ┆ raw       ┆ 9999 empty   ┆ empty id,    ┆ … ┆ null        ┆ 750.0 ┆ null        ┆ null     │\n",
       "│     ┆           ┆ id, missing  ┆ missing wine ┆   ┆             ┆       ┆             ┆          │\n",
       "│     ┆           ┆ wine         ┆              ┆   ┆             ┆       ┆             ┆          │\n",
       "│ 27  ┆ raw       ┆ 9999 mystery ┆ mystery      ┆ … ┆ null        ┆ 750.0 ┆ null        ┆ null     │\n",
       "│ 166 ┆ cuprac    ┆ 1001 tottis  ┆ tottis vino  ┆ … ┆ tottis vino ┆ null  ┆ null        ┆ null     │\n",
       "│     ┆           ┆ vino bianco  ┆ bianco       ┆   ┆ bianco      ┆       ┆             ┆          │\n",
       "│     ┆           ┆              ┆              ┆   ┆ pinot       ┆       ┆             ┆          │\n",
       "│     ┆           ┆              ┆              ┆   ┆ grigio      ┆       ┆             ┆          │\n",
       "│     ┆           ┆              ┆              ┆   ┆ friuli, it  ┆       ┆             ┆          │\n",
       "└─────┴───────────┴──────────────┴──────────────┴───┴─────────────┴───────┴─────────────┴──────────┘"
      ]
     },
     "execution_count": 30,
     "metadata": {},
     "output_type": "execute_result"
    }
   ],
   "source": [
    "def diff_st_ct_but_added_to_cellartracker_true(\n",
    "    con: db.DuckDBPyConnection,\n",
    ") -> pl.DataFrame:\n",
    "    \"\"\"\n",
    "    anti join ct and st on wine, vintage where 'added_to_cellartracker' = true\n",
    "    \"\"\"\n",
    "    return con.sql(\n",
    "        \"\"\"--sql\n",
    "        select\n",
    "            *\n",
    "        from\n",
    "            st\n",
    "        anti join\n",
    "            ct\n",
    "        on\n",
    "            st.vintage = ct.vintage\n",
    "        and\n",
    "            st.wine = ct.wine\n",
    "        where\n",
    "            st.added_to_cellartracker = true\n",
    "        \"\"\"\n",
    "    ).pl()\n",
    "\n",
    "\n",
    "diff_st_ct_but_added_to_cellartracker_true(con=con)\n"
   ]
  },
  {
   "cell_type": "code",
   "execution_count": 33,
   "metadata": {},
   "outputs": [],
   "source": [
    "con.sql(\n",
    "    \"\"\"--sql\n",
    "update st\n",
    "    set added_to_cellartracker = false\n",
    "    where\n",
    "        samplecode in ['14','18','27','155']\n",
    "\"\"\"\n",
    ")\n",
    "\n",
    "assert diff_st_ct_but_added_to_cellartracker_true(con=con).is_empty()\n"
   ]
  },
  {
   "cell_type": "markdown",
   "metadata": {},
   "source": [
    "## Output ST\n"
   ]
  },
  {
   "cell_type": "code",
   "execution_count": 39,
   "metadata": {},
   "outputs": [
    {
     "data": {
      "text/html": [
       "<div><style>\n",
       ".dataframe > thead > tr,\n",
       ".dataframe > tbody > tr {\n",
       "  text-align: right;\n",
       "  white-space: pre-wrap;\n",
       "}\n",
       "</style>\n",
       "<small>shape: (3, 14)</small><table border=\"1\" class=\"dataframe\"><thead><tr><th>pk</th><th>detection</th><th>wine_key</th><th>wine</th><th>vintage</th><th>sampler</th><th>samplecode</th><th>open_date</th><th>sampled_date</th><th>added_to_cellartracker</th><th>notes</th><th>size</th><th>new_wine_key</th><th>new_wine</th></tr><tr><td>i32</td><td>str</td><td>str</td><td>str</td><td>i32</td><td>str</td><td>str</td><td>str</td><td>str</td><td>bool</td><td>str</td><td>f32</td><td>str</td><td>str</td></tr></thead><tbody><tr><td>1</td><td>&quot;raw&quot;</td><td>&quot;2016 zema estate cabernet sauvignon family selection&quot;</td><td>&quot;zema estate cabernet sauvignon family selection&quot;</td><td>2016</td><td>&quot;jonathan&quot;</td><td>&quot;00&quot;</td><td>null</td><td>null</td><td>true</td><td>&quot;freezer storage. sampled at 21:20 20230122, stored for 10h before transport to lab.&quot;</td><td>750.0</td><td>&quot;2016 zema estate cabernet sauvignon family selection&quot;</td><td>&quot;zema estate cabernet sauvignon family selection&quot;</td></tr><tr><td>2</td><td>&quot;raw&quot;</td><td>&quot;2022 william downie cathedral&quot;</td><td>&quot;william downie cathedral&quot;</td><td>2022</td><td>&quot;jonathan&quot;</td><td>&quot;01&quot;</td><td>null</td><td>null</td><td>true</td><td>&quot;ambient 2 weeks. sampled 20230111.&quot;</td><td>750.0</td><td>&quot;2022 william downie cathedral&quot;</td><td>&quot;william downie cathedral&quot;</td></tr><tr><td>3</td><td>&quot;raw&quot;</td><td>&quot;2021 babo chianti&quot;</td><td>&quot;babo chianti&quot;</td><td>2021</td><td>&quot;jonathan&quot;</td><td>&quot;02&quot;</td><td>null</td><td>null</td><td>true</td><td>&quot;ambient 2 weeks. sampled 20230111.&quot;</td><td>750.0</td><td>&quot;2021 babo chianti&quot;</td><td>&quot;babo chianti&quot;</td></tr></tbody></table></div>"
      ],
      "text/plain": [
       "shape: (3, 14)\n",
       "┌─────┬───────────┬─────────────┬─────────────┬───┬─────────────┬───────┬─────────────┬────────────┐\n",
       "│ pk  ┆ detection ┆ wine_key    ┆ wine        ┆ … ┆ notes       ┆ size  ┆ new_wine_ke ┆ new_wine   │\n",
       "│ --- ┆ ---       ┆ ---         ┆ ---         ┆   ┆ ---         ┆ ---   ┆ y           ┆ ---        │\n",
       "│ i32 ┆ str       ┆ str         ┆ str         ┆   ┆ str         ┆ f32   ┆ ---         ┆ str        │\n",
       "│     ┆           ┆             ┆             ┆   ┆             ┆       ┆ str         ┆            │\n",
       "╞═════╪═══════════╪═════════════╪═════════════╪═══╪═════════════╪═══════╪═════════════╪════════════╡\n",
       "│ 1   ┆ raw       ┆ 2016 zema   ┆ zema estate ┆ … ┆ freezer     ┆ 750.0 ┆ 2016 zema   ┆ zema       │\n",
       "│     ┆           ┆ estate      ┆ cabernet    ┆   ┆ storage.    ┆       ┆ estate      ┆ estate     │\n",
       "│     ┆           ┆ cabernet    ┆ sauvignon   ┆   ┆ sampled at  ┆       ┆ cabernet    ┆ cabernet   │\n",
       "│     ┆           ┆ sauvignon   ┆ family      ┆   ┆ 21:20       ┆       ┆ sauvignon   ┆ sauvignon  │\n",
       "│     ┆           ┆ family      ┆ selection   ┆   ┆ 20230122,   ┆       ┆ family      ┆ family     │\n",
       "│     ┆           ┆ selection   ┆             ┆   ┆ stored for  ┆       ┆ selection   ┆ selection  │\n",
       "│     ┆           ┆             ┆             ┆   ┆ 10h before  ┆       ┆             ┆            │\n",
       "│     ┆           ┆             ┆             ┆   ┆ transport   ┆       ┆             ┆            │\n",
       "│     ┆           ┆             ┆             ┆   ┆ to lab.     ┆       ┆             ┆            │\n",
       "│ 2   ┆ raw       ┆ 2022        ┆ william     ┆ … ┆ ambient 2   ┆ 750.0 ┆ 2022        ┆ william    │\n",
       "│     ┆           ┆ william     ┆ downie      ┆   ┆ weeks.      ┆       ┆ william     ┆ downie     │\n",
       "│     ┆           ┆ downie      ┆ cathedral   ┆   ┆ sampled     ┆       ┆ downie      ┆ cathedral  │\n",
       "│     ┆           ┆ cathedral   ┆             ┆   ┆ 20230111.   ┆       ┆ cathedral   ┆            │\n",
       "│ 3   ┆ raw       ┆ 2021 babo   ┆ babo        ┆ … ┆ ambient 2   ┆ 750.0 ┆ 2021 babo   ┆ babo       │\n",
       "│     ┆           ┆ chianti     ┆ chianti     ┆   ┆ weeks.      ┆       ┆ chianti     ┆ chianti    │\n",
       "│     ┆           ┆             ┆             ┆   ┆ sampled     ┆       ┆             ┆            │\n",
       "│     ┆           ┆             ┆             ┆   ┆ 20230111.   ┆       ┆             ┆            │\n",
       "└─────┴───────────┴─────────────┴─────────────┴───┴─────────────┴───────┴─────────────┴────────────┘"
      ]
     },
     "metadata": {},
     "output_type": "display_data"
    },
    {
     "name": "stdout",
     "output_type": "stream",
     "text": [
      "st written to /Users/jonathan/mres_thesis/database_etl/database_etl/data/dirty_sample_tracker_names_corrected.parquet\n"
     ]
    }
   ],
   "source": [
    "from database_etl.definitions import DATA_DIR\n",
    "\n",
    "sampletracker_out_path = DATA_DIR / \"dirty_sample_tracker_names_corrected.parquet\"\n",
    "\n",
    "\n",
    "def output_name_corrected_st(con: db.DuckDBPyConnection, outpath: str) -> None:\n",
    "    con.sql(\n",
    "        \"\"\"--sql\n",
    "    select\n",
    "        *\n",
    "    from\n",
    "        st\n",
    "    limit 3\n",
    "    \"\"\"\n",
    "    ).pl().pipe(display)\n",
    "    \n",
    "    overwrite_sample_tracker = True\n",
    "    if overwrite_sample_tracker:\n",
    "        con.sql(\n",
    "            f\"\"\"--sql\n",
    "        copy (\n",
    "            select\n",
    "                detection,\n",
    "                sampler,\n",
    "                samplecode,\n",
    "                vintage,\n",
    "                wine,\n",
    "                open_date,\n",
    "                sampled_date,\n",
    "                added_to_cellartracker,\n",
    "                notes,\n",
    "                size,\n",
    "            from\n",
    "            st\n",
    "        ) to '{outpath}' (FORMAT PARQUET)\n",
    "        \"\"\"\n",
    "        )\n",
    "    print(f\"st written to {outpath}\")\n",
    "\n",
    "\n",
    "output_name_corrected_st(con=con, outpath=str(sampletracker_out_path))\n"
   ]
  },
  {
   "cell_type": "markdown",
   "metadata": {},
   "source": [
    "and the cleaned cellartracker.."
   ]
  },
  {
   "cell_type": "markdown",
   "metadata": {},
   "source": [
    "## Output CT\n"
   ]
  },
  {
   "cell_type": "code",
   "execution_count": null,
   "metadata": {},
   "outputs": [],
   "source": [
    "con.sql(\n",
    "    \"\"\"--sql\n",
    "select\n",
    "    *\n",
    "from\n",
    "    ct\n",
    "limit 3\n",
    "\"\"\"\n",
    ").pl().pipe(display)\n",
    "\n",
    "if overwrite_cellar_tracker:\n",
    "    con.sql(\n",
    "        \"\"\"--sql\n",
    "        copy (\n",
    "            select\n",
    "                pk,\n",
    "                size,\n",
    "                vintage,\n",
    "                wine,\n",
    "                locale,\n",
    "                country,\n",
    "                region,\n",
    "                subregion,\n",
    "                appellation,\n",
    "                producer,\n",
    "                type,\n",
    "                color,\n",
    "                category,\n",
    "                varietal\n",
    "            from\n",
    "                ct\n",
    "        ) to '/Users/jonathan/mres_thesis/database_etl/data/clean_cellar_tracker.parquet' (format parquet)\n",
    "        \"\"\"\n",
    "    )\n"
   ]
  },
  {
   "cell_type": "markdown",
   "metadata": {},
   "source": [
    "# Results\n",
    "\n",
    "In the end we have ended up with a cleaned sample tracker table that is able to join to the metadata in cellar tracker:"
   ]
  },
  {
   "cell_type": "code",
   "execution_count": null,
   "metadata": {},
   "outputs": [],
   "source": [
    "con.sql(\n",
    "    \"\"\"--sql\n",
    "select\n",
    "    'total st count' as table,\n",
    "    (select count(*) from st) as count\n",
    "union\n",
    "select\n",
    "    'inner join st to ct' as table,\n",
    "    count(*) as count\n",
    "from\n",
    "    st\n",
    "inner join\n",
    "    ct\n",
    "on\n",
    "    st.wine = ct.wine\n",
    "and\n",
    "    st.vintage = ct.vintage\n",
    "union\n",
    "select\n",
    "    'entries in excluded table' as table,\n",
    "    (select count(*) from excluded) as count\n",
    "\"\"\"\n",
    ").pl().pipe(display)\n",
    "con.close()\n",
    "del con\n"
   ]
  },
  {
   "cell_type": "markdown",
   "metadata": {},
   "source": [
    "out of 190 entries, 175 have corresponding cellartracker metadata, and 15 are missing entries."
   ]
  },
  {
   "cell_type": "markdown",
   "metadata": {},
   "source": [
    "The sample tracker names have been cleaned up, and the original has been updated, enabling joins between ct and st. I Have elected to keep the original locally in this dir. Rather than using the code above as a basis, I will keep it isolated and recreate the tables in a core database, including the `excluded` table, which will then be based on an anti join between st and ct on the vintage + wine."
   ]
  }
 ],
 "metadata": {
  "kernelspec": {
   "display_name": "database-etl-SYkgHnDq-py3.12",
   "language": "python",
   "name": "python3"
  },
  "language_info": {
   "codemirror_mode": {
    "name": "ipython",
    "version": 3
   },
   "file_extension": ".py",
   "mimetype": "text/x-python",
   "name": "python",
   "nbconvert_exporter": "python",
   "pygments_lexer": "ipython3",
   "version": "3.12.2"
  }
 },
 "nbformat": 4,
 "nbformat_minor": 2
}
