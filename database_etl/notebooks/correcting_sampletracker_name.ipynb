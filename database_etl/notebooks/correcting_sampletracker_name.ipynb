{
 "cells": [
  {
   "cell_type": "markdown",
   "metadata": {},
   "source": [
    "---\n",
    "project: cleaning_data_tables\n",
    "title: cleaning sampletracker wines\n",
    "cdt: 2024-09-17T12:55:31\n",
    "status: closed\n",
    "description: \"clean up of the entered sampletracker wine names with those in the ct to enable joins on those columns\n",
    "conclusion: have matched 175/190 wines with entered rows in ct. Those missing are either unidentifiable or not present in the ct database. Recommendation is to add them to an excluded list until such a time as it is worth manually adding their metadata.\"\n",
    "---\n"
   ]
  },
  {
   "cell_type": "markdown",
   "metadata": {},
   "source": [
    "unfortunately, when I was entering the samples into the tracker, I did not have a clear data structure in place. In order to acquire the metadata, I planned on joining the entered wine names with those present in the cellartracker database. Unfortunately, fuzzy joining is not a sound foundation and it was deemed necessary to replace the original names with their verified matches. This notebook produces that result. To do this, we need to get both tables, fuzzy join on the names after cleaning, inspect the results, and replace where appropriate."
   ]
  },
  {
   "cell_type": "markdown",
   "metadata": {},
   "source": [
    "# Get the Tables\n"
   ]
  },
  {
   "cell_type": "code",
   "execution_count": null,
   "metadata": {},
   "outputs": [],
   "source": [
    "%load_ext autoreload\n",
    "%autoreload 2\n",
    "import pandas as pd\n",
    "import duckdb as db\n",
    "import polars as pl\n",
    "from database_etl.definitions import DATA_DIR\n",
    "from database_etl.etl.sql import ct\n",
    "\n",
    "pl.Config.set_fmt_str_lengths(999).set_tbl_rows(15)\n",
    "\n",
    "\n",
    "overwrite_sample_tracker = False\n",
    "overwrite_cellar_tracker = False\n",
    "raw_ct_path = DATA_DIR / \"dirty_cellar_tracker.csv\"\n",
    "dirty_st_path = str(\n",
    "    DATA_DIR / \"original_sample_tracker\" / \"original_dirty_sample_tracker.csv\"\n",
    ")\n",
    "download_new_file = False\n",
    "\n",
    "con = db.connect()\n"
   ]
  },
  {
   "cell_type": "markdown",
   "metadata": {},
   "source": [
    "move the wines with missing metadata to another table\n"
   ]
  },
  {
   "cell_type": "markdown",
   "metadata": {},
   "source": [
    "now create a sampletracker table without the missing data rows"
   ]
  },
  {
   "cell_type": "code",
   "execution_count": null,
   "metadata": {},
   "outputs": [],
   "source": [
    "con.sql(\n",
    "    \"\"\"--sql\n",
    "create sequence pk_st_seq start 1;\n",
    "\"\"\"\n",
    ")\n"
   ]
  },
  {
   "cell_type": "markdown",
   "metadata": {},
   "source": [
    "# Create `st`"
   ]
  },
  {
   "cell_type": "code",
   "execution_count": null,
   "metadata": {},
   "outputs": [],
   "source": [
    "con.sql(\n",
    "    f\"\"\"--sql\n",
    "drop table if exists excluded;\n",
    "drop table if exists matches cascade;\n",
    "drop table if exists st cascade;\n",
    "create or replace table st (\n",
    "    pk integer primary key,\n",
    "    detection varchar not null,\n",
    "    wine_key varchar,\n",
    "    wine varchar,\n",
    "    vintage integer,\n",
    "    sampler varchar,\n",
    "    samplecode varchar not null unique,\n",
    "    open_date varchar,\n",
    "    sampled_date varchar,\n",
    "    added_to_cellartracker bool,\n",
    "    notes varchar,\n",
    "    size float,\n",
    ");\n",
    "insert into st\n",
    "    with\n",
    "        st_loading as (\n",
    "            select\n",
    "                nextval('pk_st_seq') as pk,\n",
    "                detection,\n",
    "                cast(case when vintage is null or vintage = 'null' then '9999' else vintage end as integer) as vintage,\n",
    "                trim(lower(sampler)) as sampler,\n",
    "                trim(lower(samplecode)) as samplecode,\n",
    "                -- replace null vintages with 9999 so that string slicing operations downstream work\n",
    "                replace(\n",
    "                    replace(\n",
    "                        strip_accents(trim(lower(name))), '\"', ''\n",
    "                        ), '''', ''\n",
    "                    ) as wine,\n",
    "                open_date,\n",
    "                sampled_date,\n",
    "                case when added_to_cellartracker = 'y' then true else false end as added_to_cellartracker,\n",
    "                replace(\n",
    "                    replace(\n",
    "                        strip_accents(trim(lower(notes))), '\"', ''\n",
    "                        ), '''', ''\n",
    "                    ) as notes,\n",
    "                size,\n",
    "            from\n",
    "                read_csv('{dirty_st_path}')\n",
    "        ),\n",
    "        st_wine_key as (\n",
    "        select\n",
    "            pk,\n",
    "            detection,\n",
    "            concat(cast(vintage as integer), ' ', trim(lower(wine))) as wine_key,\n",
    "            wine,\n",
    "            vintage,\n",
    "            sampler,\n",
    "            samplecode,\n",
    "            open_date,\n",
    "            sampled_date,\n",
    "            added_to_cellartracker,\n",
    "            notes,\n",
    "            size\n",
    "        from st_loading\n",
    "        )\n",
    "select\n",
    "    pk,\n",
    "    detection,\n",
    "    wine_key,\n",
    "    wine,\n",
    "    vintage,\n",
    "    sampler,\n",
    "    samplecode,\n",
    "    open_date,\n",
    "    sampled_date,\n",
    "    added_to_cellartracker,\n",
    "    notes,\n",
    "    size\n",
    "from\n",
    "    st_wine_key;\n",
    "\"\"\"\n",
    ")\n",
    "\n",
    "con.sql(\n",
    "    \"\"\"--sql\n",
    "select\n",
    "    *\n",
    "from\n",
    "    st\n",
    "limit 5\n",
    "\"\"\"\n",
    ").pl()\n"
   ]
  },
  {
   "cell_type": "markdown",
   "metadata": {},
   "source": [
    "## Create CT"
   ]
  },
  {
   "cell_type": "code",
   "execution_count": null,
   "metadata": {},
   "outputs": [],
   "source": [
    "ct.load_ct(un=\"OctaneOolong\", pw=\"S74rg4z3r1\", con=con, output=\"db\")\n",
    "\n",
    "if (\n",
    "    not con.sql(\n",
    "        \"\"\"--sql\n",
    "select * from (show tables)\n",
    "\"\"\"\n",
    "    )\n",
    "    .df()[\"name\"]\n",
    "    .eq(\"ct\")\n",
    "    .any()\n",
    "):\n",
    "    raise ValueError(\"Execute load_ct.ipynb first\")\n",
    "con.sql(\n",
    "    \"\"\"--sql\n",
    "select\n",
    "    *\n",
    "from\n",
    "    ct\n",
    "limit 3\n",
    "\"\"\"\n",
    ").pl()\n"
   ]
  },
  {
   "cell_type": "code",
   "execution_count": null,
   "metadata": {},
   "outputs": [],
   "source": [
    "from fuzzywuzzy import fuzz, process\n",
    "\n",
    "\n",
    "def build_string_lists(con: db.DuckDBPyConnection) -> tuple[list[str], list[str]]:\n",
    "    left_strings: list[str] = [\n",
    "        x[0] for x in con.sql(\"select lower(wine_key) as wine from st\").fetchall()\n",
    "    ]\n",
    "    right_strings: list[str] = [\n",
    "        x[0] for x in con.sql(\"select lower(wine_key) as wine from ct\").fetchall()\n",
    "    ]\n",
    "\n",
    "    if not all(isinstance(x, str) for x in left_strings):\n",
    "        raise TypeError(\"expected str\")\n",
    "    if not all(isinstance(x, str) for x in right_strings):\n",
    "        raise TypeError(\"expected str\")\n",
    "\n",
    "    return left_strings, right_strings\n",
    "\n",
    "\n",
    "left_strings, right_strings = build_string_lists(con=con)\n",
    "\n",
    "\n",
    "def match_strings(\n",
    "    left_strings: list[str], right_strings: list[str]\n",
    ") -> tuple[list[str], list[int]]:\n",
    "    matches = []\n",
    "    scores = []\n",
    "    for ls in left_strings:\n",
    "        result = process.extractOne(\n",
    "            query=ls, choices=right_strings, scorer=fuzz.token_set_ratio\n",
    "        )\n",
    "        if result:\n",
    "            if len(result) == 2:\n",
    "                match, score = result\n",
    "                matches.append(match)\n",
    "                scores.append(score)\n",
    "    return matches, scores\n",
    "\n",
    "\n",
    "def construct_match_df(matches: list[str], scores: list[int], pk) -> pd.DataFrame:\n",
    "    match_df = pd.DataFrame(\n",
    "        {\n",
    "            \"pk\": pk,\n",
    "            \"left_string\": left_strings,\n",
    "            \"match\": matches,\n",
    "            \"score\": scores,\n",
    "        }\n",
    "    )\n",
    "    return match_df\n",
    "\n",
    "\n",
    "def get_st_pk(con=con):\n",
    "    return con.sql(\"select pk from st\").df()[\"pk\"]\n",
    "\n",
    "\n",
    "def match_st_ct_wine_keys(con=con) -> pd.DataFrame:\n",
    "    pk = get_st_pk(con=con)\n",
    "    left_strings, right_strings = build_string_lists(con=con)\n",
    "    matches, scores = match_strings(\n",
    "        left_strings=left_strings, right_strings=right_strings\n",
    "    )\n",
    "\n",
    "    return construct_match_df(matches=matches, scores=scores, pk=pk)\n",
    "\n",
    "\n",
    "match_df = match_st_ct_wine_keys(con=con)\n",
    "match_df\n"
   ]
  },
  {
   "cell_type": "code",
   "execution_count": null,
   "metadata": {},
   "outputs": [],
   "source": [
    "con.sql(\n",
    "    \"\"\"--sql\n",
    "create or replace table matches (\n",
    "    pk integer primary key references st(pk),\n",
    "    left_string varchar not null,\n",
    "    match varchar not null,\n",
    "    score integer not null,\n",
    "    verified bool default false,\n",
    "    );\n",
    "\"\"\"\n",
    ")\n",
    "\n",
    "con.sql(\n",
    "    \"\"\"--sql\n",
    "insert into matches\n",
    "    select\n",
    "        pk,\n",
    "        left_string,\n",
    "        match,\n",
    "        score,\n",
    "        false as verified\n",
    "    from\n",
    "        match_df\n",
    "    order by\n",
    "        score desc\n",
    "    on conflict do nothing\n",
    "        ;\n",
    "\"\"\"\n",
    ")\n",
    "\n",
    "con.sql(\n",
    "    \"\"\"--sql\n",
    "select\n",
    "    *\n",
    "from\n",
    "    matches\n",
    "order by\n",
    "    pk\n",
    "limit 5\n",
    "\"\"\"\n",
    ").pl()\n"
   ]
  },
  {
   "cell_type": "code",
   "execution_count": null,
   "metadata": {},
   "outputs": [],
   "source": [
    "con.sql(\n",
    "    \"\"\"--sql\n",
    "select\n",
    "    (select count(*) from matches) as total_count,\n",
    "\"\"\"\n",
    ").pl()\n"
   ]
  },
  {
   "cell_type": "code",
   "execution_count": null,
   "metadata": {},
   "outputs": [],
   "source": [
    "con.sql(\n",
    "    \"\"\"--sql\n",
    "from histogram(matches, score)\n",
    "\"\"\"\n",
    ").df().style.set_properties(text_align=\"right\")\n"
   ]
  },
  {
   "cell_type": "markdown",
   "metadata": {},
   "source": [
    "As we can see the majority are above 90."
   ]
  },
  {
   "cell_type": "code",
   "execution_count": null,
   "metadata": {},
   "outputs": [],
   "source": [
    "con.execute(\n",
    "    \"\"\"--sql\n",
    "select\n",
    "    score,\n",
    "    count(score)*100/(select count(*) from matches) as count_perc\n",
    "from\n",
    "    matches\n",
    "where\n",
    "    score > 90\n",
    "group by\n",
    "    score\n",
    "\"\"\"\n",
    ").pl()\n"
   ]
  },
  {
   "cell_type": "markdown",
   "metadata": {},
   "source": [
    "Now lets get rid of the 100 scores.\n"
   ]
  },
  {
   "cell_type": "markdown",
   "metadata": {},
   "source": [
    "Now there's nothing for it but to go through each match, bracket by bracket."
   ]
  },
  {
   "cell_type": "markdown",
   "metadata": {},
   "source": [
    "the 90's:"
   ]
  },
  {
   "cell_type": "code",
   "execution_count": null,
   "metadata": {},
   "outputs": [],
   "source": [
    "con.sql(\n",
    "    \"\"\"--sql\n",
    "select\n",
    "    *\n",
    "from\n",
    "    matches\n",
    "where\n",
    "    score > 90\n",
    "\"\"\"\n",
    ").pl()\n"
   ]
  },
  {
   "cell_type": "markdown",
   "metadata": {},
   "source": [
    "90's look good."
   ]
  },
  {
   "cell_type": "code",
   "execution_count": null,
   "metadata": {},
   "outputs": [],
   "source": [
    "con.sql(\n",
    "    \"\"\"--sql\n",
    "update matches\n",
    "    set\n",
    "        verified = true\n",
    "    where\n",
    "        score > 75;\n",
    "select * from matches where verified = false;\n",
    "\"\"\"\n",
    ").pl()\n"
   ]
  },
  {
   "cell_type": "markdown",
   "metadata": {},
   "source": [
    "It appears that anything below a score of 75 is an incorrect match. These will be added to the 'incorrected_matches' table, and as they are low interest samples, will be exluded from downtrack analyses."
   ]
  },
  {
   "cell_type": "markdown",
   "metadata": {},
   "source": [
    "Alright, so in the end we have:"
   ]
  },
  {
   "cell_type": "code",
   "execution_count": null,
   "metadata": {},
   "outputs": [],
   "source": [
    "con.sql(\n",
    "    \"\"\"--sql\n",
    "select\n",
    "    *\n",
    "from\n",
    "    matches\n",
    "where\n",
    "    verified = true\n",
    "\"\"\"\n",
    ").pl()\n"
   ]
  },
  {
   "cell_type": "code",
   "execution_count": null,
   "metadata": {},
   "outputs": [],
   "source": [
    "con.sql(\n",
    "    \"\"\"--sql\n",
    "select\n",
    "    *\n",
    "from\n",
    "    matches\n",
    "where\n",
    "    verified = false\n",
    "\"\"\"\n",
    ").pl()\n"
   ]
  },
  {
   "cell_type": "markdown",
   "metadata": {},
   "source": [
    "as we can see, out of 146 samples, 139 have verified wine name matches, and 7 have not, and have been excluded."
   ]
  },
  {
   "cell_type": "code",
   "execution_count": null,
   "metadata": {},
   "outputs": [],
   "source": [
    "con.sql(\n",
    "    \"\"\"--sql\n",
    "create or replace table excluded (\n",
    "    pk integer primary key references st(pk),\n",
    "    left_string varchar not null,\n",
    "    match varchar not null,\n",
    "    score varchar not null,\n",
    "    reason varchar not null,\n",
    "    );\n",
    "insert into excluded\n",
    "    select\n",
    "        pk,\n",
    "        left_string,\n",
    "        match,\n",
    "        score,\n",
    "        'missing cellatracker entry' as reason,\n",
    "    from\n",
    "        matches\n",
    "    where\n",
    "        verified = false\n",
    "        ;\n",
    "select\n",
    "    *\n",
    "from\n",
    "    excluded\n",
    "\"\"\"\n",
    ").pl()\n"
   ]
  },
  {
   "cell_type": "markdown",
   "metadata": {},
   "source": [
    "Looks good. Now to replace the sample tracker wine key with the cellar tracker wine key for the verified samples."
   ]
  },
  {
   "cell_type": "code",
   "execution_count": null,
   "metadata": {},
   "outputs": [],
   "source": [
    "con.sql(\n",
    "    \"\"\"--sql\n",
    "alter table st add column if not exists new_wine_key varchar;\n",
    "update st\n",
    "    set new_wine_key = match\n",
    "    from\n",
    "        matches\n",
    "    where\n",
    "        wine_key = left_string\n",
    "    and\n",
    "        verified = true\n",
    "    and\n",
    "        matches.pk = st.pk;\n",
    "alter table st add column if not exists new_wine varchar;\n",
    "update st orig\n",
    "    set new_wine = new.new_wine_key[6:]\n",
    "    from\n",
    "        st new\n",
    "    where\n",
    "        new.pk = orig.pk\n",
    "    ;\n",
    "select\n",
    "    wine_key,\n",
    "    new_wine_key,\n",
    "    wine,\n",
    "    new_wine,\n",
    "from\n",
    "    st\n",
    "limit 5\n",
    "\"\"\"\n",
    ").pl()\n"
   ]
  },
  {
   "cell_type": "markdown",
   "metadata": {},
   "source": [
    "Finally, a we've matched on `vintage` + `wine`, we should verify if the matched vintage strings equal the `st.vintage` field:"
   ]
  },
  {
   "cell_type": "code",
   "execution_count": null,
   "metadata": {},
   "outputs": [],
   "source": [
    "con.sql(\n",
    "    \"\"\"--sql\n",
    "select\n",
    "    bool_and(cast(new_wine_key[0:4] as integer) = vintage) all_vintages_equal,\n",
    "from\n",
    "    st\n",
    "\"\"\"\n",
    ").pl()\n"
   ]
  },
  {
   "cell_type": "markdown",
   "metadata": {},
   "source": [
    "Ok, looks good to me. Can fully replace the fields now."
   ]
  },
  {
   "cell_type": "code",
   "execution_count": null,
   "metadata": {},
   "outputs": [],
   "source": [
    "con.sql(\n",
    "    \"\"\"--sql\n",
    "select\n",
    "    wine_key,\n",
    "    new_wine_key\n",
    "from\n",
    "    st\n",
    "\"\"\"\n",
    ").pl()\n"
   ]
  },
  {
   "cell_type": "code",
   "execution_count": null,
   "metadata": {},
   "outputs": [],
   "source": [
    "con.sql(\n",
    "    \"\"\"--sql\n",
    "select\n",
    "    *\n",
    "from\n",
    "    st\n",
    "where\n",
    "    new_wine_key is null\n",
    "\"\"\"\n",
    ").pl()\n"
   ]
  },
  {
   "cell_type": "code",
   "execution_count": null,
   "metadata": {},
   "outputs": [],
   "source": [
    "con.sql(\n",
    "    \"\"\"--sql\n",
    "select\n",
    "    (select count(*) from st) as total_count,\n",
    "    (select count(*) from st where new_wine_key is null) as null_count,\n",
    "    (select count(*) from st where new_wine_key is not null) as not_null_count;\n",
    "\"\"\"\n",
    ").pl()\n"
   ]
  },
  {
   "cell_type": "code",
   "execution_count": null,
   "metadata": {},
   "outputs": [],
   "source": [
    "con.sql(\n",
    "    \"\"\"--sql\n",
    "update st as orig\n",
    "    set wine_key = (\n",
    "    select\n",
    "        coalesce(new_wine_key, wine_key)\n",
    "    from\n",
    "        st as new\n",
    "    where\n",
    "        orig.pk = new.pk\n",
    "        );\n",
    "update st as orig\n",
    "    set wine = (\n",
    "    select\n",
    "        wine_key[6:]\n",
    "    from\n",
    "        st as new\n",
    "    where\n",
    "        orig.pk = new.pk\n",
    "    );\n",
    "select\n",
    "    wine_key,\n",
    "    wine,\n",
    "    vintage,\n",
    "from\n",
    "    st\n",
    "\"\"\"\n",
    ").pl()\n"
   ]
  },
  {
   "cell_type": "code",
   "execution_count": null,
   "metadata": {},
   "outputs": [],
   "source": [
    "con.sql(\n",
    "    \"\"\"--sql\n",
    "select * from st limit 3\n",
    "\"\"\"\n",
    ").pl()\n"
   ]
  },
  {
   "cell_type": "code",
   "execution_count": null,
   "metadata": {},
   "outputs": [],
   "source": [
    "con.sql(\n",
    "    \"\"\"--sql\n",
    "select\n",
    "    pk, wine_key, added_to_cellartracker\n",
    "from\n",
    "    st\n",
    "where\n",
    "    added_to_cellartracker != 'y'\n",
    "\"\"\"\n",
    ").pl()\n"
   ]
  },
  {
   "cell_type": "code",
   "execution_count": null,
   "metadata": {},
   "outputs": [],
   "source": [
    "con.sql(\n",
    "    \"\"\"--sql\n",
    "select\n",
    "    *\n",
    "from\n",
    "    excluded\n",
    "\"\"\"\n",
    ").pl()\n"
   ]
  },
  {
   "cell_type": "markdown",
   "metadata": {},
   "source": [
    "only 6 samples are not \"added to cellartracker\", due to them not being present there, however 7 samples were excluded. Indicates that 1 sample was added to cellartracker, but the match wasnt able to be made. So which sample is present in the subset added to cellartracker, but also excluded?"
   ]
  },
  {
   "cell_type": "markdown",
   "metadata": {},
   "source": [
    "## Correct 158 'added_to_cellartracker'\n"
   ]
  },
  {
   "cell_type": "code",
   "execution_count": null,
   "metadata": {},
   "outputs": [],
   "source": [
    "con.sql(\n",
    "    \"\"\"--sql\n",
    "select\n",
    "    pk, wine_key, match, score\n",
    "from\n",
    "    excluded\n",
    "join\n",
    "    st\n",
    "using\n",
    "    (pk)\n",
    "where\n",
    "    st.added_to_cellartracker = 'y'\n",
    "\"\"\"\n",
    ").pl()\n"
   ]
  },
  {
   "cell_type": "markdown",
   "metadata": {},
   "source": [
    "1001 totti's vino bianco.."
   ]
  },
  {
   "cell_type": "code",
   "execution_count": null,
   "metadata": {},
   "outputs": [],
   "source": [
    "con.sql(\n",
    "    \"\"\"--sql\n",
    "select\n",
    "    *\n",
    "from\n",
    "    ct\n",
    "where\n",
    "    wine like '%tott%'\n",
    "\"\"\"\n",
    ").pl()\n"
   ]
  },
  {
   "cell_type": "markdown",
   "metadata": {},
   "source": [
    "so that's incorrect. Time to correct it."
   ]
  },
  {
   "cell_type": "code",
   "execution_count": null,
   "metadata": {},
   "outputs": [],
   "source": [
    "con.sql(\n",
    "    \"\"\"--sql\n",
    "select * from excluded\n",
    "\"\"\"\n",
    ").pl()\n"
   ]
  },
  {
   "cell_type": "code",
   "execution_count": null,
   "metadata": {},
   "outputs": [],
   "source": [
    "con.sql(\n",
    "    \"\"\"--sql\n",
    "update st\n",
    "    set added_to_cellartracker = 'n'\n",
    "    where\n",
    "        pk = 158;\n",
    "select\n",
    "    pk, wine_key, added_to_cellartracker\n",
    "from\n",
    "    st\n",
    "where\n",
    "    added_to_cellartracker = 'n'\n",
    "\"\"\"\n",
    ").pl()\n"
   ]
  },
  {
   "cell_type": "markdown",
   "metadata": {},
   "source": [
    "## Correct 14, 18, 27, 155 'added_to_cellartracker'\n"
   ]
  },
  {
   "cell_type": "markdown",
   "metadata": {},
   "source": [
    "The named samples are incorrectly stated to be added to the cellartracker, but they arnt. Correct that field.\n"
   ]
  },
  {
   "cell_type": "code",
   "execution_count": null,
   "metadata": {},
   "outputs": [],
   "source": [
    "def diff_st_ct_but_added_to_cellartracker_true(\n",
    "    con: db.DuckDBPyConnection,\n",
    ") -> pl.DataFrame:\n",
    "    \"\"\"\n",
    "    anti join ct and st on wine, vintage where 'added_to_cellartracker' = true\n",
    "    \"\"\"\n",
    "    return con.sql(\n",
    "        \"\"\"--sql\n",
    "        select\n",
    "            *\n",
    "        from\n",
    "            st\n",
    "        anti join\n",
    "            ct\n",
    "        on\n",
    "            st.vintage = ct.vintage\n",
    "        and\n",
    "            st.wine = ct.wine\n",
    "        where\n",
    "            st.added_to_cellartracker = true\n",
    "        \"\"\"\n",
    "    ).pl()\n",
    "\n",
    "\n",
    "diff_st_ct_but_added_to_cellartracker_true(con=con)\n"
   ]
  },
  {
   "cell_type": "code",
   "execution_count": null,
   "metadata": {},
   "outputs": [],
   "source": [
    "con.sql(\n",
    "    \"\"\"--sql\n",
    "update st\n",
    "    set added_to_cellartracker = false\n",
    "    where\n",
    "        samplecode in ['14','18','27','155']\n",
    "\"\"\"\n",
    ")\n",
    "\n",
    "assert diff_st_ct_but_added_to_cellartracker_true(con=con).is_empty()\n"
   ]
  },
  {
   "cell_type": "markdown",
   "metadata": {},
   "source": [
    "## Output ST\n"
   ]
  },
  {
   "cell_type": "code",
   "execution_count": null,
   "metadata": {},
   "outputs": [],
   "source": [
    "from database_etl.definitions import DATA_DIR\n",
    "\n",
    "sampletracker_out_path = DATA_DIR / \"dirty_sample_tracker_names_corrected.parquet\"\n",
    "\n",
    "\n",
    "def output_name_corrected_st(con: db.DuckDBPyConnection, outpath: str) -> None:\n",
    "    con.sql(\n",
    "        \"\"\"--sql\n",
    "    select\n",
    "        *\n",
    "    from\n",
    "        st\n",
    "    limit 3\n",
    "    \"\"\"\n",
    "    ).pl().pipe(display)\n",
    "    \n",
    "    overwrite_sample_tracker = True\n",
    "    if overwrite_sample_tracker:\n",
    "        con.sql(\n",
    "            f\"\"\"--sql\n",
    "        copy (\n",
    "            select\n",
    "                detection,\n",
    "                sampler,\n",
    "                samplecode,\n",
    "                vintage,\n",
    "                wine,\n",
    "                open_date,\n",
    "                sampled_date,\n",
    "                added_to_cellartracker,\n",
    "                notes,\n",
    "                size,\n",
    "            from\n",
    "            st\n",
    "        ) to '{outpath}' (FORMAT PARQUET)\n",
    "        \"\"\"\n",
    "        )\n",
    "    print(f\"st written to {outpath}\")\n",
    "\n",
    "\n",
    "output_name_corrected_st(con=con, outpath=str(sampletracker_out_path))\n"
   ]
  },
  {
   "cell_type": "markdown",
   "metadata": {},
   "source": [
    "and the cleaned cellartracker.."
   ]
  },
  {
   "cell_type": "markdown",
   "metadata": {},
   "source": [
    "## Output CT\n"
   ]
  },
  {
   "cell_type": "code",
   "execution_count": null,
   "metadata": {},
   "outputs": [],
   "source": [
    "con.sql(\n",
    "    \"\"\"--sql\n",
    "select\n",
    "    *\n",
    "from\n",
    "    ct\n",
    "limit 3\n",
    "\"\"\"\n",
    ").pl().pipe(display)\n",
    "\n",
    "if overwrite_cellar_tracker:\n",
    "    con.sql(\n",
    "        \"\"\"--sql\n",
    "        copy (\n",
    "            select\n",
    "                pk,\n",
    "                size,\n",
    "                vintage,\n",
    "                wine,\n",
    "                locale,\n",
    "                country,\n",
    "                region,\n",
    "                subregion,\n",
    "                appellation,\n",
    "                producer,\n",
    "                type,\n",
    "                color,\n",
    "                category,\n",
    "                varietal\n",
    "            from\n",
    "                ct\n",
    "        ) to '/Users/jonathan/mres_thesis/database_etl/data/clean_cellar_tracker.parquet' (format parquet)\n",
    "        \"\"\"\n",
    "    )\n"
   ]
  },
  {
   "cell_type": "markdown",
   "metadata": {},
   "source": [
    "# Results\n",
    "\n",
    "In the end we have ended up with a cleaned sample tracker table that is able to join to the metadata in cellar tracker:"
   ]
  },
  {
   "cell_type": "code",
   "execution_count": null,
   "metadata": {},
   "outputs": [],
   "source": [
    "con.sql(\n",
    "    \"\"\"--sql\n",
    "select\n",
    "    'total st count' as table,\n",
    "    (select count(*) from st) as count\n",
    "union\n",
    "select\n",
    "    'inner join st to ct' as table,\n",
    "    count(*) as count\n",
    "from\n",
    "    st\n",
    "inner join\n",
    "    ct\n",
    "on\n",
    "    st.wine = ct.wine\n",
    "and\n",
    "    st.vintage = ct.vintage\n",
    "union\n",
    "select\n",
    "    'entries in excluded table' as table,\n",
    "    (select count(*) from excluded) as count\n",
    "\"\"\"\n",
    ").pl().pipe(display)\n",
    "con.close()\n",
    "del con\n"
   ]
  },
  {
   "cell_type": "markdown",
   "metadata": {},
   "source": [
    "out of 190 entries, 175 have corresponding cellartracker metadata, and 15 are missing entries."
   ]
  },
  {
   "cell_type": "markdown",
   "metadata": {},
   "source": [
    "The sample tracker names have been cleaned up, and the original has been updated, enabling joins between ct and st. I Have elected to keep the original locally in this dir. Rather than using the code above as a basis, I will keep it isolated and recreate the tables in a core database, including the `excluded` table, which will then be based on an anti join between st and ct on the vintage + wine."
   ]
  }
 ],
 "metadata": {
  "kernelspec": {
   "display_name": "database-etl-SYkgHnDq-py3.12",
   "language": "python",
   "name": "python3"
  },
  "language_info": {
   "codemirror_mode": {
    "name": "ipython",
    "version": 3
   },
   "file_extension": ".py",
   "mimetype": "text/x-python",
   "name": "python",
   "nbconvert_exporter": "python",
   "pygments_lexer": "ipython3",
   "version": "3.12.2"
  }
 },
 "nbformat": 4,
 "nbformat_minor": 2
}
