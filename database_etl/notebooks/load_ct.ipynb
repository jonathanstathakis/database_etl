{
 "cells": [
  {
   "cell_type": "markdown",
   "metadata": {},
   "source": [
    "---\n",
    "title: CT to DB\n",
    "description: write the clean CT to the db subset to the raw samples.\n",
    "project: database_etl\n",
    "status: open\n",
    "conclusion: \"\"\n",
    "---\n"
   ]
  },
  {
   "cell_type": "code",
   "execution_count": null,
   "metadata": {},
   "outputs": [],
   "source": [
    "from database_etl.definitions import DB_PATH, DATA_DIR\n",
    "import duckdb as db\n",
    "\n",
    "overwrite: bool = False\n",
    "con = db.connect(DB_PATH)\n",
    "\n",
    "clean_ct_path = DATA_DIR / \"clean_cellar_tracker.parquet\""
   ]
  },
  {
   "cell_type": "code",
   "execution_count": null,
   "metadata": {},
   "outputs": [],
   "source": [
    "def create_ct(con: db.DuckDBPyConnection) -> None:\n",
    "    con.sql(\n",
    "        f\"\"\"--sql\n",
    "        create table ct (\n",
    "            pk integer primary key,\n",
    "            size varchar NOT NULL,\n",
    "            vintage integer NOT NULL,\n",
    "            wine varchar NOT NULL,\n",
    "            locale varchar NOT NULL,\n",
    "            country varchar NOT NULL,\n",
    "            region varchar NOT NULL,\n",
    "            subregion varchar NOT NULL,\n",
    "            appellation varchar NOT NULL,\n",
    "            producer varchar NOT NULL,\n",
    "            type varchar NOT NULL,\n",
    "            color varchar NOT NULL,\n",
    "            category varchar NOT NULL,\n",
    "            varietal varchar NOT NULL,\n",
    "        );\n",
    "        insert into ct\n",
    "            select\n",
    "                *\n",
    "            from\n",
    "                read_parquet('{clean_ct_path}')\n",
    "        \"\"\"\n",
    "    )\n",
    "\n",
    "\n",
    "def load_ct(con: db.DuckDBPyConnection, overwrite: bool = False):\n",
    "    if overwrite:\n",
    "        try:\n",
    "            load_ct(con=con)\n",
    "        except db.CatalogException as e:\n",
    "            con.close()\n",
    "            del con\n",
    "            raise e\n",
    "\n",
    "\n",
    "con.close()\n",
    "del con"
   ]
  }
 ],
 "metadata": {
  "kernelspec": {
   "display_name": "database-etl-SYkgHnDq-py3.12",
   "language": "python",
   "name": "python3"
  },
  "language_info": {
   "codemirror_mode": {
    "name": "ipython",
    "version": 3
   },
   "file_extension": ".py",
   "mimetype": "text/x-python",
   "name": "python",
   "nbconvert_exporter": "python",
   "pygments_lexer": "ipython3",
   "version": "3.12.2"
  }
 },
 "nbformat": 4,
 "nbformat_minor": 2
}
