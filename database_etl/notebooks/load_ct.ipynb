{
 "cells": [
  {
   "cell_type": "markdown",
   "metadata": {},
   "source": [
    "---\n",
    "title: CT to DB\n",
    "description: write the clean CT to the db subset to the raw samples.\n",
    "project: database_etl\n",
    "status: open\n",
    "conclusion: \"\"\n",
    "---\n"
   ]
  },
  {
   "cell_type": "code",
   "execution_count": 4,
   "metadata": {},
   "outputs": [
    {
     "name": "stdout",
     "output_type": "stream",
     "text": [
      "ct already in db\n"
     ]
    },
    {
     "data": {
      "text/html": [
       "<div><style>\n",
       ".dataframe > thead > tr,\n",
       ".dataframe > tbody > tr {\n",
       "  text-align: right;\n",
       "  white-space: pre-wrap;\n",
       "}\n",
       "</style>\n",
       "<small>shape: (1, 1)</small><table border=\"1\" class=\"dataframe\"><thead><tr><th>name</th></tr><tr><td>str</td></tr></thead><tbody><tr><td>&quot;ct&quot;</td></tr></tbody></table></div>"
      ],
      "text/plain": [
       "shape: (1, 1)\n",
       "┌──────┐\n",
       "│ name │\n",
       "│ ---  │\n",
       "│ str  │\n",
       "╞══════╡\n",
       "│ ct   │\n",
       "└──────┘"
      ]
     },
     "metadata": {},
     "output_type": "display_data"
    },
    {
     "data": {
      "text/html": [
       "<div><style>\n",
       ".dataframe > thead > tr,\n",
       ".dataframe > tbody > tr {\n",
       "  text-align: right;\n",
       "  white-space: pre-wrap;\n",
       "}\n",
       "</style>\n",
       "<small>shape: (5, 15)</small><table border=\"1\" class=\"dataframe\"><thead><tr><th>pk</th><th>wine_key</th><th>size</th><th>vintage</th><th>wine</th><th>locale</th><th>country</th><th>region</th><th>subregion</th><th>appellation</th><th>producer</th><th>type</th><th>color</th><th>category</th><th>varietal</th></tr><tr><td>i32</td><td>str</td><td>str</td><td>i32</td><td>str</td><td>str</td><td>str</td><td>str</td><td>str</td><td>str</td><td>str</td><td>str</td><td>str</td><td>str</td><td>str</td></tr></thead><tbody><tr><td>1</td><td>&quot;2020 agricola punica montessu …</td><td>&quot;750ml&quot;</td><td>2020</td><td>&quot;agricola punica montessu isola…</td><td>&quot;italy, sardinia, isola dei nur…</td><td>&quot;italy&quot;</td><td>&quot;sardinia&quot;</td><td>&quot;unknown&quot;</td><td>&quot;isola dei nuraghi igt&quot;</td><td>&quot;agricola punica&quot;</td><td>&quot;red&quot;</td><td>&quot;red&quot;</td><td>&quot;dry&quot;</td><td>&quot;carignan blend&quot;</td></tr><tr><td>2</td><td>&quot;2022 alkina grenache kin&quot;</td><td>&quot;750ml&quot;</td><td>2022</td><td>&quot;alkina grenache kin&quot;</td><td>&quot;australia, south australia, ba…</td><td>&quot;australia&quot;</td><td>&quot;south australia&quot;</td><td>&quot;barossa&quot;</td><td>&quot;barossa&quot;</td><td>&quot;alkina&quot;</td><td>&quot;red&quot;</td><td>&quot;red&quot;</td><td>&quot;dry&quot;</td><td>&quot;grenache&quot;</td></tr><tr><td>3</td><td>&quot;2017 anna maria abbona barolo&quot;</td><td>&quot;750ml&quot;</td><td>2017</td><td>&quot;anna maria abbona barolo&quot;</td><td>&quot;italy, piedmont, langhe, barol…</td><td>&quot;italy&quot;</td><td>&quot;piedmont&quot;</td><td>&quot;langhe&quot;</td><td>&quot;barolo&quot;</td><td>&quot;anna maria abbona&quot;</td><td>&quot;red&quot;</td><td>&quot;red&quot;</td><td>&quot;dry&quot;</td><td>&quot;nebbiolo&quot;</td></tr><tr><td>4</td><td>&quot;2016 anna maria abbona barolo …</td><td>&quot;750ml&quot;</td><td>2016</td><td>&quot;anna maria abbona barolo bricc…</td><td>&quot;italy, piedmont, langhe, barol…</td><td>&quot;italy&quot;</td><td>&quot;piedmont&quot;</td><td>&quot;langhe&quot;</td><td>&quot;barolo&quot;</td><td>&quot;anna maria abbona&quot;</td><td>&quot;red&quot;</td><td>&quot;red&quot;</td><td>&quot;dry&quot;</td><td>&quot;nebbiolo&quot;</td></tr><tr><td>5</td><td>&quot;2019 domaine des ardoisieres a…</td><td>&quot;750ml&quot;</td><td>2019</td><td>&quot;domaine des ardoisieres argile…</td><td>&quot;france, savoie, vin des allobr…</td><td>&quot;france&quot;</td><td>&quot;savoie&quot;</td><td>&quot;unknown&quot;</td><td>&quot;vin des allobroges&quot;</td><td>&quot;domaine des ardoisières&quot;</td><td>&quot;red&quot;</td><td>&quot;red&quot;</td><td>&quot;dry&quot;</td><td>&quot;gamay&quot;</td></tr></tbody></table></div>"
      ],
      "text/plain": [
       "shape: (5, 15)\n",
       "┌─────┬───────────────────────────┬───────┬─────────┬───┬──────┬───────┬──────────┬────────────────┐\n",
       "│ pk  ┆ wine_key                  ┆ size  ┆ vintage ┆ … ┆ type ┆ color ┆ category ┆ varietal       │\n",
       "│ --- ┆ ---                       ┆ ---   ┆ ---     ┆   ┆ ---  ┆ ---   ┆ ---      ┆ ---            │\n",
       "│ i32 ┆ str                       ┆ str   ┆ i32     ┆   ┆ str  ┆ str   ┆ str      ┆ str            │\n",
       "╞═════╪═══════════════════════════╪═══════╪═════════╪═══╪══════╪═══════╪══════════╪════════════════╡\n",
       "│ 1   ┆ 2020 agricola punica      ┆ 750ml ┆ 2020    ┆ … ┆ red  ┆ red   ┆ dry      ┆ carignan blend │\n",
       "│     ┆ montessu …                ┆       ┆         ┆   ┆      ┆       ┆          ┆                │\n",
       "│ 2   ┆ 2022 alkina grenache kin  ┆ 750ml ┆ 2022    ┆ … ┆ red  ┆ red   ┆ dry      ┆ grenache       │\n",
       "│ 3   ┆ 2017 anna maria abbona    ┆ 750ml ┆ 2017    ┆ … ┆ red  ┆ red   ┆ dry      ┆ nebbiolo       │\n",
       "│     ┆ barolo                    ┆       ┆         ┆   ┆      ┆       ┆          ┆                │\n",
       "│ 4   ┆ 2016 anna maria abbona    ┆ 750ml ┆ 2016    ┆ … ┆ red  ┆ red   ┆ dry      ┆ nebbiolo       │\n",
       "│     ┆ barolo …                  ┆       ┆         ┆   ┆      ┆       ┆          ┆                │\n",
       "│ 5   ┆ 2019 domaine des          ┆ 750ml ┆ 2019    ┆ … ┆ red  ┆ red   ┆ dry      ┆ gamay          │\n",
       "│     ┆ ardoisieres a…            ┆       ┆         ┆   ┆      ┆       ┆          ┆                │\n",
       "└─────┴───────────────────────────┴───────┴─────────┴───┴──────┴───────┴──────────┴────────────────┘"
      ]
     },
     "execution_count": 4,
     "metadata": {},
     "output_type": "execute_result"
    },
    {
     "ename": "",
     "evalue": "",
     "output_type": "error",
     "traceback": [
      "\u001b[1;31mThe Kernel crashed while executing code in the current cell or a previous cell. \n",
      "\u001b[1;31mPlease review the code in the cell(s) to identify a possible cause of the failure. \n",
      "\u001b[1;31mClick <a href='https://aka.ms/vscodeJupyterKernelCrash'>here</a> for more info. \n",
      "\u001b[1;31mView Jupyter <a href='command:jupyter.viewOutput'>log</a> for further details."
     ]
    }
   ],
   "source": [
    "%reload_ext autoreload\n",
    "%autoreload 2\n",
    "\n",
    "from database_etl.etl.sql.ct import get_clean_ct\n",
    "from database_etl.definitions import DB_PATH, DATA_DIR\n",
    "import duckdb as db\n",
    "\n",
    "overwrite: bool = False\n",
    "con = db.connect(DB_PATH)\n",
    "un = \"OctaneOolong\"\n",
    "pw = \"S74rg4z3r1\"\n",
    "try:\n",
    "    get_clean_ct(un=un, pw=pw, output=\"db\", con=con)\n",
    "except db.CatalogException as e:\n",
    "    print(\"ct already in db\")\n",
    "    con.sql(\n",
    "        \"\"\"--sql\n",
    "    show tables\n",
    "    \"\"\"\n",
    "    ).pl().pipe(display)\n",
    "\n",
    "\n",
    "con.sql(\n",
    "    \"\"\"--sql\n",
    "select\n",
    "    *\n",
    "from\n",
    "    ct\n",
    "limit 5\n",
    "\"\"\"\n",
    ").pl()\n"
   ]
  }
 ],
 "metadata": {
  "kernelspec": {
   "display_name": "database-etl-SYkgHnDq-py3.12",
   "language": "python",
   "name": "python3"
  },
  "language_info": {
   "codemirror_mode": {
    "name": "ipython",
    "version": 3
   },
   "file_extension": ".py",
   "mimetype": "text/x-python",
   "name": "python",
   "nbconvert_exporter": "python",
   "pygments_lexer": "ipython3",
   "version": "3.12.2"
  }
 },
 "nbformat": 4,
 "nbformat_minor": 2
}
