{
 "cells": [
  {
   "cell_type": "markdown",
   "metadata": {},
   "source": [
    "---\n",
    "title: CT to DB\n",
    "description: write the clean CT to the db subset to the raw samples.\n",
    "project: database_etl\n",
    "status: open\n",
    "conclusion: \"\"\n",
    "---\n"
   ]
  },
  {
   "cell_type": "code",
   "execution_count": null,
   "metadata": {},
   "outputs": [],
   "source": [
    "%reload_ext autoreload\n",
    "%autoreload 2\n",
    "\n",
    "from database_etl.etl.sql.ct import get_clean_ct\n",
    "from database_etl.definitions import DB_PATH\n",
    "import duckdb as db\n",
    "\n",
    "overwrite: bool = False\n",
    "con = db.connect(DB_PATH)\n",
    "un = \"OctaneOolong\"\n",
    "pw = \"S74rg4z3r1\"\n",
    "try:\n",
    "    get_clean_ct(un=un, pw=pw, output=\"db\", con=con)\n",
    "except db.CatalogException:\n",
    "    print(\"ct already in db\")\n",
    "    con.sql(\n",
    "        \"\"\"--sql\n",
    "    show tables\n",
    "    \"\"\"\n",
    "    ).pl().pipe(display)\n",
    "\n",
    "\n",
    "con.sql(\n",
    "    \"\"\"--sql\n",
    "select\n",
    "    *\n",
    "from\n",
    "    ct\n",
    "limit 5\n",
    "\"\"\"\n",
    ").pl()\n"
   ]
  }
 ],
 "metadata": {
  "kernelspec": {
   "display_name": "database-etl-SYkgHnDq-py3.12",
   "language": "python",
   "name": "python3"
  },
  "language_info": {
   "codemirror_mode": {
    "name": "ipython",
    "version": 3
   },
   "file_extension": ".py",
   "mimetype": "text/x-python",
   "name": "python",
   "nbconvert_exporter": "python",
   "pygments_lexer": "ipython3",
   "version": "3.12.2"
  }
 },
 "nbformat": 4,
 "nbformat_minor": 2
}
