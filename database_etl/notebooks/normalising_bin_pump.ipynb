{
 "cells": [
  {
   "cell_type": "markdown",
   "metadata": {},
   "source": [
    "---\n",
    "cdt: 2024-09-15T14:57:44\n",
    "title: Normalising `bin_pump`\n",
    "description: \"the `bin_pump` schema tables are a mess and need normalisation in order to extract useful information such as the gradients\"\n",
    "conclusion: \"`solvcomps` and `timetables` were rearranged into `pump_mech_params`, `solvents` and `solvprop_over_time`, with the latter containing the gradient elution program. Useless or superfluous columns were removed\"\n",
    "status: closed\n",
    "project: database_architecture\n",
    "dependency: '[Extracting Binary Pump Tables](./extracting_binary_pump_tables.ipynb)'\n",
    "---"
   ]
  },
  {
   "cell_type": "code",
   "execution_count": null,
   "metadata": {},
   "outputs": [],
   "source": [
    "# environment\n",
    "\n",
    "%reload_ext autoreload\n",
    "%autoreload 2\n",
    "\n",
    "import duckdb as db\n",
    "import polars as pl\n",
    "from database_etl.definitions import DB_PATH\n",
    "\n",
    "pl.Config.set_fmt_str_lengths(9999)\n",
    "pl.Config.set_tbl_rows(9999)\n",
    "con = db.connect(DB_PATH)"
   ]
  },
  {
   "cell_type": "markdown",
   "metadata": {},
   "source": [
    "# Describing `bin_pump`"
   ]
  },
  {
   "cell_type": "markdown",
   "metadata": {},
   "source": [
    "`bin_pump` consists of three tables: `id`, `solvcomps`, and `timetables`. `id` contains a primary key `id` and a unique column `num` which is the destined foreign key for the columns in `timetables` and `solvcomps`. However, the corresponding `num` columns are not physically constrained because they are stored in wide form with duplicate rows. One goal of this exercise is to convert the columns to wide form so that constraints can be correctly enacted."
   ]
  },
  {
   "cell_type": "code",
   "execution_count": null,
   "metadata": {},
   "outputs": [],
   "source": [
    "con.sql(\n",
    "    \"\"\"--sql\n",
    "show tables\n",
    "\"\"\"\n",
    ").pl()"
   ]
  },
  {
   "cell_type": "code",
   "execution_count": null,
   "metadata": {},
   "outputs": [],
   "source": [
    "con.sql(\n",
    "    \"\"\"--sql\n",
    "SELECT 'solvcomps' as table_name, * FROM (DESCRIBE solvcomps)\n",
    "UNION\n",
    "SELECT 'timetables' as table_name, * FROM (DESCRIBE timetables)\n",
    "\"\"\"\n",
    ").pl()"
   ]
  },
  {
   "cell_type": "markdown",
   "metadata": {},
   "source": [
    "Ok so at least id has the primary key constraint..\n",
    "\n",
    "I assume this is because I stored them as wide tables?"
   ]
  },
  {
   "cell_type": "markdown",
   "metadata": {},
   "source": [
    "As we can see, in all cases solvent A is water, and solvent B is methanol."
   ]
  },
  {
   "cell_type": "code",
   "execution_count": null,
   "metadata": {},
   "outputs": [],
   "source": [
    "con.sql(\n",
    "    \"\"\"--sql\n",
    "SELECT\n",
    "    *\n",
    "FROM\n",
    "    timetables\n",
    "LIMIT 3\n",
    "\"\"\"\n",
    ").pl()"
   ]
  },
  {
   "cell_type": "markdown",
   "metadata": {},
   "source": [
    "# Normalizing 'bin_pump'\n"
   ]
  },
  {
   "cell_type": "markdown",
   "metadata": {},
   "source": [
    "## Timetables\n"
   ]
  },
  {
   "cell_type": "markdown",
   "metadata": {},
   "source": [
    "'a', and 'b' have different values for each row corresponding to which channel is the subject, but flow and pressure are general to both, according to the time. Thus 'flow' and 'pressure' should be moved to their own table."
   ]
  },
  {
   "cell_type": "code",
   "execution_count": null,
   "metadata": {},
   "outputs": [],
   "source": [
    "con.sql(\n",
    "    \"\"\"--sql\n",
    "describe timetables\n",
    "\"\"\"\n",
    ").pl()"
   ]
  },
  {
   "cell_type": "markdown",
   "metadata": {},
   "source": [
    "### Table: `pump_mech_params`\n"
   ]
  },
  {
   "cell_type": "markdown",
   "metadata": {},
   "source": [
    "Now the mechanical parameters 'flow' and 'pressure' can be moved to their own table, 'pump_mech_params'"
   ]
  },
  {
   "cell_type": "code",
   "execution_count": null,
   "metadata": {},
   "outputs": [],
   "source": [
    "con.sql(\n",
    "    \"\"\"--sql\n",
    "select\n",
    "    *\n",
    "from\n",
    "    timetables\n",
    "order by pk, idx\n",
    "limit\n",
    "    5\n",
    "\"\"\"\n",
    ").pl()"
   ]
  },
  {
   "cell_type": "code",
   "execution_count": null,
   "metadata": {},
   "outputs": [],
   "source": [
    "def create_pump_mech_params(\n",
    "    con: db.DuckDBPyConnection, overwrite: bool = False\n",
    ") -> None:\n",
    "    if overwrite:\n",
    "        con.execute(\n",
    "            \"\"\"--sql\n",
    "            drop table if exists bin_pump_mech_params;\n",
    "            \"\"\"\n",
    "        )\n",
    "    con.execute(\n",
    "        \"\"\"--sql\n",
    "    create or replace table bin_pump_mech_params (\n",
    "    pk INTEGER primary key references chm(pk),\n",
    "    flow FLOAT,\n",
    "    pressure FLOAT,\n",
    "    );\n",
    "    insert into bin_pump_mech_params\n",
    "        select\n",
    "            distinct pk,\n",
    "            flow,\n",
    "            pressure\n",
    "        from\n",
    "            timetables\n",
    "        order by\n",
    "            pk;\n",
    "    \"\"\"\n",
    "    )\n",
    "\n",
    "\n",
    "try:\n",
    "    create_pump_mech_params(con=con, overwrite=True)\n",
    "except db.ConstraintException as e:\n",
    "    con.close()\n",
    "    del con\n",
    "    raise e\n",
    "\n",
    "con.sql(\n",
    "    \"\"\"--sql\n",
    "select\n",
    "    *\n",
    "from\n",
    "    bin_pump_mech_params\n",
    "limit 5\n",
    "\"\"\"\n",
    ").pl()"
   ]
  },
  {
   "cell_type": "markdown",
   "metadata": {},
   "source": [
    "then we can create another table specific to the channels.."
   ]
  },
  {
   "cell_type": "markdown",
   "metadata": {},
   "source": [
    "### Table: `channels`\n"
   ]
  },
  {
   "cell_type": "code",
   "execution_count": null,
   "metadata": {},
   "outputs": [],
   "source": [
    "con.sql(\n",
    "    \"\"\"--sql\n",
    "select * from timetables limit 5\n",
    "\"\"\"\n",
    ").pl()"
   ]
  },
  {
   "cell_type": "code",
   "execution_count": null,
   "metadata": {},
   "outputs": [],
   "source": [
    "def create_channels(\n",
    "    con: db.DuckDBPyConnection,\n",
    ") -> None:\n",
    "    con.sql(\n",
    "        \"\"\"--sql\n",
    "    CREATE OR REPLACE TABLE\n",
    "    channels (\n",
    "        pk integer references chm(pk),\n",
    "        time double not null,\n",
    "        channel varchar not null,\n",
    "        percent double not null,\n",
    "        primary key (pk, time, channel)\n",
    "    );\n",
    "    insert into channels\n",
    "        unpivot (\n",
    "            select\n",
    "                pk,\n",
    "                time,\n",
    "                a,\n",
    "                b,\n",
    "            from\n",
    "                timetables\n",
    "                )\n",
    "        on\n",
    "            a, b\n",
    "        into\n",
    "            name\n",
    "                channel\n",
    "            value\n",
    "                percent\n",
    "        order by\n",
    "            pk,\n",
    "            time,\n",
    "            channel\n",
    "\"\"\"\n",
    "    )\n",
    "\n",
    "\n",
    "create_channels(con=con)\n",
    "\n",
    "con.sql(\n",
    "    \"\"\"--sql\n",
    "select\n",
    "    *\n",
    "from\n",
    "    channels\n",
    "limit 5\n",
    "\"\"\"\n",
    ").pl()"
   ]
  },
  {
   "cell_type": "markdown",
   "metadata": {},
   "source": [
    "Thus the columns in `timetables` have been better organised."
   ]
  },
  {
   "cell_type": "markdown",
   "metadata": {},
   "source": [
    "## Solvcomps"
   ]
  },
  {
   "cell_type": "markdown",
   "metadata": {},
   "source": [
    "Now can we do the same to solvcomps?"
   ]
  },
  {
   "cell_type": "markdown",
   "metadata": {},
   "source": [
    "Well, ch2, or channel 2 is not used, i dont believe it is ever used, so we can drop 'ch2_solv', 'selected', 'name_2'. Also, if that is the case, then 'used', and 'selected' are redundent.\n"
   ]
  },
  {
   "cell_type": "code",
   "execution_count": null,
   "metadata": {},
   "outputs": [],
   "source": [
    "con.sql(\n",
    "    \"\"\"--sql\n",
    "SELECT\n",
    "    *\n",
    "FROM\n",
    "    solvcomps\n",
    "LIMIT\n",
    "    5\n",
    "\"\"\"\n",
    ").pl()"
   ]
  },
  {
   "cell_type": "code",
   "execution_count": null,
   "metadata": {},
   "outputs": [],
   "source": [
    "con.sql(\n",
    "    \"\"\"--sql\n",
    "SELECT\n",
    "    'selected' as col,\n",
    "    unique_vals\n",
    "FROM (\n",
    "    SELECT\n",
    "        distinct selected as unique_vals\n",
    "    FROM\n",
    "        solvcomps\n",
    "        )\n",
    "UNION\n",
    "SELECT\n",
    "    'used' as col,\n",
    "    unique_vals\n",
    "FROM (\n",
    "    SELECT\n",
    "        distinct used as unique_vals\n",
    "    FROM\n",
    "        solvcomps\n",
    ")\n",
    "UNION\n",
    "SELECT\n",
    "    'name_1' as col,\n",
    "    unique_vals\n",
    "FROM (\n",
    "    SELECT\n",
    "        distinct name_1 as unique_vals\n",
    "    FROM\n",
    "        solvcomps\n",
    "        )\n",
    "UNION\n",
    "SELECT\n",
    "    'name_2' as col,\n",
    "    unique_vals\n",
    "FROM (\n",
    "    SELECT\n",
    "        distinct name_2 as unique_vals\n",
    "    FROM\n",
    "        solvcomps\n",
    "        )\n",
    "\n",
    "\"\"\"\n",
    ").pl()"
   ]
  },
  {
   "cell_type": "markdown",
   "metadata": {},
   "source": [
    "so we can remove those columns without worry.\n"
   ]
  },
  {
   "cell_type": "markdown",
   "metadata": {},
   "source": [
    "So we've now got two forms of information, one repeated redundently - ch1_solv, and percent.\n",
    "\n",
    "Moving ch1_solv into its own table would be advisable."
   ]
  },
  {
   "cell_type": "markdown",
   "metadata": {},
   "source": [
    "### Table: `solvents`\n"
   ]
  },
  {
   "cell_type": "code",
   "execution_count": null,
   "metadata": {},
   "outputs": [],
   "source": [
    "def create_solvents(con: db.DuckDBPyConnection) -> None:\n",
    "    con.execute(\n",
    "        \"\"\"--sql\n",
    "    CREATE OR REPLACE TABLE solvents (\n",
    "        pk integer primary key references chm(pk),\n",
    "        a varchar,\n",
    "        b varchar,\n",
    "    );\n",
    "    insert into solvents\n",
    "        pivot\n",
    "            (select\n",
    "                pk,\n",
    "                lower(channel) as channel,\n",
    "                ch1_solv\n",
    "            from\n",
    "                solvcomps\n",
    "                )\n",
    "        on\n",
    "            channel\n",
    "        using\n",
    "            first(ch1_solv)\n",
    "        order by\n",
    "            pk\n",
    "    \"\"\"\n",
    "    )\n",
    "\n",
    "\n",
    "create_solvents(con=con)\n",
    "\n",
    "con.execute(\n",
    "    \"\"\"--sql\n",
    "SELECT\n",
    "    *\n",
    "FROM\n",
    "    solvents\n",
    "LIMIT\n",
    "    5\n",
    "\"\"\"\n",
    ").pl()"
   ]
  },
  {
   "cell_type": "code",
   "execution_count": null,
   "metadata": {},
   "outputs": [],
   "source": [
    "con.sql(\n",
    "    \"\"\"--sql\n",
    "show tables\n",
    "\"\"\"\n",
    ").pl()"
   ]
  },
  {
   "cell_type": "markdown",
   "metadata": {},
   "source": [
    "## Combining `channels` and `zero_percents` into `solvprop_over_time`\n"
   ]
  },
  {
   "cell_type": "markdown",
   "metadata": {},
   "source": [
    "Finally, the initial proportions of A and B should be added to the 'channels' table, providing us with a zero time value. "
   ]
  },
  {
   "cell_type": "markdown",
   "metadata": {},
   "source": [
    "Then the zero percents can be added to the timetable..\n"
   ]
  },
  {
   "cell_type": "code",
   "execution_count": null,
   "metadata": {},
   "outputs": [],
   "source": [
    "def load_solvprop_over_time(\n",
    "    con: db.DuckDBPyConnection, overwrite: bool = False\n",
    ") -> None:\n",
    "    if overwrite:\n",
    "        con.execute(\n",
    "            \"\"\"--sql\n",
    "        drop table if exists solvprop_over_time;\n",
    "        \"\"\"\n",
    "        )\n",
    "    con.execute(\n",
    "        \"\"\"--sql\n",
    "        CREATE TABLE solvprop_over_time (\n",
    "            pk integer references chm(pk),\n",
    "            time double,\n",
    "            channel varchar,\n",
    "            percent double,\n",
    "            primary key (pk, time, channel)\n",
    "        );\n",
    "\n",
    "        INSERT INTO solvprop_over_time (\n",
    "            with solvcomp_subset as (\n",
    "            select\n",
    "                pk,\n",
    "                CAST(0 as double) as time,\n",
    "                lower(channel) as channel,\n",
    "                percent\n",
    "            FROM\n",
    "                solvcomps\n",
    "            ORDER BY\n",
    "                pk,\n",
    "                time,\n",
    "                channel\n",
    "            )\n",
    "            select\n",
    "                pk,\n",
    "                time,\n",
    "                channel,\n",
    "                percent\n",
    "            from channels\n",
    "            UNION\n",
    "                select\n",
    "                    pk,\n",
    "                    time,\n",
    "                    channel,\n",
    "                    percent\n",
    "                from\n",
    "                    solvcomp_subset\n",
    "            )\n",
    "        \"\"\"\n",
    "    )\n",
    "\n",
    "    if not con.execute(\n",
    "        \"\"\"--sql\n",
    "    select\n",
    "        *\n",
    "    from\n",
    "        solvprop_over_time\n",
    "    \"\"\"\n",
    "    ).fetchall():\n",
    "        raise ValueError(\"after insert query, solvprop_over_time is empty\")\n",
    "\n",
    "\n",
    "def create_solvprop_over_time(\n",
    "    con: db.DuckDBPyConnection, overwrite: bool = False\n",
    ") -> None:\n",
    "    load_solvprop_over_time(con=con, overwrite=overwrite)\n",
    "\n",
    "    con.sql(\n",
    "        \"\"\"--sql\n",
    "    DROP TABLE if exists channels;\n",
    "    \"\"\"\n",
    "    )\n",
    "\n",
    "\n",
    "create_solvprop_over_time(con=con, overwrite=True)\n",
    "\n",
    "con.execute(\n",
    "    \"\"\"--sql\n",
    "select * from solvprop_over_time limit 5\n",
    "\"\"\"\n",
    ").pl().pipe(display)\n",
    "\n",
    "#"
   ]
  },
  {
   "cell_type": "code",
   "execution_count": null,
   "metadata": {},
   "outputs": [],
   "source": [
    "con.execute(\n",
    "    \"\"\"--sql\n",
    "select\n",
    "    *\n",
    "from\n",
    "    solvprop_over_time\n",
    "order by\n",
    "    pk,\n",
    "    time,\n",
    "    channel\n",
    "limit 10\n",
    "\"\"\"\n",
    ").pl().pipe(display)\n",
    "\n",
    "con.sql(\n",
    "    \"\"\"--sql\n",
    "show tables\n",
    "\"\"\"\n",
    ").pl().pipe(display)\n",
    "con.close()\n",
    "del con"
   ]
  },
  {
   "cell_type": "markdown",
   "metadata": {},
   "source": [
    "# Conclusion\n",
    "\n",
    "so we started with three tables:\n",
    "\n",
    "1. `timetables`\n",
    "2. `solvcomps`\n",
    "3. `id`\n",
    "\n",
    "The table `timetables` was decomposed into: `pump_mech_params`, which contains the flow and pressure of each sample run; and `channels`, containing the percent change in solvent composition over time. `solvcomps` was decomposed into:  `solvents`, containing the label of the solvent in each channel; and `zero_percents`, the proportions of the solvents at the zero point, which was combined with `channels` to form `timetable`, the complete solvent composition change over time for the elution. Thus the final tables are `pump_mech_params`, `solvents`, and `solvprop_over_time`"
   ]
  }
 ],
 "metadata": {
  "kernelspec": {
   "display_name": "database-etl-SYkgHnDq-py3.12",
   "language": "python",
   "name": "python3"
  },
  "language_info": {
   "codemirror_mode": {
    "name": "ipython",
    "version": 3
   },
   "file_extension": ".py",
   "mimetype": "text/x-python",
   "name": "python",
   "nbconvert_exporter": "python",
   "pygments_lexer": "ipython3",
   "version": "3.12.2"
  }
 },
 "nbformat": 4,
 "nbformat_minor": 2
}
