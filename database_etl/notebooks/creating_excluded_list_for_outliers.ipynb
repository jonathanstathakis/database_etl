{
 "cells": [
  {
   "cell_type": "markdown",
   "metadata": {},
   "source": [
    "---\n",
    "title: creating excluded list for outliers\n",
    "description: 'while observing outliers it was deemed prudent to create a list of runs to be excluded from the core dataset during development, while retaining them for perhaps later reclaimation. To this end a `excluded` table was created, and a `inc_` `chm` and `img_stats` tbls were created as the subset of the respective master tables without the excluded runs.'\n",
    "---\n"
   ]
  },
  {
   "cell_type": "code",
   "execution_count": 1,
   "metadata": {},
   "outputs": [
    {
     "data": {
      "text/plain": [
       "95"
      ]
     },
     "execution_count": 1,
     "metadata": {},
     "output_type": "execute_result"
    }
   ],
   "source": [
    "%reload_ext autoreload\n",
    "%autoreload 2\n",
    "\n",
    "import duckdb as db\n",
    "import polars as pl\n",
    "from database_etl.definitions import DB_PATH, RAW_DATA_LIB\n",
    "\n",
    "pl.Config.set_fmt_str_lengths(9999)\n",
    "pl.Config.set_tbl_rows(9999)\n",
    "con = db.connect(DB_PATH)\n",
    "\n",
    "image_files = list(RAW_DATA_LIB.glob(\"*.D/extract_*/data.parquet\"))\n",
    "len(image_files)\n"
   ]
  },
  {
   "cell_type": "code",
   "execution_count": 2,
   "metadata": {},
   "outputs": [
    {
     "data": {
      "text/html": [
       "<div><style>\n",
       ".dataframe > thead > tr,\n",
       ".dataframe > tbody > tr {\n",
       "  text-align: right;\n",
       "  white-space: pre-wrap;\n",
       "}\n",
       "</style>\n",
       "<small>shape: (16, 1)</small><table border=\"1\" class=\"dataframe\"><thead><tr><th>name</th></tr><tr><td>str</td></tr></thead><tbody><tr><td>&quot;bin_pump_mech_params&quot;</td></tr><tr><td>&quot;chm&quot;</td></tr><tr><td>&quot;counts_per_gradient&quot;</td></tr><tr><td>&quot;ct&quot;</td></tr><tr><td>&quot;excluded&quot;</td></tr><tr><td>&quot;gradients&quot;</td></tr><tr><td>&quot;image_stats&quot;</td></tr><tr><td>&quot;inc_chm&quot;</td></tr><tr><td>&quot;inc_img_stats&quot;</td></tr><tr><td>&quot;raw_gradients_3_17&quot;</td></tr><tr><td>&quot;sequences&quot;</td></tr><tr><td>&quot;solvcomps&quot;</td></tr><tr><td>&quot;solvents&quot;</td></tr><tr><td>&quot;solvprop_over_time&quot;</td></tr><tr><td>&quot;st&quot;</td></tr><tr><td>&quot;timetables&quot;</td></tr></tbody></table></div>"
      ],
      "text/plain": [
       "shape: (16, 1)\n",
       "┌──────────────────────┐\n",
       "│ name                 │\n",
       "│ ---                  │\n",
       "│ str                  │\n",
       "╞══════════════════════╡\n",
       "│ bin_pump_mech_params │\n",
       "│ chm                  │\n",
       "│ counts_per_gradient  │\n",
       "│ ct                   │\n",
       "│ excluded             │\n",
       "│ gradients            │\n",
       "│ image_stats          │\n",
       "│ inc_chm              │\n",
       "│ inc_img_stats        │\n",
       "│ raw_gradients_3_17   │\n",
       "│ sequences            │\n",
       "│ solvcomps            │\n",
       "│ solvents             │\n",
       "│ solvprop_over_time   │\n",
       "│ st                   │\n",
       "│ timetables           │\n",
       "└──────────────────────┘"
      ]
     },
     "execution_count": 2,
     "metadata": {},
     "output_type": "execute_result"
    }
   ],
   "source": [
    "con.sql(\n",
    "    \"\"\"--sql\n",
    "show tables\n",
    "\"\"\"\n",
    ").pl()\n"
   ]
  },
  {
   "cell_type": "code",
   "execution_count": 3,
   "metadata": {},
   "outputs": [
    {
     "data": {
      "text/html": [
       "<div><style>\n",
       ".dataframe > thead > tr,\n",
       ".dataframe > tbody > tr {\n",
       "  text-align: right;\n",
       "  white-space: pre-wrap;\n",
       "}\n",
       "</style>\n",
       "<small>shape: (5, 13)</small><table border=\"1\" class=\"dataframe\"><thead><tr><th>pk</th><th>nm_min</th><th>nm_max</th><th>nm_count</th><th>mins_min</th><th>mins_max</th><th>mins_count</th><th>abs_min</th><th>abs_max</th><th>abs_argmin</th><th>abs_argmax</th><th>hertz</th><th>path</th></tr><tr><td>i32</td><td>i32</td><td>i32</td><td>i32</td><td>f32</td><td>f32</td><td>i32</td><td>f32</td><td>f32</td><td>f32</td><td>f32</td><td>f32</td><td>str</td></tr></thead><tbody><tr><td>1</td><td>190</td><td>400</td><td>108</td><td>0.0</td><td>51.993332</td><td>7800</td><td>-0.850804</td><td>120.102951</td><td>6451.0</td><td>363.0</td><td>2.5</td><td>&quot;/Users/jonathan/mres_thesis/database_etl/database_etl/data/raw_uv/114.D/extract_2024-09-18T212559/data.parquet&quot;</td></tr><tr><td>2</td><td>190</td><td>400</td><td>108</td><td>0.0</td><td>51.993332</td><td>7800</td><td>-0.102453</td><td>76.580238</td><td>80.0</td><td>382.0</td><td>2.5</td><td>&quot;/Users/jonathan/mres_thesis/database_etl/database_etl/data/raw_uv/050.D/extract_2024-09-18T212559/data.parquet&quot;</td></tr><tr><td>3</td><td>190</td><td>400</td><td>108</td><td>0.0</td><td>51.993332</td><td>7800</td><td>-0.025488</td><td>10.178044</td><td>6503.0</td><td>358.0</td><td>2.5</td><td>&quot;/Users/jonathan/mres_thesis/database_etl/database_etl/data/raw_uv/092.D/extract_2024-09-18T212600/data.parquet&quot;</td></tr><tr><td>5</td><td>190</td><td>400</td><td>108</td><td>0.0</td><td>51.993332</td><td>7800</td><td>-1.709029</td><td>424.393982</td><td>6487.0</td><td>392.0</td><td>2.5</td><td>&quot;/Users/jonathan/mres_thesis/database_etl/database_etl/data/raw_uv/010.D/extract_2024-09-18T212601/data.parquet&quot;</td></tr><tr><td>6</td><td>190</td><td>400</td><td>108</td><td>0.0</td><td>51.993332</td><td>7800</td><td>-0.863835</td><td>142.42746</td><td>6452.0</td><td>369.0</td><td>2.5</td><td>&quot;/Users/jonathan/mres_thesis/database_etl/database_etl/data/raw_uv/110.D/extract_2024-09-18T212602/data.parquet&quot;</td></tr></tbody></table></div>"
      ],
      "text/plain": [
       "shape: (5, 13)\n",
       "┌─────┬────────┬────────┬──────────┬───┬────────────┬────────────┬───────┬─────────────────────────┐\n",
       "│ pk  ┆ nm_min ┆ nm_max ┆ nm_count ┆ … ┆ abs_argmin ┆ abs_argmax ┆ hertz ┆ path                    │\n",
       "│ --- ┆ ---    ┆ ---    ┆ ---      ┆   ┆ ---        ┆ ---        ┆ ---   ┆ ---                     │\n",
       "│ i32 ┆ i32    ┆ i32    ┆ i32      ┆   ┆ f32        ┆ f32        ┆ f32   ┆ str                     │\n",
       "╞═════╪════════╪════════╪══════════╪═══╪════════════╪════════════╪═══════╪═════════════════════════╡\n",
       "│ 1   ┆ 190    ┆ 400    ┆ 108      ┆ … ┆ 6451.0     ┆ 363.0      ┆ 2.5   ┆ /Users/jonathan/mres_th │\n",
       "│     ┆        ┆        ┆          ┆   ┆            ┆            ┆       ┆ esis/database_etl/datab │\n",
       "│     ┆        ┆        ┆          ┆   ┆            ┆            ┆       ┆ ase_etl/data/raw_uv/114 │\n",
       "│     ┆        ┆        ┆          ┆   ┆            ┆            ┆       ┆ .D/extract_2024-09-18T2 │\n",
       "│     ┆        ┆        ┆          ┆   ┆            ┆            ┆       ┆ 12559/data.parquet      │\n",
       "│ 2   ┆ 190    ┆ 400    ┆ 108      ┆ … ┆ 80.0       ┆ 382.0      ┆ 2.5   ┆ /Users/jonathan/mres_th │\n",
       "│     ┆        ┆        ┆          ┆   ┆            ┆            ┆       ┆ esis/database_etl/datab │\n",
       "│     ┆        ┆        ┆          ┆   ┆            ┆            ┆       ┆ ase_etl/data/raw_uv/050 │\n",
       "│     ┆        ┆        ┆          ┆   ┆            ┆            ┆       ┆ .D/extract_2024-09-18T2 │\n",
       "│     ┆        ┆        ┆          ┆   ┆            ┆            ┆       ┆ 12559/data.parquet      │\n",
       "│ 3   ┆ 190    ┆ 400    ┆ 108      ┆ … ┆ 6503.0     ┆ 358.0      ┆ 2.5   ┆ /Users/jonathan/mres_th │\n",
       "│     ┆        ┆        ┆          ┆   ┆            ┆            ┆       ┆ esis/database_etl/datab │\n",
       "│     ┆        ┆        ┆          ┆   ┆            ┆            ┆       ┆ ase_etl/data/raw_uv/092 │\n",
       "│     ┆        ┆        ┆          ┆   ┆            ┆            ┆       ┆ .D/extract_2024-09-18T2 │\n",
       "│     ┆        ┆        ┆          ┆   ┆            ┆            ┆       ┆ 12600/data.parquet      │\n",
       "│ 5   ┆ 190    ┆ 400    ┆ 108      ┆ … ┆ 6487.0     ┆ 392.0      ┆ 2.5   ┆ /Users/jonathan/mres_th │\n",
       "│     ┆        ┆        ┆          ┆   ┆            ┆            ┆       ┆ esis/database_etl/datab │\n",
       "│     ┆        ┆        ┆          ┆   ┆            ┆            ┆       ┆ ase_etl/data/raw_uv/010 │\n",
       "│     ┆        ┆        ┆          ┆   ┆            ┆            ┆       ┆ .D/extract_2024-09-18T2 │\n",
       "│     ┆        ┆        ┆          ┆   ┆            ┆            ┆       ┆ 12601/data.parquet      │\n",
       "│ 6   ┆ 190    ┆ 400    ┆ 108      ┆ … ┆ 6452.0     ┆ 369.0      ┆ 2.5   ┆ /Users/jonathan/mres_th │\n",
       "│     ┆        ┆        ┆          ┆   ┆            ┆            ┆       ┆ esis/database_etl/datab │\n",
       "│     ┆        ┆        ┆          ┆   ┆            ┆            ┆       ┆ ase_etl/data/raw_uv/110 │\n",
       "│     ┆        ┆        ┆          ┆   ┆            ┆            ┆       ┆ .D/extract_2024-09-18T2 │\n",
       "│     ┆        ┆        ┆          ┆   ┆            ┆            ┆       ┆ 12602/data.parquet      │\n",
       "└─────┴────────┴────────┴──────────┴───┴────────────┴────────────┴───────┴─────────────────────────┘"
      ]
     },
     "execution_count": 3,
     "metadata": {},
     "output_type": "execute_result"
    }
   ],
   "source": [
    "con.sql(\n",
    "    \"\"\"--sql\n",
    "select * from image_stats limit 5\n",
    "\"\"\"\n",
    ").pl()\n"
   ]
  },
  {
   "cell_type": "code",
   "execution_count": 4,
   "metadata": {},
   "outputs": [
    {
     "data": {
      "text/html": [
       "<div><style>\n",
       ".dataframe > thead > tr,\n",
       ".dataframe > tbody > tr {\n",
       "  text-align: right;\n",
       "  white-space: pre-wrap;\n",
       "}\n",
       "</style>\n",
       "<small>shape: (3, 1)</small><table border=\"1\" class=\"dataframe\"><thead><tr><th>mins_max</th></tr><tr><td>f32</td></tr></thead><tbody><tr><td>51.993332</td></tr><tr><td>52.0</td></tr><tr><td>13.906667</td></tr></tbody></table></div>"
      ],
      "text/plain": [
       "shape: (3, 1)\n",
       "┌───────────┐\n",
       "│ mins_max  │\n",
       "│ ---       │\n",
       "│ f32       │\n",
       "╞═══════════╡\n",
       "│ 51.993332 │\n",
       "│ 52.0      │\n",
       "│ 13.906667 │\n",
       "└───────────┘"
      ]
     },
     "execution_count": 4,
     "metadata": {},
     "output_type": "execute_result"
    }
   ],
   "source": [
    "con.sql(\n",
    "    \"\"\"--sql\n",
    "select distinct mins_max from image_stats\n",
    "\"\"\"\n",
    ").pl()\n"
   ]
  },
  {
   "cell_type": "code",
   "execution_count": 6,
   "metadata": {},
   "outputs": [
    {
     "data": {
      "text/html": [
       "<div><style>\n",
       ".dataframe > thead > tr,\n",
       ".dataframe > tbody > tr {\n",
       "  text-align: right;\n",
       "  white-space: pre-wrap;\n",
       "}\n",
       "</style>\n",
       "<small>shape: (1, 23)</small><table border=\"1\" class=\"dataframe\"><thead><tr><th>pk</th><th>nm_min</th><th>nm_max</th><th>nm_count</th><th>mins_min</th><th>mins_max</th><th>mins_count</th><th>abs_min</th><th>abs_max</th><th>abs_argmin</th><th>abs_argmax</th><th>hertz</th><th>path</th><th>samplecode</th><th>pk_st</th><th>acq_date</th><th>acq_method</th><th>inj_vol</th><th>seq_name</th><th>vialnum</th><th>originalfilepath</th><th>id</th><th>description</th></tr><tr><td>i32</td><td>i32</td><td>i32</td><td>i32</td><td>f32</td><td>f32</td><td>i32</td><td>f32</td><td>f32</td><td>f32</td><td>f32</td><td>f32</td><td>str</td><td>str</td><td>i32</td><td>datetime[μs]</td><td>str</td><td>f32</td><td>str</td><td>str</td><td>str</td><td>str</td><td>str</td></tr></thead><tbody><tr><td>61</td><td>190</td><td>400</td><td>108</td><td>0.0</td><td>13.906667</td><td>2087</td><td>-0.118241</td><td>206.584457</td><td>96.0</td><td>369.0</td><td>2.5</td><td>&quot;/Users/jonathan/mres_thesis/database_etl/database_etl/data/raw_uv/2023-02-22_2021-DEBORTOLI-CABERNET-MERLOT_AVANTOR.D/extract_2024-09-18T212625/data.parquet&quot;</td><td>&quot;2021-debortoli-cabernet-merlot_avantor&quot;</td><td>72</td><td>2023-02-22 16:10:39</td><td>&quot;avantor100x4_6c18-h2o-meoh-2_1.m&quot;</td><td>10.0</td><td>&quot;singlesample&quot;</td><td>&quot;Vial 1&quot;</td><td>&quot;c:\\chem32\\1\\data\\0_jono_data&quot;</td><td>&quot;6d8a370a-9f40-460d-acba-99fd4c287ad8&quot;</td><td>&quot;halo 150 x \n",
       "4.6 c18 h2o meoh 2.1%  gradient&quot;</td></tr></tbody></table></div>"
      ],
      "text/plain": [
       "shape: (1, 23)\n",
       "┌─────┬────────┬────────┬──────────┬───┬─────────┬────────────────┬────────────────┬───────────────┐\n",
       "│ pk  ┆ nm_min ┆ nm_max ┆ nm_count ┆ … ┆ vialnum ┆ originalfilepa ┆ id             ┆ description   │\n",
       "│ --- ┆ ---    ┆ ---    ┆ ---      ┆   ┆ ---     ┆ th             ┆ ---            ┆ ---           │\n",
       "│ i32 ┆ i32    ┆ i32    ┆ i32      ┆   ┆ str     ┆ ---            ┆ str            ┆ str           │\n",
       "│     ┆        ┆        ┆          ┆   ┆         ┆ str            ┆                ┆               │\n",
       "╞═════╪════════╪════════╪══════════╪═══╪═════════╪════════════════╪════════════════╪═══════════════╡\n",
       "│ 61  ┆ 190    ┆ 400    ┆ 108      ┆ … ┆ Vial 1  ┆ c:\\chem32\\1\\da ┆ 6d8a370a-9f40- ┆ halo 150 x    │\n",
       "│     ┆        ┆        ┆          ┆   ┆         ┆ ta\\0_jono_data ┆ 460d-acba-99fd ┆ 4.6 c18 h2o   │\n",
       "│     ┆        ┆        ┆          ┆   ┆         ┆                ┆ 4c287ad8       ┆ meoh 2.1%     │\n",
       "│     ┆        ┆        ┆          ┆   ┆         ┆                ┆                ┆ gradient      │\n",
       "└─────┴────────┴────────┴──────────┴───┴─────────┴────────────────┴────────────────┴───────────────┘"
      ]
     },
     "execution_count": 6,
     "metadata": {},
     "output_type": "execute_result"
    }
   ],
   "source": [
    "def find_time_outliers(con: db.DuckDBPyConnection, time_cutoff: float) -> pl.DataFrame:\n",
    "    \"\"\"\n",
    "    return a pl df containing samples whose right side of time dim interval is less\n",
    "    than `time_cutoff`\n",
    "    \"\"\"\n",
    "    return con.execute(\n",
    "        \"\"\"--sql\n",
    "    select\n",
    "        *\n",
    "    from\n",
    "        image_stats\n",
    "    join\n",
    "        chm\n",
    "    on\n",
    "        image_stats.pk = chm.pk\n",
    "    where\n",
    "        mins_max < ?\n",
    "    \"\"\",\n",
    "        parameters=[time_cutoff],\n",
    "    ).pl()\n",
    "\n",
    "\n",
    "find_time_outliers(con=con, time_cutoff=20)\n"
   ]
  },
  {
   "cell_type": "markdown",
   "metadata": {},
   "source": [
    "# Creating Excluded Table and Adding Sample 20.\n"
   ]
  },
  {
   "cell_type": "code",
   "execution_count": null,
   "metadata": {},
   "outputs": [],
   "source": [
    "def create_excluded_tbl(con: db.DuckDBPyConnection) -> None:\n",
    "    con.sql(\n",
    "        \"\"\"--sql\n",
    "    create or replace table excluded (\n",
    "        pk integer primary key references chm(pk),\n",
    "        samplecode varchar unique not null,\n",
    "        reason varchar not null\n",
    "    );\n",
    "    \"\"\"\n",
    "    ).pl()\n",
    "\n",
    "\n",
    "def add_61_to_excluded(con: db.DuckDBPyConnection) -> None:\n",
    "    \"\"\"\n",
    "    As shown in `find_time_outliers`, sample `pk` = 61 is an aborted run with a runtime\n",
    "    of 14 seconds, and is to be added to the excluded list.\n",
    "    \"\"\"\n",
    "    con.sql(\n",
    "        \"\"\"--sql\n",
    "        insert into excluded\n",
    "            select\n",
    "                pk,\n",
    "                samplecode,\n",
    "                'aborted run' as reason\n",
    "            from\n",
    "                chm\n",
    "            where\n",
    "                pk = 61;\n",
    "        \"\"\"\n",
    "    )\n",
    "\n",
    "\n",
    "def create_inc_chm_view(con: db.DuckDBPyConnection) -> None:\n",
    "    \"\"\"\n",
    "    creates a view consisting of the anti join of chm and excluded, resulting in the set\n",
    "    of runs deemed includable in downstream analyses.\n",
    "    \"\"\"\n",
    "    con.sql(\"\"\"--sql\n",
    "    create or replace view inc_chm as\n",
    "        select\n",
    "            *\n",
    "        from\n",
    "            chm\n",
    "        anti join\n",
    "            excluded\n",
    "        on\n",
    "            excluded.pk = chm.pk;\n",
    "    \"\"\")\n",
    "\n",
    "\n",
    "create_excluded_tbl(con=con)\n",
    "add_61_to_excluded(con=con)\n",
    "create_inc_chm_view(con=con)\n"
   ]
  },
  {
   "cell_type": "code",
   "execution_count": null,
   "metadata": {},
   "outputs": [],
   "source": [
    "con.sql(\n",
    "    \"\"\"--sql\n",
    "describe excluded\n",
    "\"\"\"\n",
    ").pl()\n"
   ]
  },
  {
   "cell_type": "markdown",
   "metadata": {},
   "source": [
    "# Creating Included Image Stats (`inc_img_stats`)\n"
   ]
  },
  {
   "cell_type": "code",
   "execution_count": null,
   "metadata": {},
   "outputs": [],
   "source": [
    "def create_inc_img_stats(con=con) -> None:\n",
    "    \"\"\"\n",
    "    masks `image_stats` by the difference from the `excluded` list, returning the runs\n",
    "    which are included.\n",
    "    \"\"\"\n",
    "    con.sql(\n",
    "        \"\"\"--sql\n",
    "    create or replace view inc_img_stats as\n",
    "        select\n",
    "            *\n",
    "        from\n",
    "            image_stats ist\n",
    "        anti join\n",
    "            excluded exc\n",
    "        on\n",
    "            ist.pk = exc.pk;\n",
    "    \"\"\"\n",
    "    ).pl()\n",
    "\n",
    "\n",
    "create_inc_img_stats(con=con)\n"
   ]
  },
  {
   "cell_type": "code",
   "execution_count": null,
   "metadata": {},
   "outputs": [],
   "source": [
    "# con.sql(\n",
    "#     \"\"\"--sql\n",
    "# select\n",
    "#     distinct mins_max\n",
    "# from\n",
    "#     inc_img_stats\n",
    "# \"\"\"\n",
    "# ).pl().pipe(display)\n"
   ]
  },
  {
   "cell_type": "code",
   "execution_count": null,
   "metadata": {},
   "outputs": [],
   "source": [
    "con.sql(\n",
    "    \"\"\"--sql\n",
    "describe inc_img_stats\n",
    "\"\"\"\n",
    ").pl()\n"
   ]
  },
  {
   "cell_type": "markdown",
   "metadata": {},
   "source": [
    "So when accounting for the aborted run pk = 61, all runs have the same end time - 52 mins, until the 3rd significant figure. Considering that it is one observation every 0.4 seconds, then only the first two significant figures are relevent, and thus they are the same. I presume that rounding to the second signifiant figure will make all time labels the same - this is easier than resampling."
   ]
  },
  {
   "cell_type": "code",
   "execution_count": null,
   "metadata": {},
   "outputs": [],
   "source": [
    "paths = con.sql(\n",
    "    \"\"\"--sql\n",
    "select\n",
    "    path\n",
    "from\n",
    "    inc_img_stats\n",
    "\"\"\"\n",
    ").fetchall()\n",
    "\n",
    "paths[0:5]\n"
   ]
  },
  {
   "cell_type": "code",
   "execution_count": null,
   "metadata": {},
   "outputs": [],
   "source": [
    "paths[0][0]\n"
   ]
  },
  {
   "cell_type": "code",
   "execution_count": null,
   "metadata": {},
   "outputs": [],
   "source": [
    "import pandas as pd\n",
    "\n",
    "df = pd.read_parquet(paths[0][0])\n",
    "df\n"
   ]
  },
  {
   "cell_type": "code",
   "execution_count": null,
   "metadata": {},
   "outputs": [],
   "source": [
    "pl.read_parquet(\n",
    "    \"/Users/jonathan/mres_thesis/database_etl/database_etl/data/raw_uv/114.D/extract_2024-09-18T212559/data.parquet\"\n",
    ")\n"
   ]
  },
  {
   "cell_type": "code",
   "execution_count": null,
   "metadata": {},
   "outputs": [],
   "source": [
    "df = pl.read_parquet(paths[0][0])\n",
    "df\n"
   ]
  }
 ],
 "metadata": {
  "kernelspec": {
   "display_name": "database-etl-SYkgHnDq-py3.12",
   "language": "python",
   "name": "python3"
  },
  "language_info": {
   "codemirror_mode": {
    "name": "ipython",
    "version": 3
   },
   "file_extension": ".py",
   "mimetype": "text/x-python",
   "name": "python",
   "nbconvert_exporter": "python",
   "pygments_lexer": "ipython3",
   "version": "3.12.2"
  }
 },
 "nbformat": 4,
 "nbformat_minor": 2
}
