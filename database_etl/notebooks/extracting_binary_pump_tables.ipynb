{
 "cells": [
  {
   "cell_type": "markdown",
   "metadata": {},
   "source": [
    "---\n",
    "cdt: 2024-09-13T08:36:53\n",
    "title: Extracting Binary Pump Tables\n",
    "description: Needed to get the solvent composition and timetable information from samples in order to calculate gradients. To do so I needed to create a parsing module. This notebook contains the execution code to extract those tables from the 'raw' dataset. \n",
    "conclusion: \"A module 'bin_pump_to_db' was created, with associated tests. binary pump tables can now be found in the 'bin_pump' schema.\"\n",
    "project: bin_pump_extraction\n",
    "---\n"
   ]
  },
  {
   "cell_type": "code",
   "execution_count": null,
   "metadata": {},
   "outputs": [],
   "source": [
    "# environment\n",
    "\n",
    "%reload_ext autoreload\n",
    "%autoreload 2\n",
    "from database_etl.etl.sql.raw_chm.bin_pumps_to_db import bin_pump_to_db\n",
    "\n",
    "import duckdb as db\n",
    "from database_etl.definitions import DB_PATH, DATA_DIR\n",
    "from IPython.display import Markdown\n",
    "import polars as pl\n",
    "\n",
    "pl.Config.set_tbl_rows(99)\n",
    "con = db.connect(DB_PATH)\n"
   ]
  },
  {
   "cell_type": "markdown",
   "metadata": {},
   "source": [
    "# Bin Pump Tables to DB\n",
    "\n",
    "Have created a module to extract the binary pump tables to the database.\n"
   ]
  },
  {
   "cell_type": "code",
   "execution_count": null,
   "metadata": {},
   "outputs": [],
   "source": [
    "# wine_deg_samples = Path(\n",
    "#     \"/Users/jonathan/uni/0_jono_data/wine-deg-study/raw_uv/ambient\"\n",
    "# ).glob(\"2023-04-21_A*.D\")\n",
    "\n",
    "paths = sorted(list((DATA_DIR / \"raw_uv\").glob(\"*.D\")))\n",
    "\n",
    "\n",
    "bin_pump_to_db(paths=paths, con=con, overwrite=True)\n",
    "\n",
    "display(Markdown(\"# Reports\"))\n",
    "\n",
    "# show tables in db\n",
    "con.sql(\n",
    "    \"\"\"--sql\n",
    "show tables\n",
    "\"\"\"\n",
    ").pl().pipe(display)\n",
    "\n",
    "con.sql(\n",
    "    \"\"\"--sql\n",
    "select 'timetables' as tbl, count(distinct pk) as file_count from timetables\n",
    "union\n",
    "select 'solvcomps' as tbl, count(distinct pk) as file_count from solvcomps;\n",
    "\"\"\"\n",
    ").pl()\n",
    "\n",
    "\n",
    "# show solvcomps table\n",
    "con.sql(\n",
    "    \"\"\"--sql\n",
    "SELECT\n",
    "    *\n",
    "FROM\n",
    "    solvcomps\n",
    "order by\n",
    "    pk\n",
    "LIMIT 3\n",
    "\"\"\"\n",
    ").pl().pipe(display)\n",
    "\n",
    "# show timetables table\n",
    "con.sql(\n",
    "    \"\"\"--sql\n",
    "SELECT\n",
    "    *\n",
    "FROM\n",
    "    timetables\n",
    "order by\n",
    "    pk\n",
    "LIMIT 5\n",
    "\"\"\"\n",
    ").pl().pipe(display)\n",
    "\n",
    "con.close()\n",
    "del con\n"
   ]
  },
  {
   "cell_type": "markdown",
   "metadata": {},
   "source": [
    "# Conclusion\n",
    "\n",
    "The sample binary pump data has been successfully extracted. To use the tables, join id's to the primary 'id' table then use the 'tbl_num' key to get the data from the 'solvcomps' or 'timetables' tables."
   ]
  }
 ],
 "metadata": {
  "kernelspec": {
   "display_name": "pca-analysis-6KQS4gUX-py3.12",
   "language": "python",
   "name": "python3"
  },
  "language_info": {
   "codemirror_mode": {
    "name": "ipython",
    "version": 3
   },
   "file_extension": ".py",
   "mimetype": "text/x-python",
   "name": "python",
   "nbconvert_exporter": "python",
   "pygments_lexer": "ipython3",
   "version": "3.12.2"
  }
 },
 "nbformat": 4,
 "nbformat_minor": 2
}
