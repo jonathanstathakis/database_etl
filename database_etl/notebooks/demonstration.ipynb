{
 "cells": [
  {
   "cell_type": "markdown",
   "metadata": {},
   "source": [
    "# Demonstration\n",
    "\n",
    "Demonstration of capabilities of package\n"
   ]
  },
  {
   "cell_type": "markdown",
   "metadata": {
    "vscode": {
     "languageId": "plaintext"
    }
   },
   "source": [
    "## xr Dataset\n",
    "\n",
    "\n"
   ]
  },
  {
   "cell_type": "markdown",
   "metadata": {},
   "source": [
    "First we will demonstrate how to create the xarray Dataset object."
   ]
  },
  {
   "cell_type": "code",
   "execution_count": null,
   "metadata": {},
   "outputs": [],
   "source": [
    "import xarray as xr\n",
    "import duckdb as db\n",
    "from pathlib import Path\n",
    "from database_etl import get_data, definitions, etl_pipeline_raw\n",
    "\n",
    "with db.connect() as conn:\n",
    "    etl_pipeline_raw(\n",
    "        run_extraction=False,\n",
    "        data_dir=definitions.RAW_DATA_LIB,\n",
    "        dirty_st_path=Path(definitions.DIRTY_ST_PATH),\n",
    "        ct_pw=definitions.CT_PW,\n",
    "        ct_un=definitions.CT_UN,\n",
    "        con=conn,\n",
    "        excluded_samples=definitions.EXCLUDED_RAW_SAMPLES,\n",
    "    )\n",
    "    ds = get_data(\n",
    "        output=\"xr\",\n",
    "        con=conn,\n",
    "    )\n",
    "ds\n"
   ]
  },
  {
   "cell_type": "markdown",
   "metadata": {},
   "source": [
    "Next we will show how to plot a subset, in this case all samples where varietal is shiraz at the 256 nm wavelength \n"
   ]
  },
  {
   "cell_type": "code",
   "execution_count": null,
   "metadata": {},
   "outputs": [],
   "source": [
    "ds.sel(id=ds.varietal == \"shiraz\", wavelength=\"256\").to_array().squeeze().plot.line(\n",
    "    x=\"mins\"\n",
    ")\n"
   ]
  }
 ],
 "metadata": {
  "kernelspec": {
   "display_name": "database-etl-SYkgHnDq-py3.12",
   "language": "python",
   "name": "python3"
  },
  "language_info": {
   "codemirror_mode": {
    "name": "ipython",
    "version": 3
   },
   "file_extension": ".py",
   "mimetype": "text/x-python",
   "name": "python",
   "nbconvert_exporter": "python",
   "pygments_lexer": "ipython3",
   "version": "3.12.2"
  }
 },
 "nbformat": 4,
 "nbformat_minor": 2
}
