{
 "cells": [
  {
   "cell_type": "markdown",
   "metadata": {},
   "source": [
    "---\n",
    "cdt: '2024-09-14T00:14:55'\n",
    "title: 'Division of raw samples by gradient'\n",
    "project: 'raw_dataset_EDA'\n",
    "description: 'look at division of raw samples by solvent gradient'\n",
    "status: 'closed'\n",
    "conclusion: '2 gradients within the raw dataset were identified, 2.5, with 98 samples and 3.17 ul/min with 6 samples. the 3.17 gradients were moved to 'database_etl/data/raw_uv_3.17_grad'\n",
    "dependency: '[Normalising bin_pump](./normalising_ipynb)'\n",
    "---"
   ]
  },
  {
   "cell_type": "markdown",
   "metadata": {},
   "source": [
    "Need to determine how many distinct elutions, which samples fall into which, then label them.\n"
   ]
  },
  {
   "cell_type": "code",
   "execution_count": null,
   "metadata": {},
   "outputs": [],
   "source": [
    "# environment\n",
    "\n",
    "%reload_ext autoreload\n",
    "%autoreload 2\n",
    "\n",
    "import duckdb as db\n",
    "import polars as pl\n",
    "from database_etl.definitions import DB_PATH\n",
    "\n",
    "pl.Config.set_fmt_str_lengths(9999)\n",
    "pl.Config.set_tbl_rows(9999)\n",
    "con = db.connect(DB_PATH)\n",
    "\n",
    "con.sql(\n",
    "    \"\"\"--sql\n",
    "show tables\n",
    "\"\"\"\n",
    ").pl()"
   ]
  },
  {
   "cell_type": "markdown",
   "metadata": {},
   "source": [
    "# Calculate Gradient by Sample\n",
    "\n",
    "Now that the data is organised correctly, we can easily calculate the gradients as the change from the zeroth percent to the point where channel 'b' is 100%"
   ]
  },
  {
   "cell_type": "code",
   "execution_count": null,
   "metadata": {},
   "outputs": [],
   "source": [
    "try:\n",
    "    con.sql(\n",
    "        \"\"\"--sql\n",
    "    from solvprop_over_time limit 5\n",
    "    \"\"\"\n",
    "    ).pl().pipe(display)\n",
    "except Exception as e:\n",
    "    con.close()\n",
    "    del con\n",
    "    raise e"
   ]
  },
  {
   "cell_type": "code",
   "execution_count": null,
   "metadata": {},
   "outputs": [],
   "source": [
    "con.sql(\n",
    "    \"\"\"--sql\n",
    "show tables\n",
    "\"\"\"\n",
    ").pl()"
   ]
  },
  {
   "cell_type": "code",
   "execution_count": null,
   "metadata": {},
   "outputs": [],
   "source": [
    "def calculate_gradient(con: db.DuckDBPyConnection) -> None:\n",
    "    if not con.sql(\n",
    "        \"\"\"--sql\n",
    "    select\n",
    "        *\n",
    "    from\n",
    "        solvprop_over_time\n",
    "    \"\"\"\n",
    "    ).fetchall():\n",
    "        raise ValueError(\"solvprop_over_time is empty\")\n",
    "    con.sql(\n",
    "        \"\"\"--sql\n",
    "    CREATE OR REPLACE view gradients AS (\n",
    "        select\n",
    "            pk,\n",
    "            percent_diff/time as gradient\n",
    "        from (\n",
    "            select\n",
    "                pk,\n",
    "                idx,\n",
    "                time,\n",
    "                percent,\n",
    "                percent - lag(percent) OVER (PARTITION BY pk ORDER BY idx) as percent_diff,\n",
    "                --lag(percent) as percent_shift,\n",
    "            from  (\n",
    "                select\n",
    "                pk,\n",
    "                dense_rank() OVER (partition by pk order by time) as idx,\n",
    "                time,\n",
    "                percent,\n",
    "                from\n",
    "                    solvprop_over_time\n",
    "                where\n",
    "                    channel = 'b'\n",
    "            )\n",
    "        )\n",
    "        where\n",
    "            idx = 2\n",
    "        ORDER BY\n",
    "            pk,\n",
    "            time\n",
    "    );\n",
    "    select\n",
    "        *\n",
    "    from\n",
    "        gradients\n",
    "    limit 5 \n",
    "    \"\"\"\n",
    "    ).pl().pipe(display)\n",
    "\n",
    "    if not con.sql(\n",
    "        \"\"\"--sql\n",
    "    select\n",
    "        *\n",
    "    from\n",
    "        gradients\n",
    "    \"\"\"\n",
    "    ).fetchall():\n",
    "        raise ValueError(\"gradients is empty\")\n",
    "\n",
    "\n",
    "try:\n",
    "    calculate_gradient(con=con)\n",
    "except Exception as e:\n",
    "    con.close()\n",
    "    del con\n",
    "    raise e"
   ]
  },
  {
   "cell_type": "code",
   "execution_count": null,
   "metadata": {},
   "outputs": [],
   "source": [
    "con.sql(\n",
    "    \"\"\"--sql\n",
    "create or replace view counts_per_gradient as (\n",
    "    select\n",
    "        gradient,\n",
    "        count(*) as count\n",
    "    from\n",
    "        gradients\n",
    "    group by gradient\n",
    "    order by\n",
    "        gradient\n",
    "    )\n",
    "\"\"\"\n",
    ")\n",
    "\n",
    "con.sql(\n",
    "    \"\"\"--sql\n",
    "select\n",
    "    *\n",
    "from\n",
    "    counts_per_gradient\n",
    "\"\"\"\n",
    ").pl()\n",
    "\n",
    "con.close()\n",
    "del con"
   ]
  },
  {
   "cell_type": "markdown",
   "metadata": {},
   "source": [
    "So as we can see, there are two groups, 3.167 and 2.5. Thankfully the 2.5 group includes 98 samples vs. the 6 in 3.167.\n",
    "\n",
    "Now which are in 3.167?"
   ]
  },
  {
   "cell_type": "markdown",
   "metadata": {},
   "source": [
    "So samples from 04-13 and 04-21, including the first run of the 'wine deg' project. Well that's all we need to know for now. Should add them to the excluded samples. These samples have been moved to a directory 'database_etl/data/raw_uv_3.17_grad', and can be revisited at a later time."
   ]
  },
  {
   "cell_type": "markdown",
   "metadata": {},
   "source": [
    "# Conclusion\n",
    "\n",
    "Out of the 104 raw samples, 6 were identified to be run on a different gradient, that of 3.17 ul/min, compared to the majority @ 2.5ul/min. They were moved out of the raw data library to a directory 'database_etl/data/raw_uv_3.17_grad'."
   ]
  }
 ],
 "metadata": {
  "kernelspec": {
   "display_name": "pca-analysis-6KQS4gUX-py3.12",
   "language": "python",
   "name": "python3"
  },
  "language_info": {
   "codemirror_mode": {
    "name": "ipython",
    "version": 3
   },
   "file_extension": ".py",
   "mimetype": "text/x-python",
   "name": "python",
   "nbconvert_exporter": "python",
   "pygments_lexer": "ipython3",
   "version": "3.12.2"
  }
 },
 "nbformat": 4,
 "nbformat_minor": 2
}
