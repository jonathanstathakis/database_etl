{
 "cells": [
  {
   "cell_type": "markdown",
   "metadata": {},
   "source": [
    "---\n",
    "cdt: '2024-09-14T00:14:55'\n",
    "title: 'Division of raw samples by gradient'\n",
    "project: 'raw_dataset_EDA'\n",
    "description: 'look at division of raw samples by solvent gradient'\n",
    "status: 'closed'\n",
    "conclusion: '2 gradients within the raw dataset were identified, 2.5, with 98 samples and 3.17 ul/min with 6 samples. the 3.17 gradients were moved to 'database_etl/data/raw_uv_3.17_grad'\n",
    "dependency: '[Normalising bin_pump](./normalising_ipynb)'\n",
    "---"
   ]
  },
  {
   "cell_type": "markdown",
   "metadata": {},
   "source": [
    "Need to determine how many distinct elutions, which samples fall into which, then label them.\n"
   ]
  },
  {
   "cell_type": "code",
   "execution_count": 11,
   "metadata": {},
   "outputs": [
    {
     "data": {
      "text/html": [
       "<div><style>\n",
       ".dataframe > thead > tr,\n",
       ".dataframe > tbody > tr {\n",
       "  text-align: right;\n",
       "  white-space: pre-wrap;\n",
       "}\n",
       "</style>\n",
       "<small>shape: (16, 1)</small><table border=\"1\" class=\"dataframe\"><thead><tr><th>name</th></tr><tr><td>str</td></tr></thead><tbody><tr><td>&quot;bin_pump_mech_params&quot;</td></tr><tr><td>&quot;chm&quot;</td></tr><tr><td>&quot;counts_per_gradient&quot;</td></tr><tr><td>&quot;ct&quot;</td></tr><tr><td>&quot;excluded&quot;</td></tr><tr><td>&quot;gradients&quot;</td></tr><tr><td>&quot;image_stats&quot;</td></tr><tr><td>&quot;inc_chm&quot;</td></tr><tr><td>&quot;inc_img_stats&quot;</td></tr><tr><td>&quot;raw_gradients_3_17&quot;</td></tr><tr><td>&quot;sequences&quot;</td></tr><tr><td>&quot;solvcomps&quot;</td></tr><tr><td>&quot;solvents&quot;</td></tr><tr><td>&quot;solvprop_over_time&quot;</td></tr><tr><td>&quot;st&quot;</td></tr><tr><td>&quot;timetables&quot;</td></tr></tbody></table></div>"
      ],
      "text/plain": [
       "shape: (16, 1)\n",
       "┌──────────────────────┐\n",
       "│ name                 │\n",
       "│ ---                  │\n",
       "│ str                  │\n",
       "╞══════════════════════╡\n",
       "│ bin_pump_mech_params │\n",
       "│ chm                  │\n",
       "│ counts_per_gradient  │\n",
       "│ ct                   │\n",
       "│ excluded             │\n",
       "│ gradients            │\n",
       "│ image_stats          │\n",
       "│ inc_chm              │\n",
       "│ inc_img_stats        │\n",
       "│ raw_gradients_3_17   │\n",
       "│ sequences            │\n",
       "│ solvcomps            │\n",
       "│ solvents             │\n",
       "│ solvprop_over_time   │\n",
       "│ st                   │\n",
       "│ timetables           │\n",
       "└──────────────────────┘"
      ]
     },
     "execution_count": 11,
     "metadata": {},
     "output_type": "execute_result"
    }
   ],
   "source": [
    "# environment\n",
    "\n",
    "%reload_ext autoreload\n",
    "%autoreload 2\n",
    "\n",
    "import duckdb as db\n",
    "import polars as pl\n",
    "from database_etl.definitions import DB_PATH\n",
    "\n",
    "pl.Config.set_fmt_str_lengths(9999)\n",
    "pl.Config.set_tbl_rows(9999)\n",
    "con = db.connect(DB_PATH)\n",
    "\n",
    "con.sql(\n",
    "    \"\"\"--sql\n",
    "show tables\n",
    "\"\"\"\n",
    ").pl()\n"
   ]
  },
  {
   "cell_type": "markdown",
   "metadata": {},
   "source": [
    "# Calculate Gradient by Sample\n",
    "\n",
    "Now that the data is organised correctly, we can easily calculate the gradients as the change from the zeroth percent to the point where channel 'b' is 100%"
   ]
  },
  {
   "cell_type": "code",
   "execution_count": 12,
   "metadata": {},
   "outputs": [
    {
     "data": {
      "text/html": [
       "<div><style>\n",
       ".dataframe > thead > tr,\n",
       ".dataframe > tbody > tr {\n",
       "  text-align: right;\n",
       "  white-space: pre-wrap;\n",
       "}\n",
       "</style>\n",
       "<small>shape: (5, 4)</small><table border=\"1\" class=\"dataframe\"><thead><tr><th>pk</th><th>time</th><th>channel</th><th>percent</th></tr><tr><td>i32</td><td>f64</td><td>str</td><td>f64</td></tr></thead><tbody><tr><td>1</td><td>38.0</td><td>&quot;a&quot;</td><td>0.0</td></tr><tr><td>2</td><td>40.0</td><td>&quot;a&quot;</td><td>0.0</td></tr><tr><td>3</td><td>52.0</td><td>&quot;b&quot;</td><td>5.0</td></tr><tr><td>5</td><td>40.0</td><td>&quot;b&quot;</td><td>100.0</td></tr><tr><td>5</td><td>52.0</td><td>&quot;b&quot;</td><td>5.0</td></tr></tbody></table></div>"
      ],
      "text/plain": [
       "shape: (5, 4)\n",
       "┌─────┬──────┬─────────┬─────────┐\n",
       "│ pk  ┆ time ┆ channel ┆ percent │\n",
       "│ --- ┆ ---  ┆ ---     ┆ ---     │\n",
       "│ i32 ┆ f64  ┆ str     ┆ f64     │\n",
       "╞═════╪══════╪═════════╪═════════╡\n",
       "│ 1   ┆ 38.0 ┆ a       ┆ 0.0     │\n",
       "│ 2   ┆ 40.0 ┆ a       ┆ 0.0     │\n",
       "│ 3   ┆ 52.0 ┆ b       ┆ 5.0     │\n",
       "│ 5   ┆ 40.0 ┆ b       ┆ 100.0   │\n",
       "│ 5   ┆ 52.0 ┆ b       ┆ 5.0     │\n",
       "└─────┴──────┴─────────┴─────────┘"
      ]
     },
     "metadata": {},
     "output_type": "display_data"
    }
   ],
   "source": [
    "try:\n",
    "    con.sql(\n",
    "        \"\"\"--sql\n",
    "    from solvprop_over_time limit 5\n",
    "    \"\"\"\n",
    "    ).pl().pipe(display)\n",
    "except Exception as e:\n",
    "    con.close()\n",
    "    del con\n",
    "    raise e\n"
   ]
  },
  {
   "cell_type": "code",
   "execution_count": 13,
   "metadata": {},
   "outputs": [
    {
     "data": {
      "text/html": [
       "<div><style>\n",
       ".dataframe > thead > tr,\n",
       ".dataframe > tbody > tr {\n",
       "  text-align: right;\n",
       "  white-space: pre-wrap;\n",
       "}\n",
       "</style>\n",
       "<small>shape: (16, 1)</small><table border=\"1\" class=\"dataframe\"><thead><tr><th>name</th></tr><tr><td>str</td></tr></thead><tbody><tr><td>&quot;bin_pump_mech_params&quot;</td></tr><tr><td>&quot;chm&quot;</td></tr><tr><td>&quot;counts_per_gradient&quot;</td></tr><tr><td>&quot;ct&quot;</td></tr><tr><td>&quot;excluded&quot;</td></tr><tr><td>&quot;gradients&quot;</td></tr><tr><td>&quot;image_stats&quot;</td></tr><tr><td>&quot;inc_chm&quot;</td></tr><tr><td>&quot;inc_img_stats&quot;</td></tr><tr><td>&quot;raw_gradients_3_17&quot;</td></tr><tr><td>&quot;sequences&quot;</td></tr><tr><td>&quot;solvcomps&quot;</td></tr><tr><td>&quot;solvents&quot;</td></tr><tr><td>&quot;solvprop_over_time&quot;</td></tr><tr><td>&quot;st&quot;</td></tr><tr><td>&quot;timetables&quot;</td></tr></tbody></table></div>"
      ],
      "text/plain": [
       "shape: (16, 1)\n",
       "┌──────────────────────┐\n",
       "│ name                 │\n",
       "│ ---                  │\n",
       "│ str                  │\n",
       "╞══════════════════════╡\n",
       "│ bin_pump_mech_params │\n",
       "│ chm                  │\n",
       "│ counts_per_gradient  │\n",
       "│ ct                   │\n",
       "│ excluded             │\n",
       "│ gradients            │\n",
       "│ image_stats          │\n",
       "│ inc_chm              │\n",
       "│ inc_img_stats        │\n",
       "│ raw_gradients_3_17   │\n",
       "│ sequences            │\n",
       "│ solvcomps            │\n",
       "│ solvents             │\n",
       "│ solvprop_over_time   │\n",
       "│ st                   │\n",
       "│ timetables           │\n",
       "└──────────────────────┘"
      ]
     },
     "execution_count": 13,
     "metadata": {},
     "output_type": "execute_result"
    }
   ],
   "source": [
    "con.sql(\n",
    "    \"\"\"--sql\n",
    "show tables\n",
    "\"\"\"\n",
    ").pl()\n"
   ]
  },
  {
   "cell_type": "code",
   "execution_count": 14,
   "metadata": {},
   "outputs": [
    {
     "data": {
      "text/html": [
       "<div><style>\n",
       ".dataframe > thead > tr,\n",
       ".dataframe > tbody > tr {\n",
       "  text-align: right;\n",
       "  white-space: pre-wrap;\n",
       "}\n",
       "</style>\n",
       "<small>shape: (5, 2)</small><table border=\"1\" class=\"dataframe\"><thead><tr><th>pk</th><th>gradient</th></tr><tr><td>i32</td><td>f64</td></tr></thead><tbody><tr><td>1</td><td>2.5</td></tr><tr><td>2</td><td>2.5</td></tr><tr><td>3</td><td>2.5</td></tr><tr><td>5</td><td>2.5</td></tr><tr><td>6</td><td>2.5</td></tr></tbody></table></div>"
      ],
      "text/plain": [
       "shape: (5, 2)\n",
       "┌─────┬──────────┐\n",
       "│ pk  ┆ gradient │\n",
       "│ --- ┆ ---      │\n",
       "│ i32 ┆ f64      │\n",
       "╞═════╪══════════╡\n",
       "│ 1   ┆ 2.5      │\n",
       "│ 2   ┆ 2.5      │\n",
       "│ 3   ┆ 2.5      │\n",
       "│ 5   ┆ 2.5      │\n",
       "│ 6   ┆ 2.5      │\n",
       "└─────┴──────────┘"
      ]
     },
     "metadata": {},
     "output_type": "display_data"
    }
   ],
   "source": [
    "def calculate_gradient(con: db.DuckDBPyConnection) -> None:\n",
    "    if not con.sql(\n",
    "        \"\"\"--sql\n",
    "    select\n",
    "        *\n",
    "    from\n",
    "        solvprop_over_time\n",
    "    \"\"\"\n",
    "    ).fetchall():\n",
    "        raise ValueError(\"solvprop_over_time is empty\")\n",
    "    con.sql(\n",
    "        \"\"\"--sql\n",
    "    CREATE OR REPLACE view gradients AS (\n",
    "        select\n",
    "            pk,\n",
    "            percent_diff/time as gradient\n",
    "        from (\n",
    "            select\n",
    "                pk,\n",
    "                idx,\n",
    "                time,\n",
    "                percent,\n",
    "                percent - lag(percent) OVER (PARTITION BY pk ORDER BY idx) as percent_diff,\n",
    "                --lag(percent) as percent_shift,\n",
    "            from  (\n",
    "                select\n",
    "                pk,\n",
    "                dense_rank() OVER (partition by pk order by time) as idx,\n",
    "                time,\n",
    "                percent,\n",
    "                from\n",
    "                    solvprop_over_time\n",
    "                where\n",
    "                    channel = 'b'\n",
    "            )\n",
    "        )\n",
    "        where\n",
    "            idx = 2\n",
    "        ORDER BY\n",
    "            pk,\n",
    "            time\n",
    "    );\n",
    "    select\n",
    "        *\n",
    "    from\n",
    "        gradients\n",
    "    limit 5 \n",
    "    \"\"\"\n",
    "    ).pl().pipe(display)\n",
    "\n",
    "    if not con.sql(\n",
    "        \"\"\"--sql\n",
    "    select\n",
    "        *\n",
    "    from\n",
    "        gradients\n",
    "    \"\"\"\n",
    "    ).fetchall():\n",
    "        raise ValueError(\"gradients is empty\")\n",
    "\n",
    "\n",
    "try:\n",
    "    calculate_gradient(con=con)\n",
    "except Exception as e:\n",
    "    con.close()\n",
    "    del con\n",
    "    raise e\n"
   ]
  },
  {
   "cell_type": "code",
   "execution_count": 15,
   "metadata": {},
   "outputs": [
    {
     "data": {
      "text/html": [
       "<div><style>\n",
       ".dataframe > thead > tr,\n",
       ".dataframe > tbody > tr {\n",
       "  text-align: right;\n",
       "  white-space: pre-wrap;\n",
       "}\n",
       "</style>\n",
       "<small>shape: (1, 2)</small><table border=\"1\" class=\"dataframe\"><thead><tr><th>gradient</th><th>count</th></tr><tr><td>f64</td><td>i64</td></tr></thead><tbody><tr><td>2.5</td><td>95</td></tr></tbody></table></div>"
      ],
      "text/plain": [
       "shape: (1, 2)\n",
       "┌──────────┬───────┐\n",
       "│ gradient ┆ count │\n",
       "│ ---      ┆ ---   │\n",
       "│ f64      ┆ i64   │\n",
       "╞══════════╪═══════╡\n",
       "│ 2.5      ┆ 95    │\n",
       "└──────────┴───────┘"
      ]
     },
     "metadata": {},
     "output_type": "display_data"
    }
   ],
   "source": [
    "con.sql(\n",
    "    \"\"\"--sql\n",
    "create or replace view counts_per_gradient as (\n",
    "    select\n",
    "        gradient,\n",
    "        count(*) as count\n",
    "    from\n",
    "        gradients\n",
    "    group by gradient\n",
    "    order by\n",
    "        gradient\n",
    "    )\n",
    "\"\"\"\n",
    ")\n",
    "\n",
    "con.sql(\n",
    "    \"\"\"--sql\n",
    "select\n",
    "    *\n",
    "from\n",
    "    counts_per_gradient\n",
    "\"\"\"\n",
    ").pl().pipe(display)\n",
    "\n",
    "con.close()\n",
    "del con\n"
   ]
  },
  {
   "cell_type": "markdown",
   "metadata": {},
   "source": [
    "So as we can see, there are two groups, 3.167 and 2.5. Thankfully the 2.5 group includes 98 samples vs. the 6 in 3.167.\n",
    "\n",
    "Now which are in 3.167?"
   ]
  },
  {
   "cell_type": "markdown",
   "metadata": {},
   "source": [
    "So samples from 04-13 and 04-21, including the first run of the 'wine deg' project. Well that's all we need to know for now. Should add them to the excluded samples. These samples have been moved to a directory 'database_etl/data/raw_uv_3.17_grad', and can be revisited at a later time."
   ]
  },
  {
   "cell_type": "markdown",
   "metadata": {},
   "source": [
    "# Conclusion\n",
    "\n",
    "Out of the 104 raw samples, 6 were identified to be run on a different gradient, that of 3.17 ul/min, compared to the majority @ 2.5ul/min. They were moved out of the raw data library to a directory 'database_etl/data/raw_uv_3.17_grad'."
   ]
  }
 ],
 "metadata": {
  "kernelspec": {
   "display_name": "pca-analysis-6KQS4gUX-py3.12",
   "language": "python",
   "name": "python3"
  },
  "language_info": {
   "codemirror_mode": {
    "name": "ipython",
    "version": 3
   },
   "file_extension": ".py",
   "mimetype": "text/x-python",
   "name": "python",
   "nbconvert_exporter": "python",
   "pygments_lexer": "ipython3",
   "version": "3.12.2"
  }
 },
 "nbformat": 4,
 "nbformat_minor": 2
}
