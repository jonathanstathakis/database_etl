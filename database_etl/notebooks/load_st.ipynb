{
 "cells": [
  {
   "cell_type": "markdown",
   "metadata": {},
   "source": [
    "---\n",
    "title: Raw ST to DB\n",
    "description: write the clean ST to the db subset to the raw samples.\n",
    "project: database_etl\n",
    "status: closed\n",
    "conclusion: \"new db has been created, table ST successfully written. Found that parquet files are much easier for duckdb to read than csv, advise using them as the main intermediary\"\n",
    "---"
   ]
  },
  {
   "cell_type": "code",
   "execution_count": null,
   "metadata": {},
   "outputs": [],
   "source": [
    "from database_etl.definitions import DB_PATH, DATA_DIR\n",
    "import duckdb as db\n",
    "from pathlib import Path\n",
    "\n",
    "con = db.connect(DB_PATH)\n",
    "clean_st_path = DATA_DIR / \"clean_sample_tracker.parquet\"\n",
    "overwrite: bool = True\n"
   ]
  },
  {
   "cell_type": "code",
   "execution_count": null,
   "metadata": {},
   "outputs": [],
   "source": [
    "def load_st(con: db.DuckDBPyConnection, clean_st_path: Path):\n",
    "    con.execute(\n",
    "        f\"\"\"--sql\n",
    "    create table st (\n",
    "        pk integer primary key,\n",
    "        detection varchar not null,\n",
    "        wine varchar,\n",
    "        vintage integer,\n",
    "        sampler varchar,\n",
    "        samplecode varchar not null unique,\n",
    "        open_date varchar,\n",
    "        sampled_date varchar,\n",
    "        added_to_cellartracker varchar,\n",
    "        notes varchar,\n",
    "        size float,\n",
    "    );\n",
    "    insert into st\n",
    "        select\n",
    "            *\n",
    "        from\n",
    "            read_parquet('{clean_st_path}')\n",
    "        where\n",
    "            detection = 'raw'\n",
    "            ;\n",
    "    \"\"\"\n",
    "    )\n",
    "\n",
    "\n",
    "if overwrite:\n",
    "    try:\n",
    "        con.sql(\n",
    "            \"\"\"--sql\n",
    "        drop table st cascade;\n",
    "        \"\"\"\n",
    "        )\n",
    "        load_st(con=con, clean_st_path=clean_st_path)\n",
    "    except db.CatalogException as e:\n",
    "        con.close()\n",
    "        del con\n",
    "        raise e\n",
    "\n",
    "con.sql(\n",
    "    \"\"\"--sql\n",
    "\n",
    "select\n",
    "    *\n",
    "from\n",
    "    st\n",
    "limit 3\n",
    "\"\"\"\n",
    ").pl()\n",
    "\n",
    "con.close()\n",
    "del con\n"
   ]
  }
 ],
 "metadata": {
  "kernelspec": {
   "display_name": "database-etl-SYkgHnDq-py3.12",
   "language": "python",
   "name": "python3"
  },
  "language_info": {
   "codemirror_mode": {
    "name": "ipython",
    "version": 3
   },
   "file_extension": ".py",
   "mimetype": "text/x-python",
   "name": "python",
   "nbconvert_exporter": "python",
   "pygments_lexer": "ipython3",
   "version": "3.12.2"
  }
 },
 "nbformat": 4,
 "nbformat_minor": 2
}
