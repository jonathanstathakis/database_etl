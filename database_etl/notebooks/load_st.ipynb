{
 "cells": [
  {
   "cell_type": "markdown",
   "metadata": {},
   "source": [
    "---\n",
    "title: Raw ST to DB\n",
    "description: write the clean ST to the db subset to the raw samples.\n",
    "project: database_etl\n",
    "status: closed\n",
    "conclusion: \"new db has been created, table ST successfully written. Found that parquet files are much easier for duckdb to read than csv, advise using them as the main intermediary\"\n",
    "---"
   ]
  },
  {
   "cell_type": "code",
   "execution_count": 1,
   "metadata": {},
   "outputs": [
    {
     "ename": "IOException",
     "evalue": "IO Error: Could not set lock on file \"/Users/jonathan/mres_thesis/database_etl/database_etl/wine2.db\": Conflicting lock is held in /Users/jonathan/.pyenv/versions/3.12.2/bin/python3.12 (PID 54667) by user jonathan. See also https://duckdb.org/docs/connect/concurrency",
     "output_type": "error",
     "traceback": [
      "\u001b[0;31m---------------------------------------------------------------------------\u001b[0m",
      "\u001b[0;31mIOException\u001b[0m                               Traceback (most recent call last)",
      "\u001b[1;32m/Users/jonathan/mres_thesis/database_etl/database_etl/notebooks/load_st.ipynb Cell 2\u001b[0m line \u001b[0;36m5\n\u001b[1;32m      <a href='vscode-notebook-cell:/Users/jonathan/mres_thesis/database_etl/database_etl/notebooks/load_st.ipynb#W1sZmlsZQ%3D%3D?line=1'>2</a>\u001b[0m \u001b[39mimport\u001b[39;00m \u001b[39mduckdb\u001b[39;00m \u001b[39mas\u001b[39;00m \u001b[39mdb\u001b[39;00m\n\u001b[1;32m      <a href='vscode-notebook-cell:/Users/jonathan/mres_thesis/database_etl/database_etl/notebooks/load_st.ipynb#W1sZmlsZQ%3D%3D?line=2'>3</a>\u001b[0m \u001b[39mfrom\u001b[39;00m \u001b[39mpathlib\u001b[39;00m \u001b[39mimport\u001b[39;00m Path\n\u001b[0;32m----> <a href='vscode-notebook-cell:/Users/jonathan/mres_thesis/database_etl/database_etl/notebooks/load_st.ipynb#W1sZmlsZQ%3D%3D?line=4'>5</a>\u001b[0m con \u001b[39m=\u001b[39m db\u001b[39m.\u001b[39;49mconnect(DB_PATH)\n\u001b[1;32m      <a href='vscode-notebook-cell:/Users/jonathan/mres_thesis/database_etl/database_etl/notebooks/load_st.ipynb#W1sZmlsZQ%3D%3D?line=5'>6</a>\u001b[0m clean_st_path \u001b[39m=\u001b[39m DATA_DIR \u001b[39m/\u001b[39m \u001b[39m\"\u001b[39m\u001b[39mclean_sample_tracker.parquet\u001b[39m\u001b[39m\"\u001b[39m\n\u001b[1;32m      <a href='vscode-notebook-cell:/Users/jonathan/mres_thesis/database_etl/database_etl/notebooks/load_st.ipynb#W1sZmlsZQ%3D%3D?line=6'>7</a>\u001b[0m overwrite: \u001b[39mbool\u001b[39m \u001b[39m=\u001b[39m \u001b[39mTrue\u001b[39;00m\n",
      "\u001b[0;31mIOException\u001b[0m: IO Error: Could not set lock on file \"/Users/jonathan/mres_thesis/database_etl/database_etl/wine2.db\": Conflicting lock is held in /Users/jonathan/.pyenv/versions/3.12.2/bin/python3.12 (PID 54667) by user jonathan. See also https://duckdb.org/docs/connect/concurrency"
     ]
    }
   ],
   "source": [
    "from database_etl.definitions import DB_PATH, DATA_DIR\n",
    "import duckdb as db\n",
    "from pathlib import Path\n",
    "\n",
    "con = db.connect(DB_PATH)\n",
    "clean_st_path = DATA_DIR / \"clean_sample_tracker.parquet\"\n",
    "overwrite: bool = True\n"
   ]
  },
  {
   "cell_type": "code",
   "execution_count": null,
   "metadata": {},
   "outputs": [],
   "source": [
    "def load_st(con: db.DuckDBPyConnection, clean_st_path: Path):\n",
    "    con.execute(\n",
    "        f\"\"\"--sql\n",
    "    create table st (\n",
    "        pk integer primary key,\n",
    "        detection varchar not null,\n",
    "        wine varchar,\n",
    "        vintage integer,\n",
    "        sampler varchar,\n",
    "        samplecode varchar not null unique,\n",
    "        open_date varchar,\n",
    "        sampled_date varchar,\n",
    "        added_to_cellartracker varchar,\n",
    "        notes varchar,\n",
    "        size float,\n",
    "    );\n",
    "    insert into st\n",
    "        select\n",
    "            *\n",
    "        from\n",
    "            read_parquet('{clean_st_path}')\n",
    "        where\n",
    "            detection = 'raw'\n",
    "            ;\n",
    "    \"\"\"\n",
    "    )\n",
    "\n",
    "\n",
    "if overwrite:\n",
    "    try:\n",
    "        con.sql(\n",
    "            \"\"\"--sql\n",
    "        drop table st cascade;\n",
    "        \"\"\"\n",
    "        )\n",
    "        load_st(con=con, clean_st_path=clean_st_path)\n",
    "    except db.CatalogException as e:\n",
    "        con.close()\n",
    "        del con\n",
    "        raise e\n",
    "\n",
    "con.sql(\n",
    "    \"\"\"--sql\n",
    "\n",
    "select\n",
    "    *\n",
    "from\n",
    "    st\n",
    "limit 3\n",
    "\"\"\"\n",
    ").pl()\n",
    "\n",
    "con.close()\n",
    "del con\n"
   ]
  }
 ],
 "metadata": {
  "kernelspec": {
   "display_name": "database-etl-SYkgHnDq-py3.12",
   "language": "python",
   "name": "python3"
  },
  "language_info": {
   "codemirror_mode": {
    "name": "ipython",
    "version": 3
   },
   "file_extension": ".py",
   "mimetype": "text/x-python",
   "name": "python",
   "nbconvert_exporter": "python",
   "pygments_lexer": "ipython3",
   "version": "3.12.2"
  }
 },
 "nbformat": 4,
 "nbformat_minor": 2
}
